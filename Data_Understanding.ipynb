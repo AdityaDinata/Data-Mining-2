{
  "nbformat": 4,
  "nbformat_minor": 0,
  "metadata": {
    "colab": {
      "provenance": []
    },
    "kernelspec": {
      "name": "python3",
      "display_name": "Python 3"
    },
    "language_info": {
      "name": "python"
    }
  },
  "cells": [
    {
      "cell_type": "markdown",
      "source": [
        "# **Analisis Performa Hero dalam kejuaraan M5 World Championship**"
      ],
      "metadata": {
        "id": "h3AZjxo2ZxS6"
      }
    },
    {
      "cell_type": "markdown",
      "source": [
        "#**Import Library**"
      ],
      "metadata": {
        "id": "JNBmfbIjWxgM"
      }
    },
    {
      "cell_type": "code",
      "source": [
        "import pandas as pd\n",
        "import matplotlib.pyplot as plt\n",
        "import seaborn as sns\n",
        "import numpy as np\n",
        "import plotly.express as px\n",
        "import plotly.graph_objects as go\n",
        "from plotly.subplots import make_subplots"
      ],
      "metadata": {
        "id": "JsnHJGLtW06a"
      },
      "execution_count": 56,
      "outputs": []
    },
    {
      "cell_type": "markdown",
      "source": [
        "#**BUSINESS UNDERSTANDING**"
      ],
      "metadata": {
        "id": "NjuQhrNyZtm3"
      }
    },
    {
      "cell_type": "markdown",
      "source": [
        "##**Business Objective**"
      ],
      "metadata": {
        "id": "qzSZy2KwZ4zx"
      }
    },
    {
      "cell_type": "markdown",
      "source": [
        "M5 World Championship adalah kejuaraan Mobile Legends Bang Bang (MLBB) tertinggi di dunia, yang sering dijadikan tolok ukur bagi para pemain MLBB. Analisis ini bertujuan untuk memberikan wawasan tentang performa hero di kejuaraan M5 agar para pemain MLBB dapat memilih hero dengan lebih baik.\n",
        "\n"
      ],
      "metadata": {
        "id": "hU2-bH_KZ8Ge"
      }
    },
    {
      "cell_type": "markdown",
      "source": [
        "##**Assess Situation**"
      ],
      "metadata": {
        "id": "3dTYY-qjZ_Yz"
      }
    },
    {
      "cell_type": "markdown",
      "source": [
        "Pertumbuhan pesat industri e-sports dan popularitas MLBB membuat para pemain semakin tertarik untuk memahami hero dan tren meta di level kompetisi tingkat dunia. Namun, kurangnya pemahaman yang mendalam tentang kinerja hero dan tren meta di M5 World Championship menjadi hambatan bagi para pemain dalam membuat keputusan strategis dalam permainan."
      ],
      "metadata": {
        "id": "3mI7ZTjDaGnC"
      }
    },
    {
      "cell_type": "markdown",
      "source": [
        "##**Data Mining Goals**"
      ],
      "metadata": {
        "id": "Tqvpt5r-aJKs"
      }
    },
    {
      "cell_type": "markdown",
      "source": [
        "1. **Menganalisis Kinerja Hero:** Meneliti kinerja berbagai hero yang digunakan dalam M5 World Championship untuk mengidentifikasi hero yang efektif dan populer.\n",
        "\n",
        "2. **Menganalisis Meta Permainan:** Memeriksa tren meta permainan yang dominan dalam M5 World Championship untuk memberikan wawasan tentang strategi dan gaya bermain yang efektif.\n",
        "\n",
        "3. **Memberikan Rekomendasi kepada Pemain:** Memberikan rekomendasi kepada pemain MLBB tentang pilihan hero berdasarkan kinerja mereka di M5 World Championship.\n",
        "\n",
        "4. **Membantu Pemain dalam Pengambilan Keputusan:** Membantu pemain MLBB dalam membuat keputusan strategis dalam pemilihan hero dan gaya bermain mereka dengan menyediakan informasi yang relevan tentang kinerja hero dan tren meta permainan."
      ],
      "metadata": {
        "id": "GXsyNC0zaO-o"
      }
    },
    {
      "cell_type": "markdown",
      "source": [
        "##**Project Plan**"
      ],
      "metadata": {
        "id": "78Yvo7Q9aRTt"
      }
    },
    {
      "cell_type": "markdown",
      "source": [
        "1. **Data Collection**: Mengumpulkan data kinerja hero dari sumber terpercaya, seperti statistik pick, win, dan loss.\n",
        "2. **Data Preprocessing**: Membersihkan dan mempersiapkan data untuk analisis dengan menghilangkan entri yang tidak relevan atau tidak lengkap.\n",
        "3. **Exploratory Data Analysis (EDA)**: Mengeksplorasi distribusi, tren, dan pola kinerja hero melalui visualisasi data.\n",
        "4. **Advanced Analysis**: Melakukan analisis lebih lanjut untuk mengidentifikasi hero dominan dan tren strategi yang efektif.\n",
        "5. **Visualization**: Membuat visualisasi untuk menyajikan hasil analisis dengan jelas dan mudah dimengerti.\n",
        "6. **Documentation**: Mendokumentasikan metodologi, temuan, dan rekomendasi dalam sebuah laporan.\n",
        "7. **Validation and Iteration**: Melakukan validasi hasil analisis dan iterasi tambahan jika diperlukan untuk memastikan kualitas dan keakuratan analisis."
      ],
      "metadata": {
        "id": "H0uheBdyaUfH"
      }
    },
    {
      "cell_type": "markdown",
      "source": [
        "#**DATA UNDERSTANDING**"
      ],
      "metadata": {
        "id": "8yFrLpBtZXuy"
      }
    },
    {
      "cell_type": "markdown",
      "source": [
        "##**Collect Initial Data**"
      ],
      "metadata": {
        "id": "tjm5LzEuT0oe"
      }
    },
    {
      "cell_type": "markdown",
      "source": [
        "Data ini berisi statistik hero yang digunakan di M5 World Championship\n",
        "Sumber dari data ini kagle https://www.kaggle.com/datasets/myudak/m5-world-championship"
      ],
      "metadata": {
        "id": "SsIGird1UBw8"
      }
    },
    {
      "cell_type": "code",
      "execution_count": 57,
      "metadata": {
        "id": "3ncBfThxSpiL",
        "colab": {
          "base_uri": "https://localhost:8080/",
          "height": 1000
        },
        "outputId": "7d2b4b51-ce50-49d9-fa75-2f91b0c6bb17"
      },
      "outputs": [
        {
          "output_type": "execute_result",
          "data": {
            "text/plain": [
              "   Index        Hero  T_Picked  T_Wins  T_Loses T_WinRate T_PickPercentage  \\\n",
              "0      1   Valentina       727     334      393    45.94%           52.00%   \n",
              "1      2    Fredrinn       726     383      343    52.75%           51.93%   \n",
              "2      3     Terizla       620     348      272    56.13%           44.35%   \n",
              "3      4       Edith       527     265      262    50.28%           37.70%   \n",
              "4      5     Irithel       502     255      247    50.80%           35.91%   \n",
              "\n",
              "   BS_Picked  BS_Wins  BS_Loses  ... RS_Loses  RS_WinRate  T_Banned  \\\n",
              "0        348      157       191  ...      202      46.70%       484   \n",
              "1        361      184       177  ...      166      54.52%       475   \n",
              "2        291      168       123  ...      149      54.71%       435   \n",
              "3        258      125       133  ...      129      52.04%       477   \n",
              "4        245      129       116  ...      131      49.03%       208   \n",
              "\n",
              "   T_BansPercentage T_PicksBans  T_PicksBansPercentage  \\\n",
              "0            34.62%        1211                 86.62%   \n",
              "1            33.98%        1201                 85.91%   \n",
              "2            31.12%        1055                 75.46%   \n",
              "3            34.12%        1004                 71.82%   \n",
              "4            14.88%         710                 50.79%   \n",
              "\n",
              "                                      Played By  \\\n",
              "0  19 (11-8)19 (10-9)19 (10-9)19 (7-12)17 (8-9)   \n",
              "1  21 (15-6)18 (14-4)18 (12-6)18 (9-9)17 (10-7)   \n",
              "2  22 (12-10)18 (10-8)15 (9-6)14 (10-4)14 (8-6)   \n",
              "3     14 (9-5)14 (9-5)14 (6-8)13 (10-3)13 (9-4)   \n",
              "4    16 (8-8)15 (10-5)15 (10-5)12 (7-5)12 (7-5)   \n",
              "\n",
              "                                         Played With  \\\n",
              "0   164 (83-81) 162 (79-83) 140 (71-69) 121 (58-6...   \n",
              "1   164 (83-81) 131 (81-50) 126 (69-57) 122 (69-5...   \n",
              "2   162 (79-83) 114 (76-38) 108 (56-52) 105 (49-5...   \n",
              "3   122 (69-53) 112 (48-64) 109 (55-54) 100 (42-5...   \n",
              "4   140 (71-69) 126 (69-57) 108 (56-52) 100 (42-5...   \n",
              "\n",
              "                                          Played Vs.     Roles  \n",
              "0   218 (85-133) 178 (68-110) 174 (77-97) 173 (82...      Mage  \n",
              "1   218 (133-85) 190 (106-84) 185 (79-106) 173 (8...   Support  \n",
              "2   185 (106-79) 178 (110-68) 132 (70-62) 119 (65...   Fighter  \n",
              "3   174 (97-77) 147 (76-71) 132 (62-70) 108 (51-5...      Tank  \n",
              "4   145 (73-72) 132 (60-72) 120 (68-52) 110 (47-6...  Marksman  \n",
              "\n",
              "[5 rows x 23 columns]"
            ],
            "text/html": [
              "\n",
              "  <div id=\"df-45d0898a-8f55-46dd-aaf5-b108683d4b85\" class=\"colab-df-container\">\n",
              "    <div>\n",
              "<style scoped>\n",
              "    .dataframe tbody tr th:only-of-type {\n",
              "        vertical-align: middle;\n",
              "    }\n",
              "\n",
              "    .dataframe tbody tr th {\n",
              "        vertical-align: top;\n",
              "    }\n",
              "\n",
              "    .dataframe thead th {\n",
              "        text-align: right;\n",
              "    }\n",
              "</style>\n",
              "<table border=\"1\" class=\"dataframe\">\n",
              "  <thead>\n",
              "    <tr style=\"text-align: right;\">\n",
              "      <th></th>\n",
              "      <th>Index</th>\n",
              "      <th>Hero</th>\n",
              "      <th>T_Picked</th>\n",
              "      <th>T_Wins</th>\n",
              "      <th>T_Loses</th>\n",
              "      <th>T_WinRate</th>\n",
              "      <th>T_PickPercentage</th>\n",
              "      <th>BS_Picked</th>\n",
              "      <th>BS_Wins</th>\n",
              "      <th>BS_Loses</th>\n",
              "      <th>...</th>\n",
              "      <th>RS_Loses</th>\n",
              "      <th>RS_WinRate</th>\n",
              "      <th>T_Banned</th>\n",
              "      <th>T_BansPercentage</th>\n",
              "      <th>T_PicksBans</th>\n",
              "      <th>T_PicksBansPercentage</th>\n",
              "      <th>Played By</th>\n",
              "      <th>Played With</th>\n",
              "      <th>Played Vs.</th>\n",
              "      <th>Roles</th>\n",
              "    </tr>\n",
              "  </thead>\n",
              "  <tbody>\n",
              "    <tr>\n",
              "      <th>0</th>\n",
              "      <td>1</td>\n",
              "      <td>Valentina</td>\n",
              "      <td>727</td>\n",
              "      <td>334</td>\n",
              "      <td>393</td>\n",
              "      <td>45.94%</td>\n",
              "      <td>52.00%</td>\n",
              "      <td>348</td>\n",
              "      <td>157</td>\n",
              "      <td>191</td>\n",
              "      <td>...</td>\n",
              "      <td>202</td>\n",
              "      <td>46.70%</td>\n",
              "      <td>484</td>\n",
              "      <td>34.62%</td>\n",
              "      <td>1211</td>\n",
              "      <td>86.62%</td>\n",
              "      <td>19 (11-8)19 (10-9)19 (10-9)19 (7-12)17 (8-9)</td>\n",
              "      <td>164 (83-81) 162 (79-83) 140 (71-69) 121 (58-6...</td>\n",
              "      <td>218 (85-133) 178 (68-110) 174 (77-97) 173 (82...</td>\n",
              "      <td>Mage</td>\n",
              "    </tr>\n",
              "    <tr>\n",
              "      <th>1</th>\n",
              "      <td>2</td>\n",
              "      <td>Fredrinn</td>\n",
              "      <td>726</td>\n",
              "      <td>383</td>\n",
              "      <td>343</td>\n",
              "      <td>52.75%</td>\n",
              "      <td>51.93%</td>\n",
              "      <td>361</td>\n",
              "      <td>184</td>\n",
              "      <td>177</td>\n",
              "      <td>...</td>\n",
              "      <td>166</td>\n",
              "      <td>54.52%</td>\n",
              "      <td>475</td>\n",
              "      <td>33.98%</td>\n",
              "      <td>1201</td>\n",
              "      <td>85.91%</td>\n",
              "      <td>21 (15-6)18 (14-4)18 (12-6)18 (9-9)17 (10-7)</td>\n",
              "      <td>164 (83-81) 131 (81-50) 126 (69-57) 122 (69-5...</td>\n",
              "      <td>218 (133-85) 190 (106-84) 185 (79-106) 173 (8...</td>\n",
              "      <td>Support</td>\n",
              "    </tr>\n",
              "    <tr>\n",
              "      <th>2</th>\n",
              "      <td>3</td>\n",
              "      <td>Terizla</td>\n",
              "      <td>620</td>\n",
              "      <td>348</td>\n",
              "      <td>272</td>\n",
              "      <td>56.13%</td>\n",
              "      <td>44.35%</td>\n",
              "      <td>291</td>\n",
              "      <td>168</td>\n",
              "      <td>123</td>\n",
              "      <td>...</td>\n",
              "      <td>149</td>\n",
              "      <td>54.71%</td>\n",
              "      <td>435</td>\n",
              "      <td>31.12%</td>\n",
              "      <td>1055</td>\n",
              "      <td>75.46%</td>\n",
              "      <td>22 (12-10)18 (10-8)15 (9-6)14 (10-4)14 (8-6)</td>\n",
              "      <td>162 (79-83) 114 (76-38) 108 (56-52) 105 (49-5...</td>\n",
              "      <td>185 (106-79) 178 (110-68) 132 (70-62) 119 (65...</td>\n",
              "      <td>Fighter</td>\n",
              "    </tr>\n",
              "    <tr>\n",
              "      <th>3</th>\n",
              "      <td>4</td>\n",
              "      <td>Edith</td>\n",
              "      <td>527</td>\n",
              "      <td>265</td>\n",
              "      <td>262</td>\n",
              "      <td>50.28%</td>\n",
              "      <td>37.70%</td>\n",
              "      <td>258</td>\n",
              "      <td>125</td>\n",
              "      <td>133</td>\n",
              "      <td>...</td>\n",
              "      <td>129</td>\n",
              "      <td>52.04%</td>\n",
              "      <td>477</td>\n",
              "      <td>34.12%</td>\n",
              "      <td>1004</td>\n",
              "      <td>71.82%</td>\n",
              "      <td>14 (9-5)14 (9-5)14 (6-8)13 (10-3)13 (9-4)</td>\n",
              "      <td>122 (69-53) 112 (48-64) 109 (55-54) 100 (42-5...</td>\n",
              "      <td>174 (97-77) 147 (76-71) 132 (62-70) 108 (51-5...</td>\n",
              "      <td>Tank</td>\n",
              "    </tr>\n",
              "    <tr>\n",
              "      <th>4</th>\n",
              "      <td>5</td>\n",
              "      <td>Irithel</td>\n",
              "      <td>502</td>\n",
              "      <td>255</td>\n",
              "      <td>247</td>\n",
              "      <td>50.80%</td>\n",
              "      <td>35.91%</td>\n",
              "      <td>245</td>\n",
              "      <td>129</td>\n",
              "      <td>116</td>\n",
              "      <td>...</td>\n",
              "      <td>131</td>\n",
              "      <td>49.03%</td>\n",
              "      <td>208</td>\n",
              "      <td>14.88%</td>\n",
              "      <td>710</td>\n",
              "      <td>50.79%</td>\n",
              "      <td>16 (8-8)15 (10-5)15 (10-5)12 (7-5)12 (7-5)</td>\n",
              "      <td>140 (71-69) 126 (69-57) 108 (56-52) 100 (42-5...</td>\n",
              "      <td>145 (73-72) 132 (60-72) 120 (68-52) 110 (47-6...</td>\n",
              "      <td>Marksman</td>\n",
              "    </tr>\n",
              "  </tbody>\n",
              "</table>\n",
              "<p>5 rows × 23 columns</p>\n",
              "</div>\n",
              "    <div class=\"colab-df-buttons\">\n",
              "\n",
              "  <div class=\"colab-df-container\">\n",
              "    <button class=\"colab-df-convert\" onclick=\"convertToInteractive('df-45d0898a-8f55-46dd-aaf5-b108683d4b85')\"\n",
              "            title=\"Convert this dataframe to an interactive table.\"\n",
              "            style=\"display:none;\">\n",
              "\n",
              "  <svg xmlns=\"http://www.w3.org/2000/svg\" height=\"24px\" viewBox=\"0 -960 960 960\">\n",
              "    <path d=\"M120-120v-720h720v720H120Zm60-500h600v-160H180v160Zm220 220h160v-160H400v160Zm0 220h160v-160H400v160ZM180-400h160v-160H180v160Zm440 0h160v-160H620v160ZM180-180h160v-160H180v160Zm440 0h160v-160H620v160Z\"/>\n",
              "  </svg>\n",
              "    </button>\n",
              "\n",
              "  <style>\n",
              "    .colab-df-container {\n",
              "      display:flex;\n",
              "      gap: 12px;\n",
              "    }\n",
              "\n",
              "    .colab-df-convert {\n",
              "      background-color: #E8F0FE;\n",
              "      border: none;\n",
              "      border-radius: 50%;\n",
              "      cursor: pointer;\n",
              "      display: none;\n",
              "      fill: #1967D2;\n",
              "      height: 32px;\n",
              "      padding: 0 0 0 0;\n",
              "      width: 32px;\n",
              "    }\n",
              "\n",
              "    .colab-df-convert:hover {\n",
              "      background-color: #E2EBFA;\n",
              "      box-shadow: 0px 1px 2px rgba(60, 64, 67, 0.3), 0px 1px 3px 1px rgba(60, 64, 67, 0.15);\n",
              "      fill: #174EA6;\n",
              "    }\n",
              "\n",
              "    .colab-df-buttons div {\n",
              "      margin-bottom: 4px;\n",
              "    }\n",
              "\n",
              "    [theme=dark] .colab-df-convert {\n",
              "      background-color: #3B4455;\n",
              "      fill: #D2E3FC;\n",
              "    }\n",
              "\n",
              "    [theme=dark] .colab-df-convert:hover {\n",
              "      background-color: #434B5C;\n",
              "      box-shadow: 0px 1px 3px 1px rgba(0, 0, 0, 0.15);\n",
              "      filter: drop-shadow(0px 1px 2px rgba(0, 0, 0, 0.3));\n",
              "      fill: #FFFFFF;\n",
              "    }\n",
              "  </style>\n",
              "\n",
              "    <script>\n",
              "      const buttonEl =\n",
              "        document.querySelector('#df-45d0898a-8f55-46dd-aaf5-b108683d4b85 button.colab-df-convert');\n",
              "      buttonEl.style.display =\n",
              "        google.colab.kernel.accessAllowed ? 'block' : 'none';\n",
              "\n",
              "      async function convertToInteractive(key) {\n",
              "        const element = document.querySelector('#df-45d0898a-8f55-46dd-aaf5-b108683d4b85');\n",
              "        const dataTable =\n",
              "          await google.colab.kernel.invokeFunction('convertToInteractive',\n",
              "                                                    [key], {});\n",
              "        if (!dataTable) return;\n",
              "\n",
              "        const docLinkHtml = 'Like what you see? Visit the ' +\n",
              "          '<a target=\"_blank\" href=https://colab.research.google.com/notebooks/data_table.ipynb>data table notebook</a>'\n",
              "          + ' to learn more about interactive tables.';\n",
              "        element.innerHTML = '';\n",
              "        dataTable['output_type'] = 'display_data';\n",
              "        await google.colab.output.renderOutput(dataTable, element);\n",
              "        const docLink = document.createElement('div');\n",
              "        docLink.innerHTML = docLinkHtml;\n",
              "        element.appendChild(docLink);\n",
              "      }\n",
              "    </script>\n",
              "  </div>\n",
              "\n",
              "\n",
              "<div id=\"df-25ed9387-b2f6-4944-b778-6d5ef85c4bb6\">\n",
              "  <button class=\"colab-df-quickchart\" onclick=\"quickchart('df-25ed9387-b2f6-4944-b778-6d5ef85c4bb6')\"\n",
              "            title=\"Suggest charts\"\n",
              "            style=\"display:none;\">\n",
              "\n",
              "<svg xmlns=\"http://www.w3.org/2000/svg\" height=\"24px\"viewBox=\"0 0 24 24\"\n",
              "     width=\"24px\">\n",
              "    <g>\n",
              "        <path d=\"M19 3H5c-1.1 0-2 .9-2 2v14c0 1.1.9 2 2 2h14c1.1 0 2-.9 2-2V5c0-1.1-.9-2-2-2zM9 17H7v-7h2v7zm4 0h-2V7h2v10zm4 0h-2v-4h2v4z\"/>\n",
              "    </g>\n",
              "</svg>\n",
              "  </button>\n",
              "\n",
              "<style>\n",
              "  .colab-df-quickchart {\n",
              "      --bg-color: #E8F0FE;\n",
              "      --fill-color: #1967D2;\n",
              "      --hover-bg-color: #E2EBFA;\n",
              "      --hover-fill-color: #174EA6;\n",
              "      --disabled-fill-color: #AAA;\n",
              "      --disabled-bg-color: #DDD;\n",
              "  }\n",
              "\n",
              "  [theme=dark] .colab-df-quickchart {\n",
              "      --bg-color: #3B4455;\n",
              "      --fill-color: #D2E3FC;\n",
              "      --hover-bg-color: #434B5C;\n",
              "      --hover-fill-color: #FFFFFF;\n",
              "      --disabled-bg-color: #3B4455;\n",
              "      --disabled-fill-color: #666;\n",
              "  }\n",
              "\n",
              "  .colab-df-quickchart {\n",
              "    background-color: var(--bg-color);\n",
              "    border: none;\n",
              "    border-radius: 50%;\n",
              "    cursor: pointer;\n",
              "    display: none;\n",
              "    fill: var(--fill-color);\n",
              "    height: 32px;\n",
              "    padding: 0;\n",
              "    width: 32px;\n",
              "  }\n",
              "\n",
              "  .colab-df-quickchart:hover {\n",
              "    background-color: var(--hover-bg-color);\n",
              "    box-shadow: 0 1px 2px rgba(60, 64, 67, 0.3), 0 1px 3px 1px rgba(60, 64, 67, 0.15);\n",
              "    fill: var(--button-hover-fill-color);\n",
              "  }\n",
              "\n",
              "  .colab-df-quickchart-complete:disabled,\n",
              "  .colab-df-quickchart-complete:disabled:hover {\n",
              "    background-color: var(--disabled-bg-color);\n",
              "    fill: var(--disabled-fill-color);\n",
              "    box-shadow: none;\n",
              "  }\n",
              "\n",
              "  .colab-df-spinner {\n",
              "    border: 2px solid var(--fill-color);\n",
              "    border-color: transparent;\n",
              "    border-bottom-color: var(--fill-color);\n",
              "    animation:\n",
              "      spin 1s steps(1) infinite;\n",
              "  }\n",
              "\n",
              "  @keyframes spin {\n",
              "    0% {\n",
              "      border-color: transparent;\n",
              "      border-bottom-color: var(--fill-color);\n",
              "      border-left-color: var(--fill-color);\n",
              "    }\n",
              "    20% {\n",
              "      border-color: transparent;\n",
              "      border-left-color: var(--fill-color);\n",
              "      border-top-color: var(--fill-color);\n",
              "    }\n",
              "    30% {\n",
              "      border-color: transparent;\n",
              "      border-left-color: var(--fill-color);\n",
              "      border-top-color: var(--fill-color);\n",
              "      border-right-color: var(--fill-color);\n",
              "    }\n",
              "    40% {\n",
              "      border-color: transparent;\n",
              "      border-right-color: var(--fill-color);\n",
              "      border-top-color: var(--fill-color);\n",
              "    }\n",
              "    60% {\n",
              "      border-color: transparent;\n",
              "      border-right-color: var(--fill-color);\n",
              "    }\n",
              "    80% {\n",
              "      border-color: transparent;\n",
              "      border-right-color: var(--fill-color);\n",
              "      border-bottom-color: var(--fill-color);\n",
              "    }\n",
              "    90% {\n",
              "      border-color: transparent;\n",
              "      border-bottom-color: var(--fill-color);\n",
              "    }\n",
              "  }\n",
              "</style>\n",
              "\n",
              "  <script>\n",
              "    async function quickchart(key) {\n",
              "      const quickchartButtonEl =\n",
              "        document.querySelector('#' + key + ' button');\n",
              "      quickchartButtonEl.disabled = true;  // To prevent multiple clicks.\n",
              "      quickchartButtonEl.classList.add('colab-df-spinner');\n",
              "      try {\n",
              "        const charts = await google.colab.kernel.invokeFunction(\n",
              "            'suggestCharts', [key], {});\n",
              "      } catch (error) {\n",
              "        console.error('Error during call to suggestCharts:', error);\n",
              "      }\n",
              "      quickchartButtonEl.classList.remove('colab-df-spinner');\n",
              "      quickchartButtonEl.classList.add('colab-df-quickchart-complete');\n",
              "    }\n",
              "    (() => {\n",
              "      let quickchartButtonEl =\n",
              "        document.querySelector('#df-25ed9387-b2f6-4944-b778-6d5ef85c4bb6 button');\n",
              "      quickchartButtonEl.style.display =\n",
              "        google.colab.kernel.accessAllowed ? 'block' : 'none';\n",
              "    })();\n",
              "  </script>\n",
              "</div>\n",
              "    </div>\n",
              "  </div>\n"
            ],
            "application/vnd.google.colaboratory.intrinsic+json": {
              "type": "dataframe",
              "variable_name": "df"
            }
          },
          "metadata": {},
          "execution_count": 57
        }
      ],
      "source": [
        "df = pd.read_csv('M5_World_Championship.csv')\n",
        "df.head()\n"
      ]
    },
    {
      "cell_type": "markdown",
      "source": [
        "##**Describe Data**"
      ],
      "metadata": {
        "id": "-hy6_uvIVOGH"
      }
    },
    {
      "cell_type": "markdown",
      "source": [
        "####Informasi Dasar"
      ],
      "metadata": {
        "id": "nl6nccPmUZ6F"
      }
    },
    {
      "cell_type": "code",
      "source": [
        "\n",
        "jumlah_baris = df.shape[0]\n",
        "jumlah_kolom = df.shape[1]\n",
        "\n",
        "print(\"Jumlah baris:\", jumlah_baris)\n",
        "print(\"Jumlah kolom:\", jumlah_kolom)"
      ],
      "metadata": {
        "id": "zEyDvT0EUcB2",
        "colab": {
          "base_uri": "https://localhost:8080/"
        },
        "outputId": "00bc1e5d-cd15-4701-909a-1ae609cbf6a3"
      },
      "execution_count": 58,
      "outputs": [
        {
          "output_type": "stream",
          "name": "stdout",
          "text": [
            "Jumlah baris: 115\n",
            "Jumlah kolom: 23\n"
          ]
        }
      ]
    },
    {
      "cell_type": "markdown",
      "source": [
        "Di dalam dataset ini terdapat 115 jumlah baris dan 23 jumlah kolom"
      ],
      "metadata": {
        "id": "ZwH62IRTVXNL"
      }
    },
    {
      "cell_type": "markdown",
      "source": [
        "####Informasi Lanjutan"
      ],
      "metadata": {
        "id": "BXEzaPAHVMPd"
      }
    },
    {
      "cell_type": "code",
      "source": [
        "df.info()"
      ],
      "metadata": {
        "id": "L1CvPak8VHOF",
        "colab": {
          "base_uri": "https://localhost:8080/"
        },
        "outputId": "775d5ef4-b53e-4615-bd62-e0412936e2f2"
      },
      "execution_count": 59,
      "outputs": [
        {
          "output_type": "stream",
          "name": "stdout",
          "text": [
            "<class 'pandas.core.frame.DataFrame'>\n",
            "RangeIndex: 115 entries, 0 to 114\n",
            "Data columns (total 23 columns):\n",
            " #   Column                 Non-Null Count  Dtype \n",
            "---  ------                 --------------  ----- \n",
            " 0   Index                  115 non-null    int64 \n",
            " 1   Hero                   115 non-null    object\n",
            " 2   T_Picked               115 non-null    int64 \n",
            " 3   T_Wins                 115 non-null    int64 \n",
            " 4   T_Loses                115 non-null    int64 \n",
            " 5   T_WinRate              115 non-null    object\n",
            " 6   T_PickPercentage       115 non-null    object\n",
            " 7   BS_Picked              115 non-null    int64 \n",
            " 8   BS_Wins                115 non-null    int64 \n",
            " 9   BS_Loses               115 non-null    int64 \n",
            " 10  BS_WinRate             115 non-null    object\n",
            " 11  RS_Picked              115 non-null    int64 \n",
            " 12  RS_Wins                115 non-null    int64 \n",
            " 13  RS_Loses               115 non-null    int64 \n",
            " 14  RS_WinRate             115 non-null    object\n",
            " 15  T_Banned               115 non-null    int64 \n",
            " 16  T_BansPercentage       115 non-null    object\n",
            " 17  T_PicksBans            115 non-null    int64 \n",
            " 18  T_PicksBansPercentage  115 non-null    object\n",
            " 19  Played By              115 non-null    object\n",
            " 20  Played With            115 non-null    object\n",
            " 21  Played Vs.             115 non-null    object\n",
            " 22  Roles                  115 non-null    object\n",
            "dtypes: int64(12), object(11)\n",
            "memory usage: 20.8+ KB\n"
          ]
        }
      ]
    },
    {
      "cell_type": "markdown",
      "source": [
        "\n",
        "\n",
        "1. **Index**: Nomor indeks.\n",
        "   - Jumlah: 115\n",
        "   - Tipe Data: integer (int64)\n",
        "\n",
        "2. **Hero**: Nama Hero.\n",
        "   - Jumlah: 115\n",
        "   - Tipe Data: object\n",
        "\n",
        "3. **T_Picked**: Total Hero dipilih.\n",
        "   - Jumlah: 115\n",
        "   - Tipe Data: integer (int64)\n",
        "\n",
        "4. **T_Wins**: Total kemenangan dengan Hero tersebut.\n",
        "   - Jumlah: 115\n",
        "   - Tipe Data: integer (int64)\n",
        "\n",
        "5. **T_Loses**: Total kekalahan dengan Hero tersebut.\n",
        "   - Jumlah: 115\n",
        "   - Tipe Data: integer (int64)\n",
        "\n",
        "6. **T_WinRate**: Persentase kemenangan (T_Wins / Total Games).\n",
        "   - Jumlah: 115\n",
        "   - Tipe Data: object\n",
        "\n",
        "7. **T_PickPercentage**: Persentase pick (T_Picked / Total Games).\n",
        "   - Jumlah: 115\n",
        "   - Tipe Data: object\n",
        "\n",
        "8. **BS_Picked**: Total Hero dipilih oleh Tim Biru.\n",
        "   - Jumlah: 115\n",
        "   - Tipe Data: integer (int64)\n",
        "\n",
        "9. **BS_Wins**: Total kemenangan dengan Hero oleh Tim Biru.\n",
        "   - Jumlah: 115\n",
        "   - Tipe Data: integer (int64)\n",
        "\n",
        "10. **BS_Loses**: Total kekalahan dengan Hero oleh Tim Biru.\n",
        "    - Jumlah: 115\n",
        "    - Tipe Data: integer (int64)\n",
        "\n",
        "11. **BS_WinRate**: Persentase kemenangan oleh Tim Biru (BS_Wins / BS_Picked).\n",
        "    - Jumlah: 115\n",
        "    - Tipe Data: object\n",
        "\n",
        "12. **RS_Picked**: Total Hero dipilih oleh Tim Merah.\n",
        "    - Jumlah: 115\n",
        "    - Tipe Data: integer (int64)\n",
        "\n",
        "13. **RS_Wins**: Total kemenangan dengan Hero oleh Tim Merah.\n",
        "    - Jumlah: 115\n",
        "    - Tipe Data: integer (int64)\n",
        "\n",
        "14. **RS_Loses**: Total kekalahan dengan Hero oleh Tim Merah.\n",
        "    - Jumlah: 115\n",
        "    - Tipe Data: integer (int64)\n",
        "\n",
        "15. **RS_WinRate**: Persentase kemenangan oleh Tim Merah (RS_Wins / RS_Picked).\n",
        "    - Jumlah: 115\n",
        "    - Tipe Data: object\n",
        "\n",
        "16. **T_Banned**: Jumlah kali Hero tersebut dibanned.\n",
        "    - Jumlah: 115\n",
        "    - Tipe Data: integer (int64)\n",
        "\n",
        "17. **T_BansPercentage**: Persentase ban (T_Banned / Total Games).\n",
        "    - Jumlah: 115\n",
        "    - Tipe Data: object\n",
        "\n",
        "18. **T_PicksBans**: Jumlah kali Hero tersebut dipilih atau dibanned.\n",
        "    - Jumlah: 115\n",
        "    - Tipe Data: integer (int64)\n",
        "\n",
        "19. **T_PicksBansPercentage**: Persentase pick dan ban (Pick&Ban / Total Games).\n",
        "    - Jumlah: 115\n",
        "    - Tipe Data: object\n",
        "\n",
        "20. **Played By**: Dimainkan oleh siapa.\n",
        "    - Jumlah: 115\n",
        "    - Tipe Data: object\n",
        "\n",
        "21. **Played With**: Dimainkan bersama dengan siapa.\n",
        "    - Jumlah: 115\n",
        "    - Tipe Data: object\n",
        "\n",
        "22. **Played Vs.**: Dimainkan melawan siapa.\n",
        "    - Jumlah: 115\n",
        "    - Tipe Data: object\n",
        "\n",
        "23. **Roles**: Peran dari Hero.\n",
        "    - Jumlah: 115\n",
        "    - Tipe Data: object\n",
        "\n"
      ],
      "metadata": {
        "id": "-6miym5GVbaC"
      }
    },
    {
      "cell_type": "markdown",
      "source": [
        "####Informasi Statistik Deskriptif"
      ],
      "metadata": {
        "id": "D5GD3qzXVrF5"
      }
    },
    {
      "cell_type": "code",
      "source": [
        "df.describe()"
      ],
      "metadata": {
        "id": "rHdqc2OkVuPC",
        "colab": {
          "base_uri": "https://localhost:8080/",
          "height": 320
        },
        "outputId": "0676a41a-028c-40ae-c7e6-3a5a5a8b4a33"
      },
      "execution_count": 60,
      "outputs": [
        {
          "output_type": "execute_result",
          "data": {
            "text/plain": [
              "            Index    T_Picked      T_Wins     T_Loses   BS_Picked     BS_Wins  \\\n",
              "count  115.000000  115.000000  115.000000  115.000000  115.000000  115.000000   \n",
              "mean    58.000000  121.521739   60.739130   60.782609   60.739130   30.043478   \n",
              "std     33.341666  165.790946   84.578842   82.061250   82.204397   41.649412   \n",
              "min      1.000000    0.000000    0.000000    0.000000    0.000000    0.000000   \n",
              "25%     29.500000    6.000000    3.000000    4.000000    3.000000    1.000000   \n",
              "50%     58.000000   43.000000   25.000000   22.000000   20.000000   11.000000   \n",
              "75%     86.500000  193.000000   89.000000  101.000000  101.500000   48.000000   \n",
              "max    115.000000  727.000000  383.000000  393.000000  361.000000  184.000000   \n",
              "\n",
              "         BS_Loses   RS_Picked     RS_Wins    RS_Loses    T_Banned  T_PicksBans  \n",
              "count  115.000000  115.000000  115.000000  115.000000  115.000000   115.000000  \n",
              "mean    30.695652   60.782609   30.695652   30.086957  121.513043   243.034783  \n",
              "std     41.148676   84.206490   43.392572   41.381317  180.269358   322.978407  \n",
              "min      0.000000    0.000000    0.000000    0.000000    0.000000     1.000000  \n",
              "25%      2.000000    3.000000    1.000000    2.000000    2.500000    10.500000  \n",
              "50%     12.000000   23.000000   12.000000   12.000000   24.000000    83.000000  \n",
              "75%     51.500000   95.000000   44.500000   46.000000  174.500000   373.000000  \n",
              "max    191.000000  379.000000  199.000000  202.000000  741.000000  1211.000000  "
            ],
            "text/html": [
              "\n",
              "  <div id=\"df-d0c05bae-4c33-4a47-9ba6-dc6f2291cfbe\" class=\"colab-df-container\">\n",
              "    <div>\n",
              "<style scoped>\n",
              "    .dataframe tbody tr th:only-of-type {\n",
              "        vertical-align: middle;\n",
              "    }\n",
              "\n",
              "    .dataframe tbody tr th {\n",
              "        vertical-align: top;\n",
              "    }\n",
              "\n",
              "    .dataframe thead th {\n",
              "        text-align: right;\n",
              "    }\n",
              "</style>\n",
              "<table border=\"1\" class=\"dataframe\">\n",
              "  <thead>\n",
              "    <tr style=\"text-align: right;\">\n",
              "      <th></th>\n",
              "      <th>Index</th>\n",
              "      <th>T_Picked</th>\n",
              "      <th>T_Wins</th>\n",
              "      <th>T_Loses</th>\n",
              "      <th>BS_Picked</th>\n",
              "      <th>BS_Wins</th>\n",
              "      <th>BS_Loses</th>\n",
              "      <th>RS_Picked</th>\n",
              "      <th>RS_Wins</th>\n",
              "      <th>RS_Loses</th>\n",
              "      <th>T_Banned</th>\n",
              "      <th>T_PicksBans</th>\n",
              "    </tr>\n",
              "  </thead>\n",
              "  <tbody>\n",
              "    <tr>\n",
              "      <th>count</th>\n",
              "      <td>115.000000</td>\n",
              "      <td>115.000000</td>\n",
              "      <td>115.000000</td>\n",
              "      <td>115.000000</td>\n",
              "      <td>115.000000</td>\n",
              "      <td>115.000000</td>\n",
              "      <td>115.000000</td>\n",
              "      <td>115.000000</td>\n",
              "      <td>115.000000</td>\n",
              "      <td>115.000000</td>\n",
              "      <td>115.000000</td>\n",
              "      <td>115.000000</td>\n",
              "    </tr>\n",
              "    <tr>\n",
              "      <th>mean</th>\n",
              "      <td>58.000000</td>\n",
              "      <td>121.521739</td>\n",
              "      <td>60.739130</td>\n",
              "      <td>60.782609</td>\n",
              "      <td>60.739130</td>\n",
              "      <td>30.043478</td>\n",
              "      <td>30.695652</td>\n",
              "      <td>60.782609</td>\n",
              "      <td>30.695652</td>\n",
              "      <td>30.086957</td>\n",
              "      <td>121.513043</td>\n",
              "      <td>243.034783</td>\n",
              "    </tr>\n",
              "    <tr>\n",
              "      <th>std</th>\n",
              "      <td>33.341666</td>\n",
              "      <td>165.790946</td>\n",
              "      <td>84.578842</td>\n",
              "      <td>82.061250</td>\n",
              "      <td>82.204397</td>\n",
              "      <td>41.649412</td>\n",
              "      <td>41.148676</td>\n",
              "      <td>84.206490</td>\n",
              "      <td>43.392572</td>\n",
              "      <td>41.381317</td>\n",
              "      <td>180.269358</td>\n",
              "      <td>322.978407</td>\n",
              "    </tr>\n",
              "    <tr>\n",
              "      <th>min</th>\n",
              "      <td>1.000000</td>\n",
              "      <td>0.000000</td>\n",
              "      <td>0.000000</td>\n",
              "      <td>0.000000</td>\n",
              "      <td>0.000000</td>\n",
              "      <td>0.000000</td>\n",
              "      <td>0.000000</td>\n",
              "      <td>0.000000</td>\n",
              "      <td>0.000000</td>\n",
              "      <td>0.000000</td>\n",
              "      <td>0.000000</td>\n",
              "      <td>1.000000</td>\n",
              "    </tr>\n",
              "    <tr>\n",
              "      <th>25%</th>\n",
              "      <td>29.500000</td>\n",
              "      <td>6.000000</td>\n",
              "      <td>3.000000</td>\n",
              "      <td>4.000000</td>\n",
              "      <td>3.000000</td>\n",
              "      <td>1.000000</td>\n",
              "      <td>2.000000</td>\n",
              "      <td>3.000000</td>\n",
              "      <td>1.000000</td>\n",
              "      <td>2.000000</td>\n",
              "      <td>2.500000</td>\n",
              "      <td>10.500000</td>\n",
              "    </tr>\n",
              "    <tr>\n",
              "      <th>50%</th>\n",
              "      <td>58.000000</td>\n",
              "      <td>43.000000</td>\n",
              "      <td>25.000000</td>\n",
              "      <td>22.000000</td>\n",
              "      <td>20.000000</td>\n",
              "      <td>11.000000</td>\n",
              "      <td>12.000000</td>\n",
              "      <td>23.000000</td>\n",
              "      <td>12.000000</td>\n",
              "      <td>12.000000</td>\n",
              "      <td>24.000000</td>\n",
              "      <td>83.000000</td>\n",
              "    </tr>\n",
              "    <tr>\n",
              "      <th>75%</th>\n",
              "      <td>86.500000</td>\n",
              "      <td>193.000000</td>\n",
              "      <td>89.000000</td>\n",
              "      <td>101.000000</td>\n",
              "      <td>101.500000</td>\n",
              "      <td>48.000000</td>\n",
              "      <td>51.500000</td>\n",
              "      <td>95.000000</td>\n",
              "      <td>44.500000</td>\n",
              "      <td>46.000000</td>\n",
              "      <td>174.500000</td>\n",
              "      <td>373.000000</td>\n",
              "    </tr>\n",
              "    <tr>\n",
              "      <th>max</th>\n",
              "      <td>115.000000</td>\n",
              "      <td>727.000000</td>\n",
              "      <td>383.000000</td>\n",
              "      <td>393.000000</td>\n",
              "      <td>361.000000</td>\n",
              "      <td>184.000000</td>\n",
              "      <td>191.000000</td>\n",
              "      <td>379.000000</td>\n",
              "      <td>199.000000</td>\n",
              "      <td>202.000000</td>\n",
              "      <td>741.000000</td>\n",
              "      <td>1211.000000</td>\n",
              "    </tr>\n",
              "  </tbody>\n",
              "</table>\n",
              "</div>\n",
              "    <div class=\"colab-df-buttons\">\n",
              "\n",
              "  <div class=\"colab-df-container\">\n",
              "    <button class=\"colab-df-convert\" onclick=\"convertToInteractive('df-d0c05bae-4c33-4a47-9ba6-dc6f2291cfbe')\"\n",
              "            title=\"Convert this dataframe to an interactive table.\"\n",
              "            style=\"display:none;\">\n",
              "\n",
              "  <svg xmlns=\"http://www.w3.org/2000/svg\" height=\"24px\" viewBox=\"0 -960 960 960\">\n",
              "    <path d=\"M120-120v-720h720v720H120Zm60-500h600v-160H180v160Zm220 220h160v-160H400v160Zm0 220h160v-160H400v160ZM180-400h160v-160H180v160Zm440 0h160v-160H620v160ZM180-180h160v-160H180v160Zm440 0h160v-160H620v160Z\"/>\n",
              "  </svg>\n",
              "    </button>\n",
              "\n",
              "  <style>\n",
              "    .colab-df-container {\n",
              "      display:flex;\n",
              "      gap: 12px;\n",
              "    }\n",
              "\n",
              "    .colab-df-convert {\n",
              "      background-color: #E8F0FE;\n",
              "      border: none;\n",
              "      border-radius: 50%;\n",
              "      cursor: pointer;\n",
              "      display: none;\n",
              "      fill: #1967D2;\n",
              "      height: 32px;\n",
              "      padding: 0 0 0 0;\n",
              "      width: 32px;\n",
              "    }\n",
              "\n",
              "    .colab-df-convert:hover {\n",
              "      background-color: #E2EBFA;\n",
              "      box-shadow: 0px 1px 2px rgba(60, 64, 67, 0.3), 0px 1px 3px 1px rgba(60, 64, 67, 0.15);\n",
              "      fill: #174EA6;\n",
              "    }\n",
              "\n",
              "    .colab-df-buttons div {\n",
              "      margin-bottom: 4px;\n",
              "    }\n",
              "\n",
              "    [theme=dark] .colab-df-convert {\n",
              "      background-color: #3B4455;\n",
              "      fill: #D2E3FC;\n",
              "    }\n",
              "\n",
              "    [theme=dark] .colab-df-convert:hover {\n",
              "      background-color: #434B5C;\n",
              "      box-shadow: 0px 1px 3px 1px rgba(0, 0, 0, 0.15);\n",
              "      filter: drop-shadow(0px 1px 2px rgba(0, 0, 0, 0.3));\n",
              "      fill: #FFFFFF;\n",
              "    }\n",
              "  </style>\n",
              "\n",
              "    <script>\n",
              "      const buttonEl =\n",
              "        document.querySelector('#df-d0c05bae-4c33-4a47-9ba6-dc6f2291cfbe button.colab-df-convert');\n",
              "      buttonEl.style.display =\n",
              "        google.colab.kernel.accessAllowed ? 'block' : 'none';\n",
              "\n",
              "      async function convertToInteractive(key) {\n",
              "        const element = document.querySelector('#df-d0c05bae-4c33-4a47-9ba6-dc6f2291cfbe');\n",
              "        const dataTable =\n",
              "          await google.colab.kernel.invokeFunction('convertToInteractive',\n",
              "                                                    [key], {});\n",
              "        if (!dataTable) return;\n",
              "\n",
              "        const docLinkHtml = 'Like what you see? Visit the ' +\n",
              "          '<a target=\"_blank\" href=https://colab.research.google.com/notebooks/data_table.ipynb>data table notebook</a>'\n",
              "          + ' to learn more about interactive tables.';\n",
              "        element.innerHTML = '';\n",
              "        dataTable['output_type'] = 'display_data';\n",
              "        await google.colab.output.renderOutput(dataTable, element);\n",
              "        const docLink = document.createElement('div');\n",
              "        docLink.innerHTML = docLinkHtml;\n",
              "        element.appendChild(docLink);\n",
              "      }\n",
              "    </script>\n",
              "  </div>\n",
              "\n",
              "\n",
              "<div id=\"df-1ece6753-df86-4e61-b79a-3aed6cede593\">\n",
              "  <button class=\"colab-df-quickchart\" onclick=\"quickchart('df-1ece6753-df86-4e61-b79a-3aed6cede593')\"\n",
              "            title=\"Suggest charts\"\n",
              "            style=\"display:none;\">\n",
              "\n",
              "<svg xmlns=\"http://www.w3.org/2000/svg\" height=\"24px\"viewBox=\"0 0 24 24\"\n",
              "     width=\"24px\">\n",
              "    <g>\n",
              "        <path d=\"M19 3H5c-1.1 0-2 .9-2 2v14c0 1.1.9 2 2 2h14c1.1 0 2-.9 2-2V5c0-1.1-.9-2-2-2zM9 17H7v-7h2v7zm4 0h-2V7h2v10zm4 0h-2v-4h2v4z\"/>\n",
              "    </g>\n",
              "</svg>\n",
              "  </button>\n",
              "\n",
              "<style>\n",
              "  .colab-df-quickchart {\n",
              "      --bg-color: #E8F0FE;\n",
              "      --fill-color: #1967D2;\n",
              "      --hover-bg-color: #E2EBFA;\n",
              "      --hover-fill-color: #174EA6;\n",
              "      --disabled-fill-color: #AAA;\n",
              "      --disabled-bg-color: #DDD;\n",
              "  }\n",
              "\n",
              "  [theme=dark] .colab-df-quickchart {\n",
              "      --bg-color: #3B4455;\n",
              "      --fill-color: #D2E3FC;\n",
              "      --hover-bg-color: #434B5C;\n",
              "      --hover-fill-color: #FFFFFF;\n",
              "      --disabled-bg-color: #3B4455;\n",
              "      --disabled-fill-color: #666;\n",
              "  }\n",
              "\n",
              "  .colab-df-quickchart {\n",
              "    background-color: var(--bg-color);\n",
              "    border: none;\n",
              "    border-radius: 50%;\n",
              "    cursor: pointer;\n",
              "    display: none;\n",
              "    fill: var(--fill-color);\n",
              "    height: 32px;\n",
              "    padding: 0;\n",
              "    width: 32px;\n",
              "  }\n",
              "\n",
              "  .colab-df-quickchart:hover {\n",
              "    background-color: var(--hover-bg-color);\n",
              "    box-shadow: 0 1px 2px rgba(60, 64, 67, 0.3), 0 1px 3px 1px rgba(60, 64, 67, 0.15);\n",
              "    fill: var(--button-hover-fill-color);\n",
              "  }\n",
              "\n",
              "  .colab-df-quickchart-complete:disabled,\n",
              "  .colab-df-quickchart-complete:disabled:hover {\n",
              "    background-color: var(--disabled-bg-color);\n",
              "    fill: var(--disabled-fill-color);\n",
              "    box-shadow: none;\n",
              "  }\n",
              "\n",
              "  .colab-df-spinner {\n",
              "    border: 2px solid var(--fill-color);\n",
              "    border-color: transparent;\n",
              "    border-bottom-color: var(--fill-color);\n",
              "    animation:\n",
              "      spin 1s steps(1) infinite;\n",
              "  }\n",
              "\n",
              "  @keyframes spin {\n",
              "    0% {\n",
              "      border-color: transparent;\n",
              "      border-bottom-color: var(--fill-color);\n",
              "      border-left-color: var(--fill-color);\n",
              "    }\n",
              "    20% {\n",
              "      border-color: transparent;\n",
              "      border-left-color: var(--fill-color);\n",
              "      border-top-color: var(--fill-color);\n",
              "    }\n",
              "    30% {\n",
              "      border-color: transparent;\n",
              "      border-left-color: var(--fill-color);\n",
              "      border-top-color: var(--fill-color);\n",
              "      border-right-color: var(--fill-color);\n",
              "    }\n",
              "    40% {\n",
              "      border-color: transparent;\n",
              "      border-right-color: var(--fill-color);\n",
              "      border-top-color: var(--fill-color);\n",
              "    }\n",
              "    60% {\n",
              "      border-color: transparent;\n",
              "      border-right-color: var(--fill-color);\n",
              "    }\n",
              "    80% {\n",
              "      border-color: transparent;\n",
              "      border-right-color: var(--fill-color);\n",
              "      border-bottom-color: var(--fill-color);\n",
              "    }\n",
              "    90% {\n",
              "      border-color: transparent;\n",
              "      border-bottom-color: var(--fill-color);\n",
              "    }\n",
              "  }\n",
              "</style>\n",
              "\n",
              "  <script>\n",
              "    async function quickchart(key) {\n",
              "      const quickchartButtonEl =\n",
              "        document.querySelector('#' + key + ' button');\n",
              "      quickchartButtonEl.disabled = true;  // To prevent multiple clicks.\n",
              "      quickchartButtonEl.classList.add('colab-df-spinner');\n",
              "      try {\n",
              "        const charts = await google.colab.kernel.invokeFunction(\n",
              "            'suggestCharts', [key], {});\n",
              "      } catch (error) {\n",
              "        console.error('Error during call to suggestCharts:', error);\n",
              "      }\n",
              "      quickchartButtonEl.classList.remove('colab-df-spinner');\n",
              "      quickchartButtonEl.classList.add('colab-df-quickchart-complete');\n",
              "    }\n",
              "    (() => {\n",
              "      let quickchartButtonEl =\n",
              "        document.querySelector('#df-1ece6753-df86-4e61-b79a-3aed6cede593 button');\n",
              "      quickchartButtonEl.style.display =\n",
              "        google.colab.kernel.accessAllowed ? 'block' : 'none';\n",
              "    })();\n",
              "  </script>\n",
              "</div>\n",
              "    </div>\n",
              "  </div>\n"
            ],
            "application/vnd.google.colaboratory.intrinsic+json": {
              "type": "dataframe",
              "summary": "{\n  \"name\": \"df\",\n  \"rows\": 8,\n  \"fields\": [\n    {\n      \"column\": \"Index\",\n      \"properties\": {\n        \"dtype\": \"number\",\n        \"std\": 41.1422367910737,\n        \"min\": 1.0,\n        \"max\": 115.0,\n        \"num_unique_values\": 6,\n        \"samples\": [\n          115.0,\n          58.0,\n          86.5\n        ],\n        \"semantic_type\": \"\",\n        \"description\": \"\"\n      }\n    },\n    {\n      \"column\": \"T_Picked\",\n      \"properties\": {\n        \"dtype\": \"number\",\n        \"std\": 235.45696021933523,\n        \"min\": 0.0,\n        \"max\": 727.0,\n        \"num_unique_values\": 8,\n        \"samples\": [\n          121.52173913043478,\n          43.0,\n          115.0\n        ],\n        \"semantic_type\": \"\",\n        \"description\": \"\"\n      }\n    },\n    {\n      \"column\": \"T_Wins\",\n      \"properties\": {\n        \"dtype\": \"number\",\n        \"std\": 123.6650979080224,\n        \"min\": 0.0,\n        \"max\": 383.0,\n        \"num_unique_values\": 8,\n        \"samples\": [\n          60.73913043478261,\n          25.0,\n          115.0\n        ],\n        \"semantic_type\": \"\",\n        \"description\": \"\"\n      }\n    },\n    {\n      \"column\": \"T_Loses\",\n      \"properties\": {\n        \"dtype\": \"number\",\n        \"std\": 127.15201290208758,\n        \"min\": 0.0,\n        \"max\": 393.0,\n        \"num_unique_values\": 8,\n        \"samples\": [\n          60.78260869565217,\n          22.0,\n          115.0\n        ],\n        \"semantic_type\": \"\",\n        \"description\": \"\"\n      }\n    },\n    {\n      \"column\": \"BS_Picked\",\n      \"properties\": {\n        \"dtype\": \"number\",\n        \"std\": 116.8732647149539,\n        \"min\": 0.0,\n        \"max\": 361.0,\n        \"num_unique_values\": 8,\n        \"samples\": [\n          60.73913043478261,\n          20.0,\n          115.0\n        ],\n        \"semantic_type\": \"\",\n        \"description\": \"\"\n      }\n    },\n    {\n      \"column\": \"BS_Wins\",\n      \"properties\": {\n        \"dtype\": \"number\",\n        \"std\": 64.31755857503681,\n        \"min\": 0.0,\n        \"max\": 184.0,\n        \"num_unique_values\": 8,\n        \"samples\": [\n          30.043478260869566,\n          11.0,\n          115.0\n        ],\n        \"semantic_type\": \"\",\n        \"description\": \"\"\n      }\n    },\n    {\n      \"column\": \"BS_Loses\",\n      \"properties\": {\n        \"dtype\": \"number\",\n        \"std\": 66.08696912755539,\n        \"min\": 0.0,\n        \"max\": 191.0,\n        \"num_unique_values\": 8,\n        \"samples\": [\n          30.695652173913043,\n          12.0,\n          115.0\n        ],\n        \"semantic_type\": \"\",\n        \"description\": \"\"\n      }\n    },\n    {\n      \"column\": \"RS_Picked\",\n      \"properties\": {\n        \"dtype\": \"number\",\n        \"std\": 122.48401044448653,\n        \"min\": 0.0,\n        \"max\": 379.0,\n        \"num_unique_values\": 8,\n        \"samples\": [\n          60.78260869565217,\n          23.0,\n          115.0\n        ],\n        \"semantic_type\": \"\",\n        \"description\": \"\"\n      }\n    },\n    {\n      \"column\": \"RS_Wins\",\n      \"properties\": {\n        \"dtype\": \"number\",\n        \"std\": 68.6167203375627,\n        \"min\": 0.0,\n        \"max\": 199.0,\n        \"num_unique_values\": 8,\n        \"samples\": [\n          30.695652173913043,\n          12.0,\n          115.0\n        ],\n        \"semantic_type\": \"\",\n        \"description\": \"\"\n      }\n    },\n    {\n      \"column\": \"RS_Loses\",\n      \"properties\": {\n        \"dtype\": \"number\",\n        \"std\": 69.45724717401247,\n        \"min\": 0.0,\n        \"max\": 202.0,\n        \"num_unique_values\": 8,\n        \"samples\": [\n          30.08695652173913,\n          12.0,\n          115.0\n        ],\n        \"semantic_type\": \"\",\n        \"description\": \"\"\n      }\n    },\n    {\n      \"column\": \"T_Banned\",\n      \"properties\": {\n        \"dtype\": \"number\",\n        \"std\": 241.9606695760247,\n        \"min\": 0.0,\n        \"max\": 741.0,\n        \"num_unique_values\": 8,\n        \"samples\": [\n          121.51304347826087,\n          24.0,\n          115.0\n        ],\n        \"semantic_type\": \"\",\n        \"description\": \"\"\n      }\n    },\n    {\n      \"column\": \"T_PicksBans\",\n      \"properties\": {\n        \"dtype\": \"number\",\n        \"std\": 395.21122660740815,\n        \"min\": 1.0,\n        \"max\": 1211.0,\n        \"num_unique_values\": 8,\n        \"samples\": [\n          243.03478260869565,\n          83.0,\n          115.0\n        ],\n        \"semantic_type\": \"\",\n        \"description\": \"\"\n      }\n    }\n  ]\n}"
            }
          },
          "metadata": {},
          "execution_count": 60
        }
      ]
    },
    {
      "cell_type": "markdown",
      "source": [
        "\n",
        "\n",
        "1. **Index**:\n",
        "   - Jumlah: 115\n",
        "   - Rata-rata: 58.00\n",
        "   - Standar deviasi: 33.34\n",
        "   - Nilai minimum: 1.00\n",
        "   - Kuartil bawah (25%): 29.50\n",
        "   - Median (50%): 58.00\n",
        "   - Kuartil atas (75%): 86.50\n",
        "   - Nilai maksimum: 115.00\n",
        "   - Tipe Data: integer (int64)\n",
        "\n",
        "2. **T_Picked**: Total Hero dipilih.\n",
        "   - Jumlah: 115\n",
        "   - Rata-rata: 121.52\n",
        "   - Standar deviasi: 165.79\n",
        "   - Nilai minimum: 0.00\n",
        "   - Kuartil bawah (25%): 6.00\n",
        "   - Median (50%): 43.00\n",
        "   - Kuartil atas (75%): 193.00\n",
        "   - Nilai maksimum: 727.00\n",
        "   - Tipe Data: integer (int64)\n",
        "\n",
        "3. **T_Wins**: Total kemenangan dengan Hero tersebut.\n",
        "   - Jumlah: 115\n",
        "   - Rata-rata: 60.74\n",
        "   - Standar deviasi: 84.58\n",
        "   - Nilai minimum: 0.00\n",
        "   - Kuartil bawah (25%): 3.00\n",
        "   - Median (50%): 25.00\n",
        "   - Kuartil atas (75%): 89.00\n",
        "   - Nilai maksimum: 383.00\n",
        "   - Tipe Data: integer (int64)\n",
        "\n",
        "4. **T_Loses**: Total kekalahan dengan Hero tersebut.\n",
        "   - Jumlah: 115\n",
        "   - Rata-rata: 60.78\n",
        "   - Standar deviasi: 82.06\n",
        "   - Nilai minimum: 0.00\n",
        "   - Kuartil bawah (25%): 4.00\n",
        "   - Median (50%): 22.00\n",
        "   - Kuartil atas (75%): 101.00\n",
        "   - Nilai maksimum: 393.00\n",
        "   - Tipe Data: integer (int64)\n",
        "\n",
        "5. **BS_Picked**: Total Hero dipilih oleh Tim Biru.\n",
        "   - Jumlah: 115\n",
        "   - Rata-rata: 60.74\n",
        "   - Standar deviasi: 82.20\n",
        "   - Nilai minimum: 0.00\n",
        "   - Kuartil bawah (25%): 3.00\n",
        "   - Median (50%): 20.00\n",
        "   - Kuartil atas (75%): 101.50\n",
        "   - Nilai maksimum: 361.00\n",
        "   - Tipe Data: integer (int64)\n",
        "\n",
        "6. **BS_Wins**: Total kemenangan dengan Hero oleh Tim Biru.\n",
        "   - Jumlah: 115\n",
        "   - Rata-rata: 30.04\n",
        "   - Standar deviasi: 41.65\n",
        "   - Nilai minimum: 0.00\n",
        "   - Kuartil bawah (25%): 1.00\n",
        "   - Median (50%): 11.00\n",
        "   - Kuartil atas (75%): 48.00\n",
        "   - Nilai maksimum: 184.00\n",
        "   - Tipe Data: integer (int64)\n",
        "\n",
        "7. **BS_Loses**: Total kekalahan dengan Hero oleh Tim Biru.\n",
        "   - Jumlah: 115\n",
        "   - Rata-rata: 30.70\n",
        "   - Standar deviasi: 41.15\n",
        "   - Nilai minimum: 0.00\n",
        "   - Kuartil bawah (25%): 2.00\n",
        "   - Median (50%): 12.00\n",
        "   - Kuartil atas (75%): 51.50\n",
        "   - Nilai maksimum: 191.00\n",
        "   - Tipe Data: integer (int64)\n",
        "\n",
        "8. **RS_Picked**: Total Hero dipilih oleh Tim Merah.\n",
        "   - Jumlah: 115\n",
        "   - Rata-rata: 60.78\n",
        "   - Standar deviasi: 84.21\n",
        "   - Nilai minimum: 0.00\n",
        "   - Kuartil bawah (25%): 3.00\n",
        "   - Median (50%): 23.00\n",
        "   - Kuartil atas (75%): 95.00\n",
        "   - Nilai maksimum: 379.00\n",
        "   - Tipe Data: integer (int64)\n",
        "\n",
        "9. **RS_Wins**: Total kemenangan dengan Hero oleh Tim Merah.\n",
        "   - Jumlah: 115\n",
        "   - Rata-rata: 30.70\n",
        "   - Standar deviasi: 43.39\n",
        "   - Nilai minimum: 0.00\n",
        "   - Kuartil bawah (25%): 1.00\n",
        "   - Median (50%): 12.00\n",
        "   - Kuartil atas (75%): 44.50\n",
        "   - Nilai maksimum: 199.00\n",
        "   - Tipe Data: integer (int64)\n",
        "\n",
        "10. **RS_Loses**: Total kekalahan dengan Hero oleh Tim Merah.\n",
        "    - Jumlah: 115\n",
        "    - Rata-rata: 30.09\n",
        "    - Standar deviasi: 41.38\n",
        "    - Nilai minimum: 0.00\n",
        "    - Kuartil bawah (25%): 2.00\n",
        "    - Median (50%): 12.00\n",
        "    - Kuartil atas (75%): 46.00\n",
        "    - Nilai maksimum: 202.00\n",
        "    - Tipe Data: integer (int64)\n",
        "\n",
        "11. **T_Banned**: Jumlah kali Hero tersebut dibanned.\n",
        "    - Jumlah: 115\n",
        "    - Rata-rata: 121.51\n",
        "    - Standar deviasi: 180.27\n",
        "    - Nilai minimum: 0.00\n",
        "    - Kuartil bawah (25%): 2.50\n",
        "    - Median (50%): 24.00\n",
        "    - Kuartil atas (75%): 174.50\n",
        "    - Nilai maksimum: 741.00\n",
        "    - Tipe Data: integer (int64)\n",
        "\n",
        "12. **T_PicksBans**: Jumlah kali Hero tersebut dipilih atau dibanned.\n",
        "    - Jumlah: 115\n",
        "    - Rata-rata: 243.03\n",
        "    - Standar deviasi: 322.98\n",
        "    - Nilai minimum: 1.00\n",
        "    - Kuartil bawah (25%): 10.50\n",
        "    - Median (50%): 83.00\n",
        "    - Kuartil atas (75%): 373.00\n",
        "    - Nilai maksimum: 1211.00\n",
        "    - Tipe Data: integer (int64)\n",
        "\n"
      ],
      "metadata": {
        "id": "q_OSzaKKV28E"
      }
    },
    {
      "cell_type": "markdown",
      "source": [
        "Disini saya melakukan Data Cleaning agar datanya lebih mudah untuk di visualisasikan"
      ],
      "metadata": {
        "id": "XbNZgE3lwjf2"
      }
    },
    {
      "cell_type": "code",
      "source": [
        "df.drop(['Index', 'Played By', 'Played With','Played Vs.'], axis=1,inplace=True)\n",
        "df.head()"
      ],
      "metadata": {
        "colab": {
          "base_uri": "https://localhost:8080/",
          "height": 226
        },
        "id": "2QvWc2m1rPGI",
        "outputId": "14c5f69e-3225-419b-a779-4470ebc40b84"
      },
      "execution_count": 61,
      "outputs": [
        {
          "output_type": "execute_result",
          "data": {
            "text/plain": [
              "         Hero  T_Picked  T_Wins  T_Loses T_WinRate T_PickPercentage  \\\n",
              "0   Valentina       727     334      393    45.94%           52.00%   \n",
              "1    Fredrinn       726     383      343    52.75%           51.93%   \n",
              "2     Terizla       620     348      272    56.13%           44.35%   \n",
              "3       Edith       527     265      262    50.28%           37.70%   \n",
              "4     Irithel       502     255      247    50.80%           35.91%   \n",
              "\n",
              "   BS_Picked  BS_Wins  BS_Loses BS_WinRate  RS_Picked  RS_Wins  RS_Loses  \\\n",
              "0        348      157       191     45.11%        379      177       202   \n",
              "1        361      184       177     50.97%        365      199       166   \n",
              "2        291      168       123     57.73%        329      180       149   \n",
              "3        258      125       133     48.45%        269      140       129   \n",
              "4        245      129       116     52.65%        257      126       131   \n",
              "\n",
              "  RS_WinRate  T_Banned T_BansPercentage  T_PicksBans T_PicksBansPercentage  \\\n",
              "0     46.70%       484           34.62%         1211                86.62%   \n",
              "1     54.52%       475           33.98%         1201                85.91%   \n",
              "2     54.71%       435           31.12%         1055                75.46%   \n",
              "3     52.04%       477           34.12%         1004                71.82%   \n",
              "4     49.03%       208           14.88%          710                50.79%   \n",
              "\n",
              "      Roles  \n",
              "0      Mage  \n",
              "1   Support  \n",
              "2   Fighter  \n",
              "3      Tank  \n",
              "4  Marksman  "
            ],
            "text/html": [
              "\n",
              "  <div id=\"df-765c4a65-60f1-46e4-822a-c1129cd2a81a\" class=\"colab-df-container\">\n",
              "    <div>\n",
              "<style scoped>\n",
              "    .dataframe tbody tr th:only-of-type {\n",
              "        vertical-align: middle;\n",
              "    }\n",
              "\n",
              "    .dataframe tbody tr th {\n",
              "        vertical-align: top;\n",
              "    }\n",
              "\n",
              "    .dataframe thead th {\n",
              "        text-align: right;\n",
              "    }\n",
              "</style>\n",
              "<table border=\"1\" class=\"dataframe\">\n",
              "  <thead>\n",
              "    <tr style=\"text-align: right;\">\n",
              "      <th></th>\n",
              "      <th>Hero</th>\n",
              "      <th>T_Picked</th>\n",
              "      <th>T_Wins</th>\n",
              "      <th>T_Loses</th>\n",
              "      <th>T_WinRate</th>\n",
              "      <th>T_PickPercentage</th>\n",
              "      <th>BS_Picked</th>\n",
              "      <th>BS_Wins</th>\n",
              "      <th>BS_Loses</th>\n",
              "      <th>BS_WinRate</th>\n",
              "      <th>RS_Picked</th>\n",
              "      <th>RS_Wins</th>\n",
              "      <th>RS_Loses</th>\n",
              "      <th>RS_WinRate</th>\n",
              "      <th>T_Banned</th>\n",
              "      <th>T_BansPercentage</th>\n",
              "      <th>T_PicksBans</th>\n",
              "      <th>T_PicksBansPercentage</th>\n",
              "      <th>Roles</th>\n",
              "    </tr>\n",
              "  </thead>\n",
              "  <tbody>\n",
              "    <tr>\n",
              "      <th>0</th>\n",
              "      <td>Valentina</td>\n",
              "      <td>727</td>\n",
              "      <td>334</td>\n",
              "      <td>393</td>\n",
              "      <td>45.94%</td>\n",
              "      <td>52.00%</td>\n",
              "      <td>348</td>\n",
              "      <td>157</td>\n",
              "      <td>191</td>\n",
              "      <td>45.11%</td>\n",
              "      <td>379</td>\n",
              "      <td>177</td>\n",
              "      <td>202</td>\n",
              "      <td>46.70%</td>\n",
              "      <td>484</td>\n",
              "      <td>34.62%</td>\n",
              "      <td>1211</td>\n",
              "      <td>86.62%</td>\n",
              "      <td>Mage</td>\n",
              "    </tr>\n",
              "    <tr>\n",
              "      <th>1</th>\n",
              "      <td>Fredrinn</td>\n",
              "      <td>726</td>\n",
              "      <td>383</td>\n",
              "      <td>343</td>\n",
              "      <td>52.75%</td>\n",
              "      <td>51.93%</td>\n",
              "      <td>361</td>\n",
              "      <td>184</td>\n",
              "      <td>177</td>\n",
              "      <td>50.97%</td>\n",
              "      <td>365</td>\n",
              "      <td>199</td>\n",
              "      <td>166</td>\n",
              "      <td>54.52%</td>\n",
              "      <td>475</td>\n",
              "      <td>33.98%</td>\n",
              "      <td>1201</td>\n",
              "      <td>85.91%</td>\n",
              "      <td>Support</td>\n",
              "    </tr>\n",
              "    <tr>\n",
              "      <th>2</th>\n",
              "      <td>Terizla</td>\n",
              "      <td>620</td>\n",
              "      <td>348</td>\n",
              "      <td>272</td>\n",
              "      <td>56.13%</td>\n",
              "      <td>44.35%</td>\n",
              "      <td>291</td>\n",
              "      <td>168</td>\n",
              "      <td>123</td>\n",
              "      <td>57.73%</td>\n",
              "      <td>329</td>\n",
              "      <td>180</td>\n",
              "      <td>149</td>\n",
              "      <td>54.71%</td>\n",
              "      <td>435</td>\n",
              "      <td>31.12%</td>\n",
              "      <td>1055</td>\n",
              "      <td>75.46%</td>\n",
              "      <td>Fighter</td>\n",
              "    </tr>\n",
              "    <tr>\n",
              "      <th>3</th>\n",
              "      <td>Edith</td>\n",
              "      <td>527</td>\n",
              "      <td>265</td>\n",
              "      <td>262</td>\n",
              "      <td>50.28%</td>\n",
              "      <td>37.70%</td>\n",
              "      <td>258</td>\n",
              "      <td>125</td>\n",
              "      <td>133</td>\n",
              "      <td>48.45%</td>\n",
              "      <td>269</td>\n",
              "      <td>140</td>\n",
              "      <td>129</td>\n",
              "      <td>52.04%</td>\n",
              "      <td>477</td>\n",
              "      <td>34.12%</td>\n",
              "      <td>1004</td>\n",
              "      <td>71.82%</td>\n",
              "      <td>Tank</td>\n",
              "    </tr>\n",
              "    <tr>\n",
              "      <th>4</th>\n",
              "      <td>Irithel</td>\n",
              "      <td>502</td>\n",
              "      <td>255</td>\n",
              "      <td>247</td>\n",
              "      <td>50.80%</td>\n",
              "      <td>35.91%</td>\n",
              "      <td>245</td>\n",
              "      <td>129</td>\n",
              "      <td>116</td>\n",
              "      <td>52.65%</td>\n",
              "      <td>257</td>\n",
              "      <td>126</td>\n",
              "      <td>131</td>\n",
              "      <td>49.03%</td>\n",
              "      <td>208</td>\n",
              "      <td>14.88%</td>\n",
              "      <td>710</td>\n",
              "      <td>50.79%</td>\n",
              "      <td>Marksman</td>\n",
              "    </tr>\n",
              "  </tbody>\n",
              "</table>\n",
              "</div>\n",
              "    <div class=\"colab-df-buttons\">\n",
              "\n",
              "  <div class=\"colab-df-container\">\n",
              "    <button class=\"colab-df-convert\" onclick=\"convertToInteractive('df-765c4a65-60f1-46e4-822a-c1129cd2a81a')\"\n",
              "            title=\"Convert this dataframe to an interactive table.\"\n",
              "            style=\"display:none;\">\n",
              "\n",
              "  <svg xmlns=\"http://www.w3.org/2000/svg\" height=\"24px\" viewBox=\"0 -960 960 960\">\n",
              "    <path d=\"M120-120v-720h720v720H120Zm60-500h600v-160H180v160Zm220 220h160v-160H400v160Zm0 220h160v-160H400v160ZM180-400h160v-160H180v160Zm440 0h160v-160H620v160ZM180-180h160v-160H180v160Zm440 0h160v-160H620v160Z\"/>\n",
              "  </svg>\n",
              "    </button>\n",
              "\n",
              "  <style>\n",
              "    .colab-df-container {\n",
              "      display:flex;\n",
              "      gap: 12px;\n",
              "    }\n",
              "\n",
              "    .colab-df-convert {\n",
              "      background-color: #E8F0FE;\n",
              "      border: none;\n",
              "      border-radius: 50%;\n",
              "      cursor: pointer;\n",
              "      display: none;\n",
              "      fill: #1967D2;\n",
              "      height: 32px;\n",
              "      padding: 0 0 0 0;\n",
              "      width: 32px;\n",
              "    }\n",
              "\n",
              "    .colab-df-convert:hover {\n",
              "      background-color: #E2EBFA;\n",
              "      box-shadow: 0px 1px 2px rgba(60, 64, 67, 0.3), 0px 1px 3px 1px rgba(60, 64, 67, 0.15);\n",
              "      fill: #174EA6;\n",
              "    }\n",
              "\n",
              "    .colab-df-buttons div {\n",
              "      margin-bottom: 4px;\n",
              "    }\n",
              "\n",
              "    [theme=dark] .colab-df-convert {\n",
              "      background-color: #3B4455;\n",
              "      fill: #D2E3FC;\n",
              "    }\n",
              "\n",
              "    [theme=dark] .colab-df-convert:hover {\n",
              "      background-color: #434B5C;\n",
              "      box-shadow: 0px 1px 3px 1px rgba(0, 0, 0, 0.15);\n",
              "      filter: drop-shadow(0px 1px 2px rgba(0, 0, 0, 0.3));\n",
              "      fill: #FFFFFF;\n",
              "    }\n",
              "  </style>\n",
              "\n",
              "    <script>\n",
              "      const buttonEl =\n",
              "        document.querySelector('#df-765c4a65-60f1-46e4-822a-c1129cd2a81a button.colab-df-convert');\n",
              "      buttonEl.style.display =\n",
              "        google.colab.kernel.accessAllowed ? 'block' : 'none';\n",
              "\n",
              "      async function convertToInteractive(key) {\n",
              "        const element = document.querySelector('#df-765c4a65-60f1-46e4-822a-c1129cd2a81a');\n",
              "        const dataTable =\n",
              "          await google.colab.kernel.invokeFunction('convertToInteractive',\n",
              "                                                    [key], {});\n",
              "        if (!dataTable) return;\n",
              "\n",
              "        const docLinkHtml = 'Like what you see? Visit the ' +\n",
              "          '<a target=\"_blank\" href=https://colab.research.google.com/notebooks/data_table.ipynb>data table notebook</a>'\n",
              "          + ' to learn more about interactive tables.';\n",
              "        element.innerHTML = '';\n",
              "        dataTable['output_type'] = 'display_data';\n",
              "        await google.colab.output.renderOutput(dataTable, element);\n",
              "        const docLink = document.createElement('div');\n",
              "        docLink.innerHTML = docLinkHtml;\n",
              "        element.appendChild(docLink);\n",
              "      }\n",
              "    </script>\n",
              "  </div>\n",
              "\n",
              "\n",
              "<div id=\"df-865f57bf-888e-4170-b0de-b7ea4b9d1c18\">\n",
              "  <button class=\"colab-df-quickchart\" onclick=\"quickchart('df-865f57bf-888e-4170-b0de-b7ea4b9d1c18')\"\n",
              "            title=\"Suggest charts\"\n",
              "            style=\"display:none;\">\n",
              "\n",
              "<svg xmlns=\"http://www.w3.org/2000/svg\" height=\"24px\"viewBox=\"0 0 24 24\"\n",
              "     width=\"24px\">\n",
              "    <g>\n",
              "        <path d=\"M19 3H5c-1.1 0-2 .9-2 2v14c0 1.1.9 2 2 2h14c1.1 0 2-.9 2-2V5c0-1.1-.9-2-2-2zM9 17H7v-7h2v7zm4 0h-2V7h2v10zm4 0h-2v-4h2v4z\"/>\n",
              "    </g>\n",
              "</svg>\n",
              "  </button>\n",
              "\n",
              "<style>\n",
              "  .colab-df-quickchart {\n",
              "      --bg-color: #E8F0FE;\n",
              "      --fill-color: #1967D2;\n",
              "      --hover-bg-color: #E2EBFA;\n",
              "      --hover-fill-color: #174EA6;\n",
              "      --disabled-fill-color: #AAA;\n",
              "      --disabled-bg-color: #DDD;\n",
              "  }\n",
              "\n",
              "  [theme=dark] .colab-df-quickchart {\n",
              "      --bg-color: #3B4455;\n",
              "      --fill-color: #D2E3FC;\n",
              "      --hover-bg-color: #434B5C;\n",
              "      --hover-fill-color: #FFFFFF;\n",
              "      --disabled-bg-color: #3B4455;\n",
              "      --disabled-fill-color: #666;\n",
              "  }\n",
              "\n",
              "  .colab-df-quickchart {\n",
              "    background-color: var(--bg-color);\n",
              "    border: none;\n",
              "    border-radius: 50%;\n",
              "    cursor: pointer;\n",
              "    display: none;\n",
              "    fill: var(--fill-color);\n",
              "    height: 32px;\n",
              "    padding: 0;\n",
              "    width: 32px;\n",
              "  }\n",
              "\n",
              "  .colab-df-quickchart:hover {\n",
              "    background-color: var(--hover-bg-color);\n",
              "    box-shadow: 0 1px 2px rgba(60, 64, 67, 0.3), 0 1px 3px 1px rgba(60, 64, 67, 0.15);\n",
              "    fill: var(--button-hover-fill-color);\n",
              "  }\n",
              "\n",
              "  .colab-df-quickchart-complete:disabled,\n",
              "  .colab-df-quickchart-complete:disabled:hover {\n",
              "    background-color: var(--disabled-bg-color);\n",
              "    fill: var(--disabled-fill-color);\n",
              "    box-shadow: none;\n",
              "  }\n",
              "\n",
              "  .colab-df-spinner {\n",
              "    border: 2px solid var(--fill-color);\n",
              "    border-color: transparent;\n",
              "    border-bottom-color: var(--fill-color);\n",
              "    animation:\n",
              "      spin 1s steps(1) infinite;\n",
              "  }\n",
              "\n",
              "  @keyframes spin {\n",
              "    0% {\n",
              "      border-color: transparent;\n",
              "      border-bottom-color: var(--fill-color);\n",
              "      border-left-color: var(--fill-color);\n",
              "    }\n",
              "    20% {\n",
              "      border-color: transparent;\n",
              "      border-left-color: var(--fill-color);\n",
              "      border-top-color: var(--fill-color);\n",
              "    }\n",
              "    30% {\n",
              "      border-color: transparent;\n",
              "      border-left-color: var(--fill-color);\n",
              "      border-top-color: var(--fill-color);\n",
              "      border-right-color: var(--fill-color);\n",
              "    }\n",
              "    40% {\n",
              "      border-color: transparent;\n",
              "      border-right-color: var(--fill-color);\n",
              "      border-top-color: var(--fill-color);\n",
              "    }\n",
              "    60% {\n",
              "      border-color: transparent;\n",
              "      border-right-color: var(--fill-color);\n",
              "    }\n",
              "    80% {\n",
              "      border-color: transparent;\n",
              "      border-right-color: var(--fill-color);\n",
              "      border-bottom-color: var(--fill-color);\n",
              "    }\n",
              "    90% {\n",
              "      border-color: transparent;\n",
              "      border-bottom-color: var(--fill-color);\n",
              "    }\n",
              "  }\n",
              "</style>\n",
              "\n",
              "  <script>\n",
              "    async function quickchart(key) {\n",
              "      const quickchartButtonEl =\n",
              "        document.querySelector('#' + key + ' button');\n",
              "      quickchartButtonEl.disabled = true;  // To prevent multiple clicks.\n",
              "      quickchartButtonEl.classList.add('colab-df-spinner');\n",
              "      try {\n",
              "        const charts = await google.colab.kernel.invokeFunction(\n",
              "            'suggestCharts', [key], {});\n",
              "      } catch (error) {\n",
              "        console.error('Error during call to suggestCharts:', error);\n",
              "      }\n",
              "      quickchartButtonEl.classList.remove('colab-df-spinner');\n",
              "      quickchartButtonEl.classList.add('colab-df-quickchart-complete');\n",
              "    }\n",
              "    (() => {\n",
              "      let quickchartButtonEl =\n",
              "        document.querySelector('#df-865f57bf-888e-4170-b0de-b7ea4b9d1c18 button');\n",
              "      quickchartButtonEl.style.display =\n",
              "        google.colab.kernel.accessAllowed ? 'block' : 'none';\n",
              "    })();\n",
              "  </script>\n",
              "</div>\n",
              "    </div>\n",
              "  </div>\n"
            ],
            "application/vnd.google.colaboratory.intrinsic+json": {
              "type": "dataframe",
              "variable_name": "df",
              "summary": "{\n  \"name\": \"df\",\n  \"rows\": 115,\n  \"fields\": [\n    {\n      \"column\": \"Hero\",\n      \"properties\": {\n        \"dtype\": \"string\",\n        \"num_unique_values\": 115,\n        \"samples\": [\n          \"\\u00a0Alice\",\n          \"\\u00a0Irithel\",\n          \"\\u00a0Valir\"\n        ],\n        \"semantic_type\": \"\",\n        \"description\": \"\"\n      }\n    },\n    {\n      \"column\": \"T_Picked\",\n      \"properties\": {\n        \"dtype\": \"number\",\n        \"std\": 165,\n        \"min\": 0,\n        \"max\": 727,\n        \"num_unique_values\": 77,\n        \"samples\": [\n          502,\n          127,\n          407\n        ],\n        \"semantic_type\": \"\",\n        \"description\": \"\"\n      }\n    },\n    {\n      \"column\": \"T_Wins\",\n      \"properties\": {\n        \"dtype\": \"number\",\n        \"std\": 84,\n        \"min\": 0,\n        \"max\": 383,\n        \"num_unique_values\": 60,\n        \"samples\": [\n          334,\n          215,\n          43\n        ],\n        \"semantic_type\": \"\",\n        \"description\": \"\"\n      }\n    },\n    {\n      \"column\": \"T_Loses\",\n      \"properties\": {\n        \"dtype\": \"number\",\n        \"std\": 82,\n        \"min\": 0,\n        \"max\": 393,\n        \"num_unique_values\": 65,\n        \"samples\": [\n          14,\n          4,\n          393\n        ],\n        \"semantic_type\": \"\",\n        \"description\": \"\"\n      }\n    },\n    {\n      \"column\": \"T_WinRate\",\n      \"properties\": {\n        \"dtype\": \"string\",\n        \"num_unique_values\": 83,\n        \"samples\": [\n          \"51.18%\",\n          \"45.94%\",\n          \"55.08%\"\n        ],\n        \"semantic_type\": \"\",\n        \"description\": \"\"\n      }\n    },\n    {\n      \"column\": \"T_PickPercentage\",\n      \"properties\": {\n        \"dtype\": \"string\",\n        \"num_unique_values\": 77,\n        \"samples\": [\n          \"35.91%\",\n          \"9.08%\",\n          \"29.11%\"\n        ],\n        \"semantic_type\": \"\",\n        \"description\": \"\"\n      }\n    },\n    {\n      \"column\": \"BS_Picked\",\n      \"properties\": {\n        \"dtype\": \"number\",\n        \"std\": 82,\n        \"min\": 0,\n        \"max\": 361,\n        \"num_unique_values\": 66,\n        \"samples\": [\n          8,\n          2,\n          348\n        ],\n        \"semantic_type\": \"\",\n        \"description\": \"\"\n      }\n    },\n    {\n      \"column\": \"BS_Wins\",\n      \"properties\": {\n        \"dtype\": \"number\",\n        \"std\": 41,\n        \"min\": 0,\n        \"max\": 184,\n        \"num_unique_values\": 56,\n        \"samples\": [\n          157,\n          121,\n          30\n        ],\n        \"semantic_type\": \"\",\n        \"description\": \"\"\n      }\n    },\n    {\n      \"column\": \"BS_Loses\",\n      \"properties\": {\n        \"dtype\": \"number\",\n        \"std\": 41,\n        \"min\": 0,\n        \"max\": 191,\n        \"num_unique_values\": 52,\n        \"samples\": [\n          67,\n          4,\n          10\n        ],\n        \"semantic_type\": \"\",\n        \"description\": \"\"\n      }\n    },\n    {\n      \"column\": \"BS_WinRate\",\n      \"properties\": {\n        \"dtype\": \"string\",\n        \"num_unique_values\": 72,\n        \"samples\": [\n          \"52.65%\",\n          \"36.36%\",\n          \"45.19%\"\n        ],\n        \"semantic_type\": \"\",\n        \"description\": \"\"\n      }\n    },\n    {\n      \"column\": \"RS_Picked\",\n      \"properties\": {\n        \"dtype\": \"number\",\n        \"std\": 84,\n        \"min\": 0,\n        \"max\": 379,\n        \"num_unique_values\": 71,\n        \"samples\": [\n          139,\n          379,\n          34\n        ],\n        \"semantic_type\": \"\",\n        \"description\": \"\"\n      }\n    },\n    {\n      \"column\": \"RS_Wins\",\n      \"properties\": {\n        \"dtype\": \"number\",\n        \"std\": 43,\n        \"min\": 0,\n        \"max\": 199,\n        \"num_unique_values\": 55,\n        \"samples\": [\n          32,\n          94,\n          25\n        ],\n        \"semantic_type\": \"\",\n        \"description\": \"\"\n      }\n    },\n    {\n      \"column\": \"RS_Loses\",\n      \"properties\": {\n        \"dtype\": \"number\",\n        \"std\": 41,\n        \"min\": 0,\n        \"max\": 202,\n        \"num_unique_values\": 52,\n        \"samples\": [\n          55,\n          22,\n          5\n        ],\n        \"semantic_type\": \"\",\n        \"description\": \"\"\n      }\n    },\n    {\n      \"column\": \"RS_WinRate\",\n      \"properties\": {\n        \"dtype\": \"string\",\n        \"num_unique_values\": 75,\n        \"samples\": [\n          \"49.03%\",\n          \"28.57%\",\n          \"56.41%\"\n        ],\n        \"semantic_type\": \"\",\n        \"description\": \"\"\n      }\n    },\n    {\n      \"column\": \"T_Banned\",\n      \"properties\": {\n        \"dtype\": \"number\",\n        \"std\": 180,\n        \"min\": 0,\n        \"max\": 741,\n        \"num_unique_values\": 69,\n        \"samples\": [\n          156,\n          484,\n          79\n        ],\n        \"semantic_type\": \"\",\n        \"description\": \"\"\n      }\n    },\n    {\n      \"column\": \"T_BansPercentage\",\n      \"properties\": {\n        \"dtype\": \"string\",\n        \"num_unique_values\": 69,\n        \"samples\": [\n          \"11.16%\",\n          \"34.62%\",\n          \"5.65%\"\n        ],\n        \"semantic_type\": \"\",\n        \"description\": \"\"\n      }\n    },\n    {\n      \"column\": \"T_PicksBans\",\n      \"properties\": {\n        \"dtype\": \"number\",\n        \"std\": 322,\n        \"min\": 1,\n        \"max\": 1211,\n        \"num_unique_values\": 86,\n        \"samples\": [\n          23,\n          1211,\n          83\n        ],\n        \"semantic_type\": \"\",\n        \"description\": \"\"\n      }\n    },\n    {\n      \"column\": \"T_PicksBansPercentage\",\n      \"properties\": {\n        \"dtype\": \"string\",\n        \"num_unique_values\": 86,\n        \"samples\": [\n          \"1.65%\",\n          \"86.62%\",\n          \"5.94%\"\n        ],\n        \"semantic_type\": \"\",\n        \"description\": \"\"\n      }\n    },\n    {\n      \"column\": \"Roles\",\n      \"properties\": {\n        \"dtype\": \"category\",\n        \"num_unique_values\": 19,\n        \"samples\": [\n          \"Mage\",\n          \"Assassin\",\n          \"Fighter / Mage\"\n        ],\n        \"semantic_type\": \"\",\n        \"description\": \"\"\n      }\n    }\n  ]\n}"
            }
          },
          "metadata": {},
          "execution_count": 61
        }
      ]
    },
    {
      "cell_type": "code",
      "source": [
        "df['T_WinRate'] = pd.to_numeric(df['T_WinRate'].str.strip('%'), errors='coerce')\n",
        "df['T_PickPercentage'] = pd.to_numeric(df['T_PickPercentage'].str.strip('%'), errors='coerce')\n",
        "df['BS_WinRate'] = pd.to_numeric(df['BS_WinRate'].str.strip('%'), errors='coerce')\n",
        "df['RS_WinRate'] = pd.to_numeric(df['RS_WinRate'].str.strip('%'), errors='coerce')\n",
        "df['T_BansPercentage'] = pd.to_numeric(df['T_BansPercentage'].str.strip('%'), errors='coerce')\n",
        "df['T_PicksBansPercentage'] = pd.to_numeric(df['T_PicksBansPercentage'].str.strip('%'), errors='coerce')"
      ],
      "metadata": {
        "id": "i19TD5V6rRwD"
      },
      "execution_count": 62,
      "outputs": []
    },
    {
      "cell_type": "markdown",
      "source": [
        "##**Exploratory Data Analysis**"
      ],
      "metadata": {
        "id": "YVd8wfBkV9OE"
      }
    },
    {
      "cell_type": "code",
      "source": [
        "df_wr = df.sort_values('T_WinRate')\n",
        "\n",
        "fig = px.bar(\n",
        "    df_wr,\n",
        "    x='Hero',\n",
        "    y='T_WinRate',\n",
        "    color='T_WinRate',\n",
        "    labels={\"T_WinRate\":\"Win Rate\"},\n",
        "    title='Distribusi Tingkat Win Rate Hero'\n",
        ")\n",
        "fig.show()"
      ],
      "metadata": {
        "id": "_ohZShs2Wv9r",
        "colab": {
          "base_uri": "https://localhost:8080/",
          "height": 542
        },
        "outputId": "a69380d2-023f-409f-a9eb-f64d94da3625"
      },
      "execution_count": 63,
      "outputs": [
        {
          "output_type": "display_data",
          "data": {
            "text/html": [
              "<html>\n",
              "<head><meta charset=\"utf-8\" /></head>\n",
              "<body>\n",
              "    <div>            <script src=\"https://cdnjs.cloudflare.com/ajax/libs/mathjax/2.7.5/MathJax.js?config=TeX-AMS-MML_SVG\"></script><script type=\"text/javascript\">if (window.MathJax && window.MathJax.Hub && window.MathJax.Hub.Config) {window.MathJax.Hub.Config({SVG: {font: \"STIX-Web\"}});}</script>                <script type=\"text/javascript\">window.PlotlyConfig = {MathJaxConfig: 'local'};</script>\n",
              "        <script charset=\"utf-8\" src=\"https://cdn.plot.ly/plotly-2.24.1.min.js\"></script>                <div id=\"e6b17c26-deb2-4147-853a-45047f22d4a8\" class=\"plotly-graph-div\" style=\"height:525px; width:100%;\"></div>            <script type=\"text/javascript\">                                    window.PLOTLYENV=window.PLOTLYENV || {};                                    if (document.getElementById(\"e6b17c26-deb2-4147-853a-45047f22d4a8\")) {                    Plotly.newPlot(                        \"e6b17c26-deb2-4147-853a-45047f22d4a8\",                        [{\"alignmentgroup\":\"True\",\"hovertemplate\":\"Hero=%{x}\\u003cbr\\u003eWin Rate=%{marker.color}\\u003cextra\\u003e\\u003c\\u002fextra\\u003e\",\"legendgroup\":\"\",\"marker\":{\"color\":[0.0,0.0,0.0,0.0,0.0,0.0,0.0,0.0,0.0,14.29,16.67,20.0,20.0,22.22,23.08,25.0,25.0,25.0,29.41,30.0,30.77,33.33,33.33,33.33,33.33,33.33,34.88,37.5,37.5,39.66,40.63,40.85,41.67,41.67,41.94,42.86,42.86,43.06,43.1,43.68,43.88,43.96,44.05,44.09,44.83,44.89,45.41,45.61,45.94,46.13,46.34,46.62,46.67,47.22,47.5,47.62,47.62,47.83,48.22,48.42,48.65,48.67,49.87,50.0,50.0,50.0,50.0,50.0,50.0,50.28,50.6,50.8,51.18,51.28,51.35,51.43,51.46,52.54,52.66,52.75,53.19,53.42,53.81,53.81,53.85,54.13,54.55,54.78,55.08,55.13,55.65,55.91,56.13,56.22,56.42,56.45,58.33,58.33,59.57,60.0,60.99,63.51,66.67,67.57,71.19,75.0,75.0,80.0,80.0,100.0,100.0,100.0,100.0,null,null],\"coloraxis\":\"coloraxis\",\"pattern\":{\"shape\":\"\"}},\"name\":\"\",\"offsetgroup\":\"\",\"orientation\":\"v\",\"showlegend\":false,\"textposition\":\"auto\",\"x\":[\"\\u00a0Zilong\",\"\\u00a0Vale\",\"\\u00a0Sun\",\"\\u00a0Silvanna\",\"\\u00a0Alucard\",\"\\u00a0Vexana\",\"\\u00a0Tigreal\",\"\\u00a0Belerick\",\"\\u00a0Roger\",\"\\u00a0Jawhead\",\"\\u00a0Yin\",\"\\u00a0Chang'e\",\"\\u00a0Karina\",\"\\u00a0Thamuz\",\"\\u00a0Kagura\",\"\\u00a0Natan\",\"\\u00a0Selena\",\"\\u00a0Carmilla\",\"\\u00a0Leomord\",\"\\u00a0Xavier\",\"\\u00a0Badang\",\"\\u00a0Barats\",\"\\u00a0Minsitthar\",\"\\u00a0Luo Yi\",\"\\u00a0Natalia\",\"\\u00a0Hanabi\",\"\\u00a0Bane\",\"\\u00a0Alice\",\"\\u00a0Popol and Kupa\",\"\\u00a0Karrie\",\"\\u00a0Harith\",\"\\u00a0Rafaela\",\"\\u00a0Hanzo\",\"\\u00a0Estes\",\"\\u00a0Cecilion\",\"\\u00a0Masha\",\"\\u00a0Hylos\",\"\\u00a0Esmeralda\",\"\\u00a0Melissa\",\"\\u00a0Valir\",\"\\u00a0Uranus\",\"\\u00a0Grock\",\"\\u00a0Pharsa\",\"\\u00a0Arlott\",\"\\u00a0Guinevere\",\"\\u00a0Martis\",\"\\u00a0Akai\",\"\\u00a0Lapu-Lapu\",\"\\u00a0Valentina\",\"\\u00a0Khufra\",\"\\u00a0Brody\",\"\\u00a0Lancelot\",\"\\u00a0Lesley\",\"\\u00a0Floryn\",\"\\u00a0Clint\",\"\\u00a0Helcurt\",\"\\u00a0Lunox\",\"\\u00a0Benedetta\",\"\\u00a0Angela\",\"\\u00a0Minotaur\",\"\\u00a0Hayabusa\",\"\\u00a0X.Borg\",\"\\u00a0Claude\",\"\\u00a0Harley\",\"\\u00a0Yu Zhong\",\"\\u00a0Balmond\",\"\\u00a0Aldous\",\"\\u00a0Aulus\",\"\\u00a0Chou\",\"\\u00a0Edith\",\"\\u00a0Gloo\",\"\\u00a0Irithel\",\"\\u00a0Lylia\",\"\\u00a0Paquito\",\"\\u00a0Kaja\",\"\\u00a0Diggie\",\"\\u00a0Fanny\",\"\\u00a0Alpha\",\"\\u00a0Gord\",\"\\u00a0Fredrinn\",\"\\u00a0Baxia\",\"\\u00a0Wanwan\",\"\\u00a0Bruno\",\"\\u00a0Novaria\",\"\\u00a0Phoveus\",\"\\u00a0Beatrix\",\"\\u00a0Atlas\",\"\\u00a0Franco\",\"\\u00a0Yve\",\"\\u00a0Ling\",\"\\u00a0Ixia\",\"\\u00a0Kadita\",\"\\u00a0Terizla\",\"\\u00a0Joy\",\"\\u00a0Faramis\",\"\\u00a0Ruby\",\"\\u00a0Gusion\",\"\\u00a0Nolan\",\"\\u00a0Lolita\",\"\\u00a0Julian\",\"\\u00a0Mathilda\",\"\\u00a0Khaleed\",\"\\u00a0Nana\",\"\\u00a0Hilda\",\"\\u00a0Dyrroth\",\"\\u00a0Yi Sun-Shin\",\"\\u00a0Aamon\",\"\\u00a0Cyclops\",\"\\u00a0Granger\",\"\\u00a0Freya\",\"\\u00a0Kimmy\",\"\\u00a0Moskov\",\"\\u00a0Saber\",\"\\u00a0Layla\",\"\\u00a0Miya\"],\"xaxis\":\"x\",\"y\":[0.0,0.0,0.0,0.0,0.0,0.0,0.0,0.0,0.0,14.29,16.67,20.0,20.0,22.22,23.08,25.0,25.0,25.0,29.41,30.0,30.77,33.33,33.33,33.33,33.33,33.33,34.88,37.5,37.5,39.66,40.63,40.85,41.67,41.67,41.94,42.86,42.86,43.06,43.1,43.68,43.88,43.96,44.05,44.09,44.83,44.89,45.41,45.61,45.94,46.13,46.34,46.62,46.67,47.22,47.5,47.62,47.62,47.83,48.22,48.42,48.65,48.67,49.87,50.0,50.0,50.0,50.0,50.0,50.0,50.28,50.6,50.8,51.18,51.28,51.35,51.43,51.46,52.54,52.66,52.75,53.19,53.42,53.81,53.81,53.85,54.13,54.55,54.78,55.08,55.13,55.65,55.91,56.13,56.22,56.42,56.45,58.33,58.33,59.57,60.0,60.99,63.51,66.67,67.57,71.19,75.0,75.0,80.0,80.0,100.0,100.0,100.0,100.0,null,null],\"yaxis\":\"y\",\"type\":\"bar\"}],                        {\"template\":{\"data\":{\"histogram2dcontour\":[{\"type\":\"histogram2dcontour\",\"colorbar\":{\"outlinewidth\":0,\"ticks\":\"\"},\"colorscale\":[[0.0,\"#0d0887\"],[0.1111111111111111,\"#46039f\"],[0.2222222222222222,\"#7201a8\"],[0.3333333333333333,\"#9c179e\"],[0.4444444444444444,\"#bd3786\"],[0.5555555555555556,\"#d8576b\"],[0.6666666666666666,\"#ed7953\"],[0.7777777777777778,\"#fb9f3a\"],[0.8888888888888888,\"#fdca26\"],[1.0,\"#f0f921\"]]}],\"choropleth\":[{\"type\":\"choropleth\",\"colorbar\":{\"outlinewidth\":0,\"ticks\":\"\"}}],\"histogram2d\":[{\"type\":\"histogram2d\",\"colorbar\":{\"outlinewidth\":0,\"ticks\":\"\"},\"colorscale\":[[0.0,\"#0d0887\"],[0.1111111111111111,\"#46039f\"],[0.2222222222222222,\"#7201a8\"],[0.3333333333333333,\"#9c179e\"],[0.4444444444444444,\"#bd3786\"],[0.5555555555555556,\"#d8576b\"],[0.6666666666666666,\"#ed7953\"],[0.7777777777777778,\"#fb9f3a\"],[0.8888888888888888,\"#fdca26\"],[1.0,\"#f0f921\"]]}],\"heatmap\":[{\"type\":\"heatmap\",\"colorbar\":{\"outlinewidth\":0,\"ticks\":\"\"},\"colorscale\":[[0.0,\"#0d0887\"],[0.1111111111111111,\"#46039f\"],[0.2222222222222222,\"#7201a8\"],[0.3333333333333333,\"#9c179e\"],[0.4444444444444444,\"#bd3786\"],[0.5555555555555556,\"#d8576b\"],[0.6666666666666666,\"#ed7953\"],[0.7777777777777778,\"#fb9f3a\"],[0.8888888888888888,\"#fdca26\"],[1.0,\"#f0f921\"]]}],\"heatmapgl\":[{\"type\":\"heatmapgl\",\"colorbar\":{\"outlinewidth\":0,\"ticks\":\"\"},\"colorscale\":[[0.0,\"#0d0887\"],[0.1111111111111111,\"#46039f\"],[0.2222222222222222,\"#7201a8\"],[0.3333333333333333,\"#9c179e\"],[0.4444444444444444,\"#bd3786\"],[0.5555555555555556,\"#d8576b\"],[0.6666666666666666,\"#ed7953\"],[0.7777777777777778,\"#fb9f3a\"],[0.8888888888888888,\"#fdca26\"],[1.0,\"#f0f921\"]]}],\"contourcarpet\":[{\"type\":\"contourcarpet\",\"colorbar\":{\"outlinewidth\":0,\"ticks\":\"\"}}],\"contour\":[{\"type\":\"contour\",\"colorbar\":{\"outlinewidth\":0,\"ticks\":\"\"},\"colorscale\":[[0.0,\"#0d0887\"],[0.1111111111111111,\"#46039f\"],[0.2222222222222222,\"#7201a8\"],[0.3333333333333333,\"#9c179e\"],[0.4444444444444444,\"#bd3786\"],[0.5555555555555556,\"#d8576b\"],[0.6666666666666666,\"#ed7953\"],[0.7777777777777778,\"#fb9f3a\"],[0.8888888888888888,\"#fdca26\"],[1.0,\"#f0f921\"]]}],\"surface\":[{\"type\":\"surface\",\"colorbar\":{\"outlinewidth\":0,\"ticks\":\"\"},\"colorscale\":[[0.0,\"#0d0887\"],[0.1111111111111111,\"#46039f\"],[0.2222222222222222,\"#7201a8\"],[0.3333333333333333,\"#9c179e\"],[0.4444444444444444,\"#bd3786\"],[0.5555555555555556,\"#d8576b\"],[0.6666666666666666,\"#ed7953\"],[0.7777777777777778,\"#fb9f3a\"],[0.8888888888888888,\"#fdca26\"],[1.0,\"#f0f921\"]]}],\"mesh3d\":[{\"type\":\"mesh3d\",\"colorbar\":{\"outlinewidth\":0,\"ticks\":\"\"}}],\"scatter\":[{\"fillpattern\":{\"fillmode\":\"overlay\",\"size\":10,\"solidity\":0.2},\"type\":\"scatter\"}],\"parcoords\":[{\"type\":\"parcoords\",\"line\":{\"colorbar\":{\"outlinewidth\":0,\"ticks\":\"\"}}}],\"scatterpolargl\":[{\"type\":\"scatterpolargl\",\"marker\":{\"colorbar\":{\"outlinewidth\":0,\"ticks\":\"\"}}}],\"bar\":[{\"error_x\":{\"color\":\"#2a3f5f\"},\"error_y\":{\"color\":\"#2a3f5f\"},\"marker\":{\"line\":{\"color\":\"#E5ECF6\",\"width\":0.5},\"pattern\":{\"fillmode\":\"overlay\",\"size\":10,\"solidity\":0.2}},\"type\":\"bar\"}],\"scattergeo\":[{\"type\":\"scattergeo\",\"marker\":{\"colorbar\":{\"outlinewidth\":0,\"ticks\":\"\"}}}],\"scatterpolar\":[{\"type\":\"scatterpolar\",\"marker\":{\"colorbar\":{\"outlinewidth\":0,\"ticks\":\"\"}}}],\"histogram\":[{\"marker\":{\"pattern\":{\"fillmode\":\"overlay\",\"size\":10,\"solidity\":0.2}},\"type\":\"histogram\"}],\"scattergl\":[{\"type\":\"scattergl\",\"marker\":{\"colorbar\":{\"outlinewidth\":0,\"ticks\":\"\"}}}],\"scatter3d\":[{\"type\":\"scatter3d\",\"line\":{\"colorbar\":{\"outlinewidth\":0,\"ticks\":\"\"}},\"marker\":{\"colorbar\":{\"outlinewidth\":0,\"ticks\":\"\"}}}],\"scattermapbox\":[{\"type\":\"scattermapbox\",\"marker\":{\"colorbar\":{\"outlinewidth\":0,\"ticks\":\"\"}}}],\"scatterternary\":[{\"type\":\"scatterternary\",\"marker\":{\"colorbar\":{\"outlinewidth\":0,\"ticks\":\"\"}}}],\"scattercarpet\":[{\"type\":\"scattercarpet\",\"marker\":{\"colorbar\":{\"outlinewidth\":0,\"ticks\":\"\"}}}],\"carpet\":[{\"aaxis\":{\"endlinecolor\":\"#2a3f5f\",\"gridcolor\":\"white\",\"linecolor\":\"white\",\"minorgridcolor\":\"white\",\"startlinecolor\":\"#2a3f5f\"},\"baxis\":{\"endlinecolor\":\"#2a3f5f\",\"gridcolor\":\"white\",\"linecolor\":\"white\",\"minorgridcolor\":\"white\",\"startlinecolor\":\"#2a3f5f\"},\"type\":\"carpet\"}],\"table\":[{\"cells\":{\"fill\":{\"color\":\"#EBF0F8\"},\"line\":{\"color\":\"white\"}},\"header\":{\"fill\":{\"color\":\"#C8D4E3\"},\"line\":{\"color\":\"white\"}},\"type\":\"table\"}],\"barpolar\":[{\"marker\":{\"line\":{\"color\":\"#E5ECF6\",\"width\":0.5},\"pattern\":{\"fillmode\":\"overlay\",\"size\":10,\"solidity\":0.2}},\"type\":\"barpolar\"}],\"pie\":[{\"automargin\":true,\"type\":\"pie\"}]},\"layout\":{\"autotypenumbers\":\"strict\",\"colorway\":[\"#636efa\",\"#EF553B\",\"#00cc96\",\"#ab63fa\",\"#FFA15A\",\"#19d3f3\",\"#FF6692\",\"#B6E880\",\"#FF97FF\",\"#FECB52\"],\"font\":{\"color\":\"#2a3f5f\"},\"hovermode\":\"closest\",\"hoverlabel\":{\"align\":\"left\"},\"paper_bgcolor\":\"white\",\"plot_bgcolor\":\"#E5ECF6\",\"polar\":{\"bgcolor\":\"#E5ECF6\",\"angularaxis\":{\"gridcolor\":\"white\",\"linecolor\":\"white\",\"ticks\":\"\"},\"radialaxis\":{\"gridcolor\":\"white\",\"linecolor\":\"white\",\"ticks\":\"\"}},\"ternary\":{\"bgcolor\":\"#E5ECF6\",\"aaxis\":{\"gridcolor\":\"white\",\"linecolor\":\"white\",\"ticks\":\"\"},\"baxis\":{\"gridcolor\":\"white\",\"linecolor\":\"white\",\"ticks\":\"\"},\"caxis\":{\"gridcolor\":\"white\",\"linecolor\":\"white\",\"ticks\":\"\"}},\"coloraxis\":{\"colorbar\":{\"outlinewidth\":0,\"ticks\":\"\"}},\"colorscale\":{\"sequential\":[[0.0,\"#0d0887\"],[0.1111111111111111,\"#46039f\"],[0.2222222222222222,\"#7201a8\"],[0.3333333333333333,\"#9c179e\"],[0.4444444444444444,\"#bd3786\"],[0.5555555555555556,\"#d8576b\"],[0.6666666666666666,\"#ed7953\"],[0.7777777777777778,\"#fb9f3a\"],[0.8888888888888888,\"#fdca26\"],[1.0,\"#f0f921\"]],\"sequentialminus\":[[0.0,\"#0d0887\"],[0.1111111111111111,\"#46039f\"],[0.2222222222222222,\"#7201a8\"],[0.3333333333333333,\"#9c179e\"],[0.4444444444444444,\"#bd3786\"],[0.5555555555555556,\"#d8576b\"],[0.6666666666666666,\"#ed7953\"],[0.7777777777777778,\"#fb9f3a\"],[0.8888888888888888,\"#fdca26\"],[1.0,\"#f0f921\"]],\"diverging\":[[0,\"#8e0152\"],[0.1,\"#c51b7d\"],[0.2,\"#de77ae\"],[0.3,\"#f1b6da\"],[0.4,\"#fde0ef\"],[0.5,\"#f7f7f7\"],[0.6,\"#e6f5d0\"],[0.7,\"#b8e186\"],[0.8,\"#7fbc41\"],[0.9,\"#4d9221\"],[1,\"#276419\"]]},\"xaxis\":{\"gridcolor\":\"white\",\"linecolor\":\"white\",\"ticks\":\"\",\"title\":{\"standoff\":15},\"zerolinecolor\":\"white\",\"automargin\":true,\"zerolinewidth\":2},\"yaxis\":{\"gridcolor\":\"white\",\"linecolor\":\"white\",\"ticks\":\"\",\"title\":{\"standoff\":15},\"zerolinecolor\":\"white\",\"automargin\":true,\"zerolinewidth\":2},\"scene\":{\"xaxis\":{\"backgroundcolor\":\"#E5ECF6\",\"gridcolor\":\"white\",\"linecolor\":\"white\",\"showbackground\":true,\"ticks\":\"\",\"zerolinecolor\":\"white\",\"gridwidth\":2},\"yaxis\":{\"backgroundcolor\":\"#E5ECF6\",\"gridcolor\":\"white\",\"linecolor\":\"white\",\"showbackground\":true,\"ticks\":\"\",\"zerolinecolor\":\"white\",\"gridwidth\":2},\"zaxis\":{\"backgroundcolor\":\"#E5ECF6\",\"gridcolor\":\"white\",\"linecolor\":\"white\",\"showbackground\":true,\"ticks\":\"\",\"zerolinecolor\":\"white\",\"gridwidth\":2}},\"shapedefaults\":{\"line\":{\"color\":\"#2a3f5f\"}},\"annotationdefaults\":{\"arrowcolor\":\"#2a3f5f\",\"arrowhead\":0,\"arrowwidth\":1},\"geo\":{\"bgcolor\":\"white\",\"landcolor\":\"#E5ECF6\",\"subunitcolor\":\"white\",\"showland\":true,\"showlakes\":true,\"lakecolor\":\"white\"},\"title\":{\"x\":0.05},\"mapbox\":{\"style\":\"light\"}}},\"xaxis\":{\"anchor\":\"y\",\"domain\":[0.0,1.0],\"title\":{\"text\":\"Hero\"}},\"yaxis\":{\"anchor\":\"x\",\"domain\":[0.0,1.0],\"title\":{\"text\":\"Win Rate\"}},\"coloraxis\":{\"colorbar\":{\"title\":{\"text\":\"Win Rate\"}},\"colorscale\":[[0.0,\"#0d0887\"],[0.1111111111111111,\"#46039f\"],[0.2222222222222222,\"#7201a8\"],[0.3333333333333333,\"#9c179e\"],[0.4444444444444444,\"#bd3786\"],[0.5555555555555556,\"#d8576b\"],[0.6666666666666666,\"#ed7953\"],[0.7777777777777778,\"#fb9f3a\"],[0.8888888888888888,\"#fdca26\"],[1.0,\"#f0f921\"]]},\"legend\":{\"tracegroupgap\":0},\"title\":{\"text\":\"Distribusi Tingkat Win Rate Hero\"},\"barmode\":\"relative\"},                        {\"responsive\": true}                    ).then(function(){\n",
              "                            \n",
              "var gd = document.getElementById('e6b17c26-deb2-4147-853a-45047f22d4a8');\n",
              "var x = new MutationObserver(function (mutations, observer) {{\n",
              "        var display = window.getComputedStyle(gd).display;\n",
              "        if (!display || display === 'none') {{\n",
              "            console.log([gd, 'removed!']);\n",
              "            Plotly.purge(gd);\n",
              "            observer.disconnect();\n",
              "        }}\n",
              "}});\n",
              "\n",
              "// Listen for the removal of the full notebook cells\n",
              "var notebookContainer = gd.closest('#notebook-container');\n",
              "if (notebookContainer) {{\n",
              "    x.observe(notebookContainer, {childList: true});\n",
              "}}\n",
              "\n",
              "// Listen for the clearing of the current output cell\n",
              "var outputEl = gd.closest('.output');\n",
              "if (outputEl) {{\n",
              "    x.observe(outputEl, {childList: true});\n",
              "}}\n",
              "\n",
              "                        })                };                            </script>        </div>\n",
              "</body>\n",
              "</html>"
            ]
          },
          "metadata": {}
        }
      ]
    },
    {
      "cell_type": "markdown",
      "source": [
        "Bisa diliat pada visualisasi di atas tingkat kemenangan/Win rate dari hero yang di pick di M5 Miya,\n",
        " Moskov, Freya dan Saber memiliki tingkat kemenangan tertinggi dan Jawhead memiliki tingkat kemenangan terendah dan Tigreal, Silvana dan Zilong tidak memiliki win rate atau 0 win rate."
      ],
      "metadata": {
        "id": "I02suVFVW6Zs"
      }
    },
    {
      "cell_type": "code",
      "source": [
        "fig = px.bar(df.sort_values('T_WinRate'), x='Hero', y=['BS_WinRate', 'RS_WinRate'],\n",
        "             title='Win Rates by Side',\n",
        "             labels={'value': 'Win Rate', 'variable': 'Side'},\n",
        "             color_discrete_map={'BS_WinRate': 'blue', 'RS_WinRate': 'red'},\n",
        "             barmode='group')\n",
        "\n",
        "fig.update_layout(xaxis_title='Hero', yaxis_title='Win Rate', legend_title='Side')\n",
        "fig.show()\n",
        "\n"
      ],
      "metadata": {
        "colab": {
          "base_uri": "https://localhost:8080/",
          "height": 542
        },
        "id": "Uh30MP2pAyJ8",
        "outputId": "957dd83c-e291-4f11-ad25-f5a30017cf15"
      },
      "execution_count": 64,
      "outputs": [
        {
          "output_type": "display_data",
          "data": {
            "text/html": [
              "<html>\n",
              "<head><meta charset=\"utf-8\" /></head>\n",
              "<body>\n",
              "    <div>            <script src=\"https://cdnjs.cloudflare.com/ajax/libs/mathjax/2.7.5/MathJax.js?config=TeX-AMS-MML_SVG\"></script><script type=\"text/javascript\">if (window.MathJax && window.MathJax.Hub && window.MathJax.Hub.Config) {window.MathJax.Hub.Config({SVG: {font: \"STIX-Web\"}});}</script>                <script type=\"text/javascript\">window.PlotlyConfig = {MathJaxConfig: 'local'};</script>\n",
              "        <script charset=\"utf-8\" src=\"https://cdn.plot.ly/plotly-2.24.1.min.js\"></script>                <div id=\"58150057-99ef-48ea-8b7a-7b6e66386373\" class=\"plotly-graph-div\" style=\"height:525px; width:100%;\"></div>            <script type=\"text/javascript\">                                    window.PLOTLYENV=window.PLOTLYENV || {};                                    if (document.getElementById(\"58150057-99ef-48ea-8b7a-7b6e66386373\")) {                    Plotly.newPlot(                        \"58150057-99ef-48ea-8b7a-7b6e66386373\",                        [{\"alignmentgroup\":\"True\",\"hovertemplate\":\"Side=BS_WinRate\\u003cbr\\u003eHero=%{x}\\u003cbr\\u003eWin Rate=%{y}\\u003cextra\\u003e\\u003c\\u002fextra\\u003e\",\"legendgroup\":\"BS_WinRate\",\"marker\":{\"color\":\"blue\",\"pattern\":{\"shape\":\"\"}},\"name\":\"BS_WinRate\",\"offsetgroup\":\"BS_WinRate\",\"orientation\":\"v\",\"showlegend\":true,\"textposition\":\"auto\",\"x\":[\"\\u00a0Zilong\",\"\\u00a0Vale\",\"\\u00a0Sun\",\"\\u00a0Silvanna\",\"\\u00a0Alucard\",\"\\u00a0Vexana\",\"\\u00a0Tigreal\",\"\\u00a0Belerick\",\"\\u00a0Roger\",\"\\u00a0Jawhead\",\"\\u00a0Yin\",\"\\u00a0Chang'e\",\"\\u00a0Karina\",\"\\u00a0Thamuz\",\"\\u00a0Kagura\",\"\\u00a0Natan\",\"\\u00a0Selena\",\"\\u00a0Carmilla\",\"\\u00a0Leomord\",\"\\u00a0Xavier\",\"\\u00a0Badang\",\"\\u00a0Barats\",\"\\u00a0Minsitthar\",\"\\u00a0Luo Yi\",\"\\u00a0Natalia\",\"\\u00a0Hanabi\",\"\\u00a0Bane\",\"\\u00a0Alice\",\"\\u00a0Popol and Kupa\",\"\\u00a0Karrie\",\"\\u00a0Harith\",\"\\u00a0Rafaela\",\"\\u00a0Hanzo\",\"\\u00a0Estes\",\"\\u00a0Cecilion\",\"\\u00a0Masha\",\"\\u00a0Hylos\",\"\\u00a0Esmeralda\",\"\\u00a0Melissa\",\"\\u00a0Valir\",\"\\u00a0Uranus\",\"\\u00a0Grock\",\"\\u00a0Pharsa\",\"\\u00a0Arlott\",\"\\u00a0Guinevere\",\"\\u00a0Martis\",\"\\u00a0Akai\",\"\\u00a0Lapu-Lapu\",\"\\u00a0Valentina\",\"\\u00a0Khufra\",\"\\u00a0Brody\",\"\\u00a0Lancelot\",\"\\u00a0Lesley\",\"\\u00a0Floryn\",\"\\u00a0Clint\",\"\\u00a0Helcurt\",\"\\u00a0Lunox\",\"\\u00a0Benedetta\",\"\\u00a0Angela\",\"\\u00a0Minotaur\",\"\\u00a0Hayabusa\",\"\\u00a0X.Borg\",\"\\u00a0Claude\",\"\\u00a0Harley\",\"\\u00a0Yu Zhong\",\"\\u00a0Balmond\",\"\\u00a0Aldous\",\"\\u00a0Aulus\",\"\\u00a0Chou\",\"\\u00a0Edith\",\"\\u00a0Gloo\",\"\\u00a0Irithel\",\"\\u00a0Lylia\",\"\\u00a0Paquito\",\"\\u00a0Kaja\",\"\\u00a0Diggie\",\"\\u00a0Fanny\",\"\\u00a0Alpha\",\"\\u00a0Gord\",\"\\u00a0Fredrinn\",\"\\u00a0Baxia\",\"\\u00a0Wanwan\",\"\\u00a0Bruno\",\"\\u00a0Novaria\",\"\\u00a0Phoveus\",\"\\u00a0Beatrix\",\"\\u00a0Atlas\",\"\\u00a0Franco\",\"\\u00a0Yve\",\"\\u00a0Ling\",\"\\u00a0Ixia\",\"\\u00a0Kadita\",\"\\u00a0Terizla\",\"\\u00a0Joy\",\"\\u00a0Faramis\",\"\\u00a0Ruby\",\"\\u00a0Gusion\",\"\\u00a0Nolan\",\"\\u00a0Lolita\",\"\\u00a0Julian\",\"\\u00a0Mathilda\",\"\\u00a0Khaleed\",\"\\u00a0Nana\",\"\\u00a0Hilda\",\"\\u00a0Dyrroth\",\"\\u00a0Yi Sun-Shin\",\"\\u00a0Aamon\",\"\\u00a0Cyclops\",\"\\u00a0Granger\",\"\\u00a0Freya\",\"\\u00a0Kimmy\",\"\\u00a0Moskov\",\"\\u00a0Saber\",\"\\u00a0Layla\",\"\\u00a0Miya\"],\"xaxis\":\"x\",\"y\":[null,0.0,0.0,null,null,null,null,0.0,0.0,20.0,25.0,0.0,50.0,25.0,25.0,0.0,0.0,50.0,36.36,16.67,37.5,45.45,16.67,40.0,16.67,0.0,31.82,40.0,0.0,37.86,42.86,44.78,20.0,46.15,35.71,0.0,57.14,43.24,40.0,55.32,37.61,41.94,40.71,50.0,40.0,48.59,39.56,41.18,45.11,45.16,44.12,45.19,48.65,45.16,55.1,53.33,35.0,40.0,50.0,54.95,47.83,49.64,51.78,66.67,48.57,33.33,null,0.0,47.93,48.45,47.5,52.65,52.94,53.4,47.73,40.74,39.34,48.0,51.28,50.97,53.59,54.29,50.0,51.42,20.0,52.68,62.5,53.54,57.03,54.84,57.38,56.0,57.73,59.41,57.26,56.25,66.67,50.0,73.33,100.0,60.0,67.57,0.0,75.0,59.38,100.0,100.0,66.67,75.0,100.0,null,null,null,null,null],\"yaxis\":\"y\",\"type\":\"bar\"},{\"alignmentgroup\":\"True\",\"hovertemplate\":\"Side=RS_WinRate\\u003cbr\\u003eHero=%{x}\\u003cbr\\u003eWin Rate=%{y}\\u003cextra\\u003e\\u003c\\u002fextra\\u003e\",\"legendgroup\":\"RS_WinRate\",\"marker\":{\"color\":\"red\",\"pattern\":{\"shape\":\"\"}},\"name\":\"RS_WinRate\",\"offsetgroup\":\"RS_WinRate\",\"orientation\":\"v\",\"showlegend\":true,\"textposition\":\"auto\",\"x\":[\"\\u00a0Zilong\",\"\\u00a0Vale\",\"\\u00a0Sun\",\"\\u00a0Silvanna\",\"\\u00a0Alucard\",\"\\u00a0Vexana\",\"\\u00a0Tigreal\",\"\\u00a0Belerick\",\"\\u00a0Roger\",\"\\u00a0Jawhead\",\"\\u00a0Yin\",\"\\u00a0Chang'e\",\"\\u00a0Karina\",\"\\u00a0Thamuz\",\"\\u00a0Kagura\",\"\\u00a0Natan\",\"\\u00a0Selena\",\"\\u00a0Carmilla\",\"\\u00a0Leomord\",\"\\u00a0Xavier\",\"\\u00a0Badang\",\"\\u00a0Barats\",\"\\u00a0Minsitthar\",\"\\u00a0Luo Yi\",\"\\u00a0Natalia\",\"\\u00a0Hanabi\",\"\\u00a0Bane\",\"\\u00a0Alice\",\"\\u00a0Popol and Kupa\",\"\\u00a0Karrie\",\"\\u00a0Harith\",\"\\u00a0Rafaela\",\"\\u00a0Hanzo\",\"\\u00a0Estes\",\"\\u00a0Cecilion\",\"\\u00a0Masha\",\"\\u00a0Hylos\",\"\\u00a0Esmeralda\",\"\\u00a0Melissa\",\"\\u00a0Valir\",\"\\u00a0Uranus\",\"\\u00a0Grock\",\"\\u00a0Pharsa\",\"\\u00a0Arlott\",\"\\u00a0Guinevere\",\"\\u00a0Martis\",\"\\u00a0Akai\",\"\\u00a0Lapu-Lapu\",\"\\u00a0Valentina\",\"\\u00a0Khufra\",\"\\u00a0Brody\",\"\\u00a0Lancelot\",\"\\u00a0Lesley\",\"\\u00a0Floryn\",\"\\u00a0Clint\",\"\\u00a0Helcurt\",\"\\u00a0Lunox\",\"\\u00a0Benedetta\",\"\\u00a0Angela\",\"\\u00a0Minotaur\",\"\\u00a0Hayabusa\",\"\\u00a0X.Borg\",\"\\u00a0Claude\",\"\\u00a0Harley\",\"\\u00a0Yu Zhong\",\"\\u00a0Balmond\",\"\\u00a0Aldous\",\"\\u00a0Aulus\",\"\\u00a0Chou\",\"\\u00a0Edith\",\"\\u00a0Gloo\",\"\\u00a0Irithel\",\"\\u00a0Lylia\",\"\\u00a0Paquito\",\"\\u00a0Kaja\",\"\\u00a0Diggie\",\"\\u00a0Fanny\",\"\\u00a0Alpha\",\"\\u00a0Gord\",\"\\u00a0Fredrinn\",\"\\u00a0Baxia\",\"\\u00a0Wanwan\",\"\\u00a0Bruno\",\"\\u00a0Novaria\",\"\\u00a0Phoveus\",\"\\u00a0Beatrix\",\"\\u00a0Atlas\",\"\\u00a0Franco\",\"\\u00a0Yve\",\"\\u00a0Ling\",\"\\u00a0Ixia\",\"\\u00a0Kadita\",\"\\u00a0Terizla\",\"\\u00a0Joy\",\"\\u00a0Faramis\",\"\\u00a0Ruby\",\"\\u00a0Gusion\",\"\\u00a0Nolan\",\"\\u00a0Lolita\",\"\\u00a0Julian\",\"\\u00a0Mathilda\",\"\\u00a0Khaleed\",\"\\u00a0Nana\",\"\\u00a0Hilda\",\"\\u00a0Dyrroth\",\"\\u00a0Yi Sun-Shin\",\"\\u00a0Aamon\",\"\\u00a0Cyclops\",\"\\u00a0Granger\",\"\\u00a0Freya\",\"\\u00a0Kimmy\",\"\\u00a0Moskov\",\"\\u00a0Saber\",\"\\u00a0Layla\",\"\\u00a0Miya\"],\"xaxis\":\"x\",\"y\":[0.0,null,null,0.0,0.0,0.0,0.0,0.0,0.0,0.0,0.0,25.0,12.5,20.0,22.22,33.33,100.0,0.0,16.67,50.0,20.0,20.0,50.0,25.0,66.67,100.0,38.1,33.33,42.86,42.25,38.89,37.33,57.14,36.36,47.06,75.0,28.57,42.86,47.83,30.0,53.16,45.83,46.76,38.46,50.0,40.87,50.48,50.0,46.7,47.33,48.73,47.95,45.28,48.78,35.48,44.44,59.09,55.88,45.54,42.42,50.0,47.85,47.8,33.33,51.91,60.0,50.0,100.0,52.0,52.04,53.49,49.03,48.53,49.33,54.27,58.14,69.05,55.88,53.85,54.52,52.8,52.63,57.02,56.41,75.0,55.51,50.0,56.31,52.78,55.32,53.97,55.81,54.71,53.0,55.64,56.67,50.0,100.0,53.13,33.33,62.75,59.46,100.0,61.9,85.19,50.0,50.0,100.0,100.0,100.0,100.0,100.0,100.0,null,null],\"yaxis\":\"y\",\"type\":\"bar\"}],                        {\"template\":{\"data\":{\"histogram2dcontour\":[{\"type\":\"histogram2dcontour\",\"colorbar\":{\"outlinewidth\":0,\"ticks\":\"\"},\"colorscale\":[[0.0,\"#0d0887\"],[0.1111111111111111,\"#46039f\"],[0.2222222222222222,\"#7201a8\"],[0.3333333333333333,\"#9c179e\"],[0.4444444444444444,\"#bd3786\"],[0.5555555555555556,\"#d8576b\"],[0.6666666666666666,\"#ed7953\"],[0.7777777777777778,\"#fb9f3a\"],[0.8888888888888888,\"#fdca26\"],[1.0,\"#f0f921\"]]}],\"choropleth\":[{\"type\":\"choropleth\",\"colorbar\":{\"outlinewidth\":0,\"ticks\":\"\"}}],\"histogram2d\":[{\"type\":\"histogram2d\",\"colorbar\":{\"outlinewidth\":0,\"ticks\":\"\"},\"colorscale\":[[0.0,\"#0d0887\"],[0.1111111111111111,\"#46039f\"],[0.2222222222222222,\"#7201a8\"],[0.3333333333333333,\"#9c179e\"],[0.4444444444444444,\"#bd3786\"],[0.5555555555555556,\"#d8576b\"],[0.6666666666666666,\"#ed7953\"],[0.7777777777777778,\"#fb9f3a\"],[0.8888888888888888,\"#fdca26\"],[1.0,\"#f0f921\"]]}],\"heatmap\":[{\"type\":\"heatmap\",\"colorbar\":{\"outlinewidth\":0,\"ticks\":\"\"},\"colorscale\":[[0.0,\"#0d0887\"],[0.1111111111111111,\"#46039f\"],[0.2222222222222222,\"#7201a8\"],[0.3333333333333333,\"#9c179e\"],[0.4444444444444444,\"#bd3786\"],[0.5555555555555556,\"#d8576b\"],[0.6666666666666666,\"#ed7953\"],[0.7777777777777778,\"#fb9f3a\"],[0.8888888888888888,\"#fdca26\"],[1.0,\"#f0f921\"]]}],\"heatmapgl\":[{\"type\":\"heatmapgl\",\"colorbar\":{\"outlinewidth\":0,\"ticks\":\"\"},\"colorscale\":[[0.0,\"#0d0887\"],[0.1111111111111111,\"#46039f\"],[0.2222222222222222,\"#7201a8\"],[0.3333333333333333,\"#9c179e\"],[0.4444444444444444,\"#bd3786\"],[0.5555555555555556,\"#d8576b\"],[0.6666666666666666,\"#ed7953\"],[0.7777777777777778,\"#fb9f3a\"],[0.8888888888888888,\"#fdca26\"],[1.0,\"#f0f921\"]]}],\"contourcarpet\":[{\"type\":\"contourcarpet\",\"colorbar\":{\"outlinewidth\":0,\"ticks\":\"\"}}],\"contour\":[{\"type\":\"contour\",\"colorbar\":{\"outlinewidth\":0,\"ticks\":\"\"},\"colorscale\":[[0.0,\"#0d0887\"],[0.1111111111111111,\"#46039f\"],[0.2222222222222222,\"#7201a8\"],[0.3333333333333333,\"#9c179e\"],[0.4444444444444444,\"#bd3786\"],[0.5555555555555556,\"#d8576b\"],[0.6666666666666666,\"#ed7953\"],[0.7777777777777778,\"#fb9f3a\"],[0.8888888888888888,\"#fdca26\"],[1.0,\"#f0f921\"]]}],\"surface\":[{\"type\":\"surface\",\"colorbar\":{\"outlinewidth\":0,\"ticks\":\"\"},\"colorscale\":[[0.0,\"#0d0887\"],[0.1111111111111111,\"#46039f\"],[0.2222222222222222,\"#7201a8\"],[0.3333333333333333,\"#9c179e\"],[0.4444444444444444,\"#bd3786\"],[0.5555555555555556,\"#d8576b\"],[0.6666666666666666,\"#ed7953\"],[0.7777777777777778,\"#fb9f3a\"],[0.8888888888888888,\"#fdca26\"],[1.0,\"#f0f921\"]]}],\"mesh3d\":[{\"type\":\"mesh3d\",\"colorbar\":{\"outlinewidth\":0,\"ticks\":\"\"}}],\"scatter\":[{\"fillpattern\":{\"fillmode\":\"overlay\",\"size\":10,\"solidity\":0.2},\"type\":\"scatter\"}],\"parcoords\":[{\"type\":\"parcoords\",\"line\":{\"colorbar\":{\"outlinewidth\":0,\"ticks\":\"\"}}}],\"scatterpolargl\":[{\"type\":\"scatterpolargl\",\"marker\":{\"colorbar\":{\"outlinewidth\":0,\"ticks\":\"\"}}}],\"bar\":[{\"error_x\":{\"color\":\"#2a3f5f\"},\"error_y\":{\"color\":\"#2a3f5f\"},\"marker\":{\"line\":{\"color\":\"#E5ECF6\",\"width\":0.5},\"pattern\":{\"fillmode\":\"overlay\",\"size\":10,\"solidity\":0.2}},\"type\":\"bar\"}],\"scattergeo\":[{\"type\":\"scattergeo\",\"marker\":{\"colorbar\":{\"outlinewidth\":0,\"ticks\":\"\"}}}],\"scatterpolar\":[{\"type\":\"scatterpolar\",\"marker\":{\"colorbar\":{\"outlinewidth\":0,\"ticks\":\"\"}}}],\"histogram\":[{\"marker\":{\"pattern\":{\"fillmode\":\"overlay\",\"size\":10,\"solidity\":0.2}},\"type\":\"histogram\"}],\"scattergl\":[{\"type\":\"scattergl\",\"marker\":{\"colorbar\":{\"outlinewidth\":0,\"ticks\":\"\"}}}],\"scatter3d\":[{\"type\":\"scatter3d\",\"line\":{\"colorbar\":{\"outlinewidth\":0,\"ticks\":\"\"}},\"marker\":{\"colorbar\":{\"outlinewidth\":0,\"ticks\":\"\"}}}],\"scattermapbox\":[{\"type\":\"scattermapbox\",\"marker\":{\"colorbar\":{\"outlinewidth\":0,\"ticks\":\"\"}}}],\"scatterternary\":[{\"type\":\"scatterternary\",\"marker\":{\"colorbar\":{\"outlinewidth\":0,\"ticks\":\"\"}}}],\"scattercarpet\":[{\"type\":\"scattercarpet\",\"marker\":{\"colorbar\":{\"outlinewidth\":0,\"ticks\":\"\"}}}],\"carpet\":[{\"aaxis\":{\"endlinecolor\":\"#2a3f5f\",\"gridcolor\":\"white\",\"linecolor\":\"white\",\"minorgridcolor\":\"white\",\"startlinecolor\":\"#2a3f5f\"},\"baxis\":{\"endlinecolor\":\"#2a3f5f\",\"gridcolor\":\"white\",\"linecolor\":\"white\",\"minorgridcolor\":\"white\",\"startlinecolor\":\"#2a3f5f\"},\"type\":\"carpet\"}],\"table\":[{\"cells\":{\"fill\":{\"color\":\"#EBF0F8\"},\"line\":{\"color\":\"white\"}},\"header\":{\"fill\":{\"color\":\"#C8D4E3\"},\"line\":{\"color\":\"white\"}},\"type\":\"table\"}],\"barpolar\":[{\"marker\":{\"line\":{\"color\":\"#E5ECF6\",\"width\":0.5},\"pattern\":{\"fillmode\":\"overlay\",\"size\":10,\"solidity\":0.2}},\"type\":\"barpolar\"}],\"pie\":[{\"automargin\":true,\"type\":\"pie\"}]},\"layout\":{\"autotypenumbers\":\"strict\",\"colorway\":[\"#636efa\",\"#EF553B\",\"#00cc96\",\"#ab63fa\",\"#FFA15A\",\"#19d3f3\",\"#FF6692\",\"#B6E880\",\"#FF97FF\",\"#FECB52\"],\"font\":{\"color\":\"#2a3f5f\"},\"hovermode\":\"closest\",\"hoverlabel\":{\"align\":\"left\"},\"paper_bgcolor\":\"white\",\"plot_bgcolor\":\"#E5ECF6\",\"polar\":{\"bgcolor\":\"#E5ECF6\",\"angularaxis\":{\"gridcolor\":\"white\",\"linecolor\":\"white\",\"ticks\":\"\"},\"radialaxis\":{\"gridcolor\":\"white\",\"linecolor\":\"white\",\"ticks\":\"\"}},\"ternary\":{\"bgcolor\":\"#E5ECF6\",\"aaxis\":{\"gridcolor\":\"white\",\"linecolor\":\"white\",\"ticks\":\"\"},\"baxis\":{\"gridcolor\":\"white\",\"linecolor\":\"white\",\"ticks\":\"\"},\"caxis\":{\"gridcolor\":\"white\",\"linecolor\":\"white\",\"ticks\":\"\"}},\"coloraxis\":{\"colorbar\":{\"outlinewidth\":0,\"ticks\":\"\"}},\"colorscale\":{\"sequential\":[[0.0,\"#0d0887\"],[0.1111111111111111,\"#46039f\"],[0.2222222222222222,\"#7201a8\"],[0.3333333333333333,\"#9c179e\"],[0.4444444444444444,\"#bd3786\"],[0.5555555555555556,\"#d8576b\"],[0.6666666666666666,\"#ed7953\"],[0.7777777777777778,\"#fb9f3a\"],[0.8888888888888888,\"#fdca26\"],[1.0,\"#f0f921\"]],\"sequentialminus\":[[0.0,\"#0d0887\"],[0.1111111111111111,\"#46039f\"],[0.2222222222222222,\"#7201a8\"],[0.3333333333333333,\"#9c179e\"],[0.4444444444444444,\"#bd3786\"],[0.5555555555555556,\"#d8576b\"],[0.6666666666666666,\"#ed7953\"],[0.7777777777777778,\"#fb9f3a\"],[0.8888888888888888,\"#fdca26\"],[1.0,\"#f0f921\"]],\"diverging\":[[0,\"#8e0152\"],[0.1,\"#c51b7d\"],[0.2,\"#de77ae\"],[0.3,\"#f1b6da\"],[0.4,\"#fde0ef\"],[0.5,\"#f7f7f7\"],[0.6,\"#e6f5d0\"],[0.7,\"#b8e186\"],[0.8,\"#7fbc41\"],[0.9,\"#4d9221\"],[1,\"#276419\"]]},\"xaxis\":{\"gridcolor\":\"white\",\"linecolor\":\"white\",\"ticks\":\"\",\"title\":{\"standoff\":15},\"zerolinecolor\":\"white\",\"automargin\":true,\"zerolinewidth\":2},\"yaxis\":{\"gridcolor\":\"white\",\"linecolor\":\"white\",\"ticks\":\"\",\"title\":{\"standoff\":15},\"zerolinecolor\":\"white\",\"automargin\":true,\"zerolinewidth\":2},\"scene\":{\"xaxis\":{\"backgroundcolor\":\"#E5ECF6\",\"gridcolor\":\"white\",\"linecolor\":\"white\",\"showbackground\":true,\"ticks\":\"\",\"zerolinecolor\":\"white\",\"gridwidth\":2},\"yaxis\":{\"backgroundcolor\":\"#E5ECF6\",\"gridcolor\":\"white\",\"linecolor\":\"white\",\"showbackground\":true,\"ticks\":\"\",\"zerolinecolor\":\"white\",\"gridwidth\":2},\"zaxis\":{\"backgroundcolor\":\"#E5ECF6\",\"gridcolor\":\"white\",\"linecolor\":\"white\",\"showbackground\":true,\"ticks\":\"\",\"zerolinecolor\":\"white\",\"gridwidth\":2}},\"shapedefaults\":{\"line\":{\"color\":\"#2a3f5f\"}},\"annotationdefaults\":{\"arrowcolor\":\"#2a3f5f\",\"arrowhead\":0,\"arrowwidth\":1},\"geo\":{\"bgcolor\":\"white\",\"landcolor\":\"#E5ECF6\",\"subunitcolor\":\"white\",\"showland\":true,\"showlakes\":true,\"lakecolor\":\"white\"},\"title\":{\"x\":0.05},\"mapbox\":{\"style\":\"light\"}}},\"xaxis\":{\"anchor\":\"y\",\"domain\":[0.0,1.0],\"title\":{\"text\":\"Hero\"}},\"yaxis\":{\"anchor\":\"x\",\"domain\":[0.0,1.0],\"title\":{\"text\":\"Win Rate\"}},\"legend\":{\"title\":{\"text\":\"Side\"},\"tracegroupgap\":0},\"title\":{\"text\":\"Win Rates by Side\"},\"barmode\":\"group\"},                        {\"responsive\": true}                    ).then(function(){\n",
              "                            \n",
              "var gd = document.getElementById('58150057-99ef-48ea-8b7a-7b6e66386373');\n",
              "var x = new MutationObserver(function (mutations, observer) {{\n",
              "        var display = window.getComputedStyle(gd).display;\n",
              "        if (!display || display === 'none') {{\n",
              "            console.log([gd, 'removed!']);\n",
              "            Plotly.purge(gd);\n",
              "            observer.disconnect();\n",
              "        }}\n",
              "}});\n",
              "\n",
              "// Listen for the removal of the full notebook cells\n",
              "var notebookContainer = gd.closest('#notebook-container');\n",
              "if (notebookContainer) {{\n",
              "    x.observe(notebookContainer, {childList: true});\n",
              "}}\n",
              "\n",
              "// Listen for the clearing of the current output cell\n",
              "var outputEl = gd.closest('.output');\n",
              "if (outputEl) {{\n",
              "    x.observe(outputEl, {childList: true});\n",
              "}}\n",
              "\n",
              "                        })                };                            </script>        </div>\n",
              "</body>\n",
              "</html>"
            ]
          },
          "metadata": {}
        }
      ]
    },
    {
      "cell_type": "markdown",
      "source": [
        "Bisa diliat dari visualisasi di atas menampilkan tingkat kemenangan/Win rate hero yang di pakai oleh tim biru/merah dimana hero-hero yang di pakai oleh tim merah memiliki win rate yang lebih tinggi."
      ],
      "metadata": {
        "id": "D_ZpMNLEqtvO"
      }
    },
    {
      "cell_type": "code",
      "source": [
        "role_counts = df['Roles'].value_counts().reset_index()\n",
        "fig = px.bar(\n",
        "    role_counts,\n",
        "    x='Roles',\n",
        "    y='index',\n",
        "    labels={'index': 'Role', 'Roles': 'Roles'},\n",
        "    title='Distribution of Hero Roles in the Dataset',\n",
        ")\n",
        "fig.update_layout(\n",
        "    xaxis=dict(title='Roles'),\n",
        ")\n",
        "fig.show()\n"
      ],
      "metadata": {
        "id": "8hvXrubAjTIj",
        "colab": {
          "base_uri": "https://localhost:8080/",
          "height": 542
        },
        "outputId": "d570ba75-96ea-4da5-abe4-0f63c1968118"
      },
      "execution_count": 65,
      "outputs": [
        {
          "output_type": "display_data",
          "data": {
            "text/html": [
              "<html>\n",
              "<head><meta charset=\"utf-8\" /></head>\n",
              "<body>\n",
              "    <div>            <script src=\"https://cdnjs.cloudflare.com/ajax/libs/mathjax/2.7.5/MathJax.js?config=TeX-AMS-MML_SVG\"></script><script type=\"text/javascript\">if (window.MathJax && window.MathJax.Hub && window.MathJax.Hub.Config) {window.MathJax.Hub.Config({SVG: {font: \"STIX-Web\"}});}</script>                <script type=\"text/javascript\">window.PlotlyConfig = {MathJaxConfig: 'local'};</script>\n",
              "        <script charset=\"utf-8\" src=\"https://cdn.plot.ly/plotly-2.24.1.min.js\"></script>                <div id=\"8660d51f-6fe2-4672-a0a4-42c33ea918ec\" class=\"plotly-graph-div\" style=\"height:525px; width:100%;\"></div>            <script type=\"text/javascript\">                                    window.PLOTLYENV=window.PLOTLYENV || {};                                    if (document.getElementById(\"8660d51f-6fe2-4672-a0a4-42c33ea918ec\")) {                    Plotly.newPlot(                        \"8660d51f-6fe2-4672-a0a4-42c33ea918ec\",                        [{\"alignmentgroup\":\"True\",\"hovertemplate\":\"Roles=%{x}\\u003cbr\\u003eRole=%{y}\\u003cextra\\u003e\\u003c\\u002fextra\\u003e\",\"legendgroup\":\"\",\"marker\":{\"color\":\"#636efa\",\"pattern\":{\"shape\":\"\"}},\"name\":\"\",\"offsetgroup\":\"\",\"orientation\":\"h\",\"showlegend\":false,\"textposition\":\"auto\",\"x\":[27,21,14,14,10,8,6,2,2,2,1,1,1,1,1,1,1,1,1],\"xaxis\":\"x\",\"y\":[\"Mage\",\"Fighter\",\"Tank\",\"Marksman\",\"Assassin\",\"Support\",\"Fighter \\u002f Tank\",\"Assassin \\u002f Mage\",\"Fighter \\u002f Mage\",\"Marksman \\u002f Assassin\",\"Mage \\u002f Tank\",\"Support \\u002f Assassin\",\"Support \\u002f Mage\",\"Fighter \\u002f Support\",\"Marksman \\u002f Support\",\"Marksman \\u002f Fighter\",\"Mage \\u002f Assassin\",\"Mage \\u002f Support\",\"Marksman \\u002f Mage\"],\"yaxis\":\"y\",\"type\":\"bar\"}],                        {\"template\":{\"data\":{\"histogram2dcontour\":[{\"type\":\"histogram2dcontour\",\"colorbar\":{\"outlinewidth\":0,\"ticks\":\"\"},\"colorscale\":[[0.0,\"#0d0887\"],[0.1111111111111111,\"#46039f\"],[0.2222222222222222,\"#7201a8\"],[0.3333333333333333,\"#9c179e\"],[0.4444444444444444,\"#bd3786\"],[0.5555555555555556,\"#d8576b\"],[0.6666666666666666,\"#ed7953\"],[0.7777777777777778,\"#fb9f3a\"],[0.8888888888888888,\"#fdca26\"],[1.0,\"#f0f921\"]]}],\"choropleth\":[{\"type\":\"choropleth\",\"colorbar\":{\"outlinewidth\":0,\"ticks\":\"\"}}],\"histogram2d\":[{\"type\":\"histogram2d\",\"colorbar\":{\"outlinewidth\":0,\"ticks\":\"\"},\"colorscale\":[[0.0,\"#0d0887\"],[0.1111111111111111,\"#46039f\"],[0.2222222222222222,\"#7201a8\"],[0.3333333333333333,\"#9c179e\"],[0.4444444444444444,\"#bd3786\"],[0.5555555555555556,\"#d8576b\"],[0.6666666666666666,\"#ed7953\"],[0.7777777777777778,\"#fb9f3a\"],[0.8888888888888888,\"#fdca26\"],[1.0,\"#f0f921\"]]}],\"heatmap\":[{\"type\":\"heatmap\",\"colorbar\":{\"outlinewidth\":0,\"ticks\":\"\"},\"colorscale\":[[0.0,\"#0d0887\"],[0.1111111111111111,\"#46039f\"],[0.2222222222222222,\"#7201a8\"],[0.3333333333333333,\"#9c179e\"],[0.4444444444444444,\"#bd3786\"],[0.5555555555555556,\"#d8576b\"],[0.6666666666666666,\"#ed7953\"],[0.7777777777777778,\"#fb9f3a\"],[0.8888888888888888,\"#fdca26\"],[1.0,\"#f0f921\"]]}],\"heatmapgl\":[{\"type\":\"heatmapgl\",\"colorbar\":{\"outlinewidth\":0,\"ticks\":\"\"},\"colorscale\":[[0.0,\"#0d0887\"],[0.1111111111111111,\"#46039f\"],[0.2222222222222222,\"#7201a8\"],[0.3333333333333333,\"#9c179e\"],[0.4444444444444444,\"#bd3786\"],[0.5555555555555556,\"#d8576b\"],[0.6666666666666666,\"#ed7953\"],[0.7777777777777778,\"#fb9f3a\"],[0.8888888888888888,\"#fdca26\"],[1.0,\"#f0f921\"]]}],\"contourcarpet\":[{\"type\":\"contourcarpet\",\"colorbar\":{\"outlinewidth\":0,\"ticks\":\"\"}}],\"contour\":[{\"type\":\"contour\",\"colorbar\":{\"outlinewidth\":0,\"ticks\":\"\"},\"colorscale\":[[0.0,\"#0d0887\"],[0.1111111111111111,\"#46039f\"],[0.2222222222222222,\"#7201a8\"],[0.3333333333333333,\"#9c179e\"],[0.4444444444444444,\"#bd3786\"],[0.5555555555555556,\"#d8576b\"],[0.6666666666666666,\"#ed7953\"],[0.7777777777777778,\"#fb9f3a\"],[0.8888888888888888,\"#fdca26\"],[1.0,\"#f0f921\"]]}],\"surface\":[{\"type\":\"surface\",\"colorbar\":{\"outlinewidth\":0,\"ticks\":\"\"},\"colorscale\":[[0.0,\"#0d0887\"],[0.1111111111111111,\"#46039f\"],[0.2222222222222222,\"#7201a8\"],[0.3333333333333333,\"#9c179e\"],[0.4444444444444444,\"#bd3786\"],[0.5555555555555556,\"#d8576b\"],[0.6666666666666666,\"#ed7953\"],[0.7777777777777778,\"#fb9f3a\"],[0.8888888888888888,\"#fdca26\"],[1.0,\"#f0f921\"]]}],\"mesh3d\":[{\"type\":\"mesh3d\",\"colorbar\":{\"outlinewidth\":0,\"ticks\":\"\"}}],\"scatter\":[{\"fillpattern\":{\"fillmode\":\"overlay\",\"size\":10,\"solidity\":0.2},\"type\":\"scatter\"}],\"parcoords\":[{\"type\":\"parcoords\",\"line\":{\"colorbar\":{\"outlinewidth\":0,\"ticks\":\"\"}}}],\"scatterpolargl\":[{\"type\":\"scatterpolargl\",\"marker\":{\"colorbar\":{\"outlinewidth\":0,\"ticks\":\"\"}}}],\"bar\":[{\"error_x\":{\"color\":\"#2a3f5f\"},\"error_y\":{\"color\":\"#2a3f5f\"},\"marker\":{\"line\":{\"color\":\"#E5ECF6\",\"width\":0.5},\"pattern\":{\"fillmode\":\"overlay\",\"size\":10,\"solidity\":0.2}},\"type\":\"bar\"}],\"scattergeo\":[{\"type\":\"scattergeo\",\"marker\":{\"colorbar\":{\"outlinewidth\":0,\"ticks\":\"\"}}}],\"scatterpolar\":[{\"type\":\"scatterpolar\",\"marker\":{\"colorbar\":{\"outlinewidth\":0,\"ticks\":\"\"}}}],\"histogram\":[{\"marker\":{\"pattern\":{\"fillmode\":\"overlay\",\"size\":10,\"solidity\":0.2}},\"type\":\"histogram\"}],\"scattergl\":[{\"type\":\"scattergl\",\"marker\":{\"colorbar\":{\"outlinewidth\":0,\"ticks\":\"\"}}}],\"scatter3d\":[{\"type\":\"scatter3d\",\"line\":{\"colorbar\":{\"outlinewidth\":0,\"ticks\":\"\"}},\"marker\":{\"colorbar\":{\"outlinewidth\":0,\"ticks\":\"\"}}}],\"scattermapbox\":[{\"type\":\"scattermapbox\",\"marker\":{\"colorbar\":{\"outlinewidth\":0,\"ticks\":\"\"}}}],\"scatterternary\":[{\"type\":\"scatterternary\",\"marker\":{\"colorbar\":{\"outlinewidth\":0,\"ticks\":\"\"}}}],\"scattercarpet\":[{\"type\":\"scattercarpet\",\"marker\":{\"colorbar\":{\"outlinewidth\":0,\"ticks\":\"\"}}}],\"carpet\":[{\"aaxis\":{\"endlinecolor\":\"#2a3f5f\",\"gridcolor\":\"white\",\"linecolor\":\"white\",\"minorgridcolor\":\"white\",\"startlinecolor\":\"#2a3f5f\"},\"baxis\":{\"endlinecolor\":\"#2a3f5f\",\"gridcolor\":\"white\",\"linecolor\":\"white\",\"minorgridcolor\":\"white\",\"startlinecolor\":\"#2a3f5f\"},\"type\":\"carpet\"}],\"table\":[{\"cells\":{\"fill\":{\"color\":\"#EBF0F8\"},\"line\":{\"color\":\"white\"}},\"header\":{\"fill\":{\"color\":\"#C8D4E3\"},\"line\":{\"color\":\"white\"}},\"type\":\"table\"}],\"barpolar\":[{\"marker\":{\"line\":{\"color\":\"#E5ECF6\",\"width\":0.5},\"pattern\":{\"fillmode\":\"overlay\",\"size\":10,\"solidity\":0.2}},\"type\":\"barpolar\"}],\"pie\":[{\"automargin\":true,\"type\":\"pie\"}]},\"layout\":{\"autotypenumbers\":\"strict\",\"colorway\":[\"#636efa\",\"#EF553B\",\"#00cc96\",\"#ab63fa\",\"#FFA15A\",\"#19d3f3\",\"#FF6692\",\"#B6E880\",\"#FF97FF\",\"#FECB52\"],\"font\":{\"color\":\"#2a3f5f\"},\"hovermode\":\"closest\",\"hoverlabel\":{\"align\":\"left\"},\"paper_bgcolor\":\"white\",\"plot_bgcolor\":\"#E5ECF6\",\"polar\":{\"bgcolor\":\"#E5ECF6\",\"angularaxis\":{\"gridcolor\":\"white\",\"linecolor\":\"white\",\"ticks\":\"\"},\"radialaxis\":{\"gridcolor\":\"white\",\"linecolor\":\"white\",\"ticks\":\"\"}},\"ternary\":{\"bgcolor\":\"#E5ECF6\",\"aaxis\":{\"gridcolor\":\"white\",\"linecolor\":\"white\",\"ticks\":\"\"},\"baxis\":{\"gridcolor\":\"white\",\"linecolor\":\"white\",\"ticks\":\"\"},\"caxis\":{\"gridcolor\":\"white\",\"linecolor\":\"white\",\"ticks\":\"\"}},\"coloraxis\":{\"colorbar\":{\"outlinewidth\":0,\"ticks\":\"\"}},\"colorscale\":{\"sequential\":[[0.0,\"#0d0887\"],[0.1111111111111111,\"#46039f\"],[0.2222222222222222,\"#7201a8\"],[0.3333333333333333,\"#9c179e\"],[0.4444444444444444,\"#bd3786\"],[0.5555555555555556,\"#d8576b\"],[0.6666666666666666,\"#ed7953\"],[0.7777777777777778,\"#fb9f3a\"],[0.8888888888888888,\"#fdca26\"],[1.0,\"#f0f921\"]],\"sequentialminus\":[[0.0,\"#0d0887\"],[0.1111111111111111,\"#46039f\"],[0.2222222222222222,\"#7201a8\"],[0.3333333333333333,\"#9c179e\"],[0.4444444444444444,\"#bd3786\"],[0.5555555555555556,\"#d8576b\"],[0.6666666666666666,\"#ed7953\"],[0.7777777777777778,\"#fb9f3a\"],[0.8888888888888888,\"#fdca26\"],[1.0,\"#f0f921\"]],\"diverging\":[[0,\"#8e0152\"],[0.1,\"#c51b7d\"],[0.2,\"#de77ae\"],[0.3,\"#f1b6da\"],[0.4,\"#fde0ef\"],[0.5,\"#f7f7f7\"],[0.6,\"#e6f5d0\"],[0.7,\"#b8e186\"],[0.8,\"#7fbc41\"],[0.9,\"#4d9221\"],[1,\"#276419\"]]},\"xaxis\":{\"gridcolor\":\"white\",\"linecolor\":\"white\",\"ticks\":\"\",\"title\":{\"standoff\":15},\"zerolinecolor\":\"white\",\"automargin\":true,\"zerolinewidth\":2},\"yaxis\":{\"gridcolor\":\"white\",\"linecolor\":\"white\",\"ticks\":\"\",\"title\":{\"standoff\":15},\"zerolinecolor\":\"white\",\"automargin\":true,\"zerolinewidth\":2},\"scene\":{\"xaxis\":{\"backgroundcolor\":\"#E5ECF6\",\"gridcolor\":\"white\",\"linecolor\":\"white\",\"showbackground\":true,\"ticks\":\"\",\"zerolinecolor\":\"white\",\"gridwidth\":2},\"yaxis\":{\"backgroundcolor\":\"#E5ECF6\",\"gridcolor\":\"white\",\"linecolor\":\"white\",\"showbackground\":true,\"ticks\":\"\",\"zerolinecolor\":\"white\",\"gridwidth\":2},\"zaxis\":{\"backgroundcolor\":\"#E5ECF6\",\"gridcolor\":\"white\",\"linecolor\":\"white\",\"showbackground\":true,\"ticks\":\"\",\"zerolinecolor\":\"white\",\"gridwidth\":2}},\"shapedefaults\":{\"line\":{\"color\":\"#2a3f5f\"}},\"annotationdefaults\":{\"arrowcolor\":\"#2a3f5f\",\"arrowhead\":0,\"arrowwidth\":1},\"geo\":{\"bgcolor\":\"white\",\"landcolor\":\"#E5ECF6\",\"subunitcolor\":\"white\",\"showland\":true,\"showlakes\":true,\"lakecolor\":\"white\"},\"title\":{\"x\":0.05},\"mapbox\":{\"style\":\"light\"}}},\"xaxis\":{\"anchor\":\"y\",\"domain\":[0.0,1.0],\"title\":{\"text\":\"Roles\"}},\"yaxis\":{\"anchor\":\"x\",\"domain\":[0.0,1.0],\"title\":{\"text\":\"Role\"}},\"legend\":{\"tracegroupgap\":0},\"title\":{\"text\":\"Distribution of Hero Roles in the Dataset\"},\"barmode\":\"relative\"},                        {\"responsive\": true}                    ).then(function(){\n",
              "                            \n",
              "var gd = document.getElementById('8660d51f-6fe2-4672-a0a4-42c33ea918ec');\n",
              "var x = new MutationObserver(function (mutations, observer) {{\n",
              "        var display = window.getComputedStyle(gd).display;\n",
              "        if (!display || display === 'none') {{\n",
              "            console.log([gd, 'removed!']);\n",
              "            Plotly.purge(gd);\n",
              "            observer.disconnect();\n",
              "        }}\n",
              "}});\n",
              "\n",
              "// Listen for the removal of the full notebook cells\n",
              "var notebookContainer = gd.closest('#notebook-container');\n",
              "if (notebookContainer) {{\n",
              "    x.observe(notebookContainer, {childList: true});\n",
              "}}\n",
              "\n",
              "// Listen for the clearing of the current output cell\n",
              "var outputEl = gd.closest('.output');\n",
              "if (outputEl) {{\n",
              "    x.observe(outputEl, {childList: true});\n",
              "}}\n",
              "\n",
              "                        })                };                            </script>        </div>\n",
              "</body>\n",
              "</html>"
            ]
          },
          "metadata": {}
        }
      ]
    },
    {
      "cell_type": "markdown",
      "source": [
        "Dari visualisasi di atas, terlihat bahwa distribusi role-role hero pada M5 World Championship menunjukkan bahwa role yang paling banyak didistribusikan adalah mage, diikuti oleh fighter, dan role yang paling sedikit didistribusikan adalah marksman/mage, mage/support, mage/assassin, marksman/fighter, marksman/support, fighter/support, support/mage, support/assassin, dan mage/tank."
      ],
      "metadata": {
        "id": "Z5lfZan6s4Ms"
      }
    },
    {
      "cell_type": "code",
      "source": [
        "avg_win_rate_by_role = df.groupby('Roles')['T_WinRate'].mean().reset_index().sort_values(by='T_WinRate')\n",
        "\n",
        "# Create a bar chart\n",
        "fig = px.bar(avg_win_rate_by_role, x='Roles', y='T_WinRate',\n",
        "             title='Average Win Rate by Hero Role',\n",
        "             labels={'Roles': 'Hero Roles', 'T_WinRate': 'Average Win Rate'},\n",
        "             color='T_WinRate',\n",
        "             color_continuous_scale='Viridis')\n",
        "\n",
        "fig.update_layout(xaxis_title='Hero Roles', yaxis_title='Average Win Rate')\n",
        "fig.show()"
      ],
      "metadata": {
        "colab": {
          "base_uri": "https://localhost:8080/",
          "height": 542
        },
        "id": "j-X88TTYMmDH",
        "outputId": "e44c9bea-5629-401c-f06e-f21b003316ed"
      },
      "execution_count": 66,
      "outputs": [
        {
          "output_type": "display_data",
          "data": {
            "text/html": [
              "<html>\n",
              "<head><meta charset=\"utf-8\" /></head>\n",
              "<body>\n",
              "    <div>            <script src=\"https://cdnjs.cloudflare.com/ajax/libs/mathjax/2.7.5/MathJax.js?config=TeX-AMS-MML_SVG\"></script><script type=\"text/javascript\">if (window.MathJax && window.MathJax.Hub && window.MathJax.Hub.Config) {window.MathJax.Hub.Config({SVG: {font: \"STIX-Web\"}});}</script>                <script type=\"text/javascript\">window.PlotlyConfig = {MathJaxConfig: 'local'};</script>\n",
              "        <script charset=\"utf-8\" src=\"https://cdn.plot.ly/plotly-2.24.1.min.js\"></script>                <div id=\"2cbdf39d-368a-4b67-a9b3-b67555642012\" class=\"plotly-graph-div\" style=\"height:525px; width:100%;\"></div>            <script type=\"text/javascript\">                                    window.PLOTLYENV=window.PLOTLYENV || {};                                    if (document.getElementById(\"2cbdf39d-368a-4b67-a9b3-b67555642012\")) {                    Plotly.newPlot(                        \"2cbdf39d-368a-4b67-a9b3-b67555642012\",                        [{\"alignmentgroup\":\"True\",\"hovertemplate\":\"Hero Roles=%{x}\\u003cbr\\u003eAverage Win Rate=%{marker.color}\\u003cextra\\u003e\\u003c\\u002fextra\\u003e\",\"legendgroup\":\"\",\"marker\":{\"color\":[0.0,22.415,25.0,33.33,37.5,39.165,42.23962962962963,42.402142857142856,43.00833333333333,43.06,43.4,44.81125,52.821666666666665,54.730999999999995,56.42,60.835,60.99,66.67,100.0],\"coloraxis\":\"coloraxis\",\"pattern\":{\"shape\":\"\"}},\"name\":\"\",\"offsetgroup\":\"\",\"orientation\":\"v\",\"showlegend\":false,\"textposition\":\"auto\",\"x\":[\"Marksman \\u002f Fighter\",\"Fighter \\u002f Mage\",\"Mage \\u002f Assassin\",\"Fighter \\u002f Support\",\"Marksman \\u002f Support\",\"Assassin \\u002f Mage\",\"Mage\",\"Tank\",\"Fighter \\u002f Tank\",\"Mage \\u002f Tank\",\"Fighter\",\"Support\",\"Marksman\",\"Assassin\",\"Support \\u002f Mage\",\"Marksman \\u002f Assassin\",\"Support \\u002f Assassin\",\"Mage \\u002f Support\",\"Marksman \\u002f Mage\"],\"xaxis\":\"x\",\"y\":[0.0,22.415,25.0,33.33,37.5,39.165,42.23962962962963,42.402142857142856,43.00833333333333,43.06,43.4,44.81125,52.821666666666665,54.730999999999995,56.42,60.835,60.99,66.67,100.0],\"yaxis\":\"y\",\"type\":\"bar\"}],                        {\"template\":{\"data\":{\"histogram2dcontour\":[{\"type\":\"histogram2dcontour\",\"colorbar\":{\"outlinewidth\":0,\"ticks\":\"\"},\"colorscale\":[[0.0,\"#0d0887\"],[0.1111111111111111,\"#46039f\"],[0.2222222222222222,\"#7201a8\"],[0.3333333333333333,\"#9c179e\"],[0.4444444444444444,\"#bd3786\"],[0.5555555555555556,\"#d8576b\"],[0.6666666666666666,\"#ed7953\"],[0.7777777777777778,\"#fb9f3a\"],[0.8888888888888888,\"#fdca26\"],[1.0,\"#f0f921\"]]}],\"choropleth\":[{\"type\":\"choropleth\",\"colorbar\":{\"outlinewidth\":0,\"ticks\":\"\"}}],\"histogram2d\":[{\"type\":\"histogram2d\",\"colorbar\":{\"outlinewidth\":0,\"ticks\":\"\"},\"colorscale\":[[0.0,\"#0d0887\"],[0.1111111111111111,\"#46039f\"],[0.2222222222222222,\"#7201a8\"],[0.3333333333333333,\"#9c179e\"],[0.4444444444444444,\"#bd3786\"],[0.5555555555555556,\"#d8576b\"],[0.6666666666666666,\"#ed7953\"],[0.7777777777777778,\"#fb9f3a\"],[0.8888888888888888,\"#fdca26\"],[1.0,\"#f0f921\"]]}],\"heatmap\":[{\"type\":\"heatmap\",\"colorbar\":{\"outlinewidth\":0,\"ticks\":\"\"},\"colorscale\":[[0.0,\"#0d0887\"],[0.1111111111111111,\"#46039f\"],[0.2222222222222222,\"#7201a8\"],[0.3333333333333333,\"#9c179e\"],[0.4444444444444444,\"#bd3786\"],[0.5555555555555556,\"#d8576b\"],[0.6666666666666666,\"#ed7953\"],[0.7777777777777778,\"#fb9f3a\"],[0.8888888888888888,\"#fdca26\"],[1.0,\"#f0f921\"]]}],\"heatmapgl\":[{\"type\":\"heatmapgl\",\"colorbar\":{\"outlinewidth\":0,\"ticks\":\"\"},\"colorscale\":[[0.0,\"#0d0887\"],[0.1111111111111111,\"#46039f\"],[0.2222222222222222,\"#7201a8\"],[0.3333333333333333,\"#9c179e\"],[0.4444444444444444,\"#bd3786\"],[0.5555555555555556,\"#d8576b\"],[0.6666666666666666,\"#ed7953\"],[0.7777777777777778,\"#fb9f3a\"],[0.8888888888888888,\"#fdca26\"],[1.0,\"#f0f921\"]]}],\"contourcarpet\":[{\"type\":\"contourcarpet\",\"colorbar\":{\"outlinewidth\":0,\"ticks\":\"\"}}],\"contour\":[{\"type\":\"contour\",\"colorbar\":{\"outlinewidth\":0,\"ticks\":\"\"},\"colorscale\":[[0.0,\"#0d0887\"],[0.1111111111111111,\"#46039f\"],[0.2222222222222222,\"#7201a8\"],[0.3333333333333333,\"#9c179e\"],[0.4444444444444444,\"#bd3786\"],[0.5555555555555556,\"#d8576b\"],[0.6666666666666666,\"#ed7953\"],[0.7777777777777778,\"#fb9f3a\"],[0.8888888888888888,\"#fdca26\"],[1.0,\"#f0f921\"]]}],\"surface\":[{\"type\":\"surface\",\"colorbar\":{\"outlinewidth\":0,\"ticks\":\"\"},\"colorscale\":[[0.0,\"#0d0887\"],[0.1111111111111111,\"#46039f\"],[0.2222222222222222,\"#7201a8\"],[0.3333333333333333,\"#9c179e\"],[0.4444444444444444,\"#bd3786\"],[0.5555555555555556,\"#d8576b\"],[0.6666666666666666,\"#ed7953\"],[0.7777777777777778,\"#fb9f3a\"],[0.8888888888888888,\"#fdca26\"],[1.0,\"#f0f921\"]]}],\"mesh3d\":[{\"type\":\"mesh3d\",\"colorbar\":{\"outlinewidth\":0,\"ticks\":\"\"}}],\"scatter\":[{\"fillpattern\":{\"fillmode\":\"overlay\",\"size\":10,\"solidity\":0.2},\"type\":\"scatter\"}],\"parcoords\":[{\"type\":\"parcoords\",\"line\":{\"colorbar\":{\"outlinewidth\":0,\"ticks\":\"\"}}}],\"scatterpolargl\":[{\"type\":\"scatterpolargl\",\"marker\":{\"colorbar\":{\"outlinewidth\":0,\"ticks\":\"\"}}}],\"bar\":[{\"error_x\":{\"color\":\"#2a3f5f\"},\"error_y\":{\"color\":\"#2a3f5f\"},\"marker\":{\"line\":{\"color\":\"#E5ECF6\",\"width\":0.5},\"pattern\":{\"fillmode\":\"overlay\",\"size\":10,\"solidity\":0.2}},\"type\":\"bar\"}],\"scattergeo\":[{\"type\":\"scattergeo\",\"marker\":{\"colorbar\":{\"outlinewidth\":0,\"ticks\":\"\"}}}],\"scatterpolar\":[{\"type\":\"scatterpolar\",\"marker\":{\"colorbar\":{\"outlinewidth\":0,\"ticks\":\"\"}}}],\"histogram\":[{\"marker\":{\"pattern\":{\"fillmode\":\"overlay\",\"size\":10,\"solidity\":0.2}},\"type\":\"histogram\"}],\"scattergl\":[{\"type\":\"scattergl\",\"marker\":{\"colorbar\":{\"outlinewidth\":0,\"ticks\":\"\"}}}],\"scatter3d\":[{\"type\":\"scatter3d\",\"line\":{\"colorbar\":{\"outlinewidth\":0,\"ticks\":\"\"}},\"marker\":{\"colorbar\":{\"outlinewidth\":0,\"ticks\":\"\"}}}],\"scattermapbox\":[{\"type\":\"scattermapbox\",\"marker\":{\"colorbar\":{\"outlinewidth\":0,\"ticks\":\"\"}}}],\"scatterternary\":[{\"type\":\"scatterternary\",\"marker\":{\"colorbar\":{\"outlinewidth\":0,\"ticks\":\"\"}}}],\"scattercarpet\":[{\"type\":\"scattercarpet\",\"marker\":{\"colorbar\":{\"outlinewidth\":0,\"ticks\":\"\"}}}],\"carpet\":[{\"aaxis\":{\"endlinecolor\":\"#2a3f5f\",\"gridcolor\":\"white\",\"linecolor\":\"white\",\"minorgridcolor\":\"white\",\"startlinecolor\":\"#2a3f5f\"},\"baxis\":{\"endlinecolor\":\"#2a3f5f\",\"gridcolor\":\"white\",\"linecolor\":\"white\",\"minorgridcolor\":\"white\",\"startlinecolor\":\"#2a3f5f\"},\"type\":\"carpet\"}],\"table\":[{\"cells\":{\"fill\":{\"color\":\"#EBF0F8\"},\"line\":{\"color\":\"white\"}},\"header\":{\"fill\":{\"color\":\"#C8D4E3\"},\"line\":{\"color\":\"white\"}},\"type\":\"table\"}],\"barpolar\":[{\"marker\":{\"line\":{\"color\":\"#E5ECF6\",\"width\":0.5},\"pattern\":{\"fillmode\":\"overlay\",\"size\":10,\"solidity\":0.2}},\"type\":\"barpolar\"}],\"pie\":[{\"automargin\":true,\"type\":\"pie\"}]},\"layout\":{\"autotypenumbers\":\"strict\",\"colorway\":[\"#636efa\",\"#EF553B\",\"#00cc96\",\"#ab63fa\",\"#FFA15A\",\"#19d3f3\",\"#FF6692\",\"#B6E880\",\"#FF97FF\",\"#FECB52\"],\"font\":{\"color\":\"#2a3f5f\"},\"hovermode\":\"closest\",\"hoverlabel\":{\"align\":\"left\"},\"paper_bgcolor\":\"white\",\"plot_bgcolor\":\"#E5ECF6\",\"polar\":{\"bgcolor\":\"#E5ECF6\",\"angularaxis\":{\"gridcolor\":\"white\",\"linecolor\":\"white\",\"ticks\":\"\"},\"radialaxis\":{\"gridcolor\":\"white\",\"linecolor\":\"white\",\"ticks\":\"\"}},\"ternary\":{\"bgcolor\":\"#E5ECF6\",\"aaxis\":{\"gridcolor\":\"white\",\"linecolor\":\"white\",\"ticks\":\"\"},\"baxis\":{\"gridcolor\":\"white\",\"linecolor\":\"white\",\"ticks\":\"\"},\"caxis\":{\"gridcolor\":\"white\",\"linecolor\":\"white\",\"ticks\":\"\"}},\"coloraxis\":{\"colorbar\":{\"outlinewidth\":0,\"ticks\":\"\"}},\"colorscale\":{\"sequential\":[[0.0,\"#0d0887\"],[0.1111111111111111,\"#46039f\"],[0.2222222222222222,\"#7201a8\"],[0.3333333333333333,\"#9c179e\"],[0.4444444444444444,\"#bd3786\"],[0.5555555555555556,\"#d8576b\"],[0.6666666666666666,\"#ed7953\"],[0.7777777777777778,\"#fb9f3a\"],[0.8888888888888888,\"#fdca26\"],[1.0,\"#f0f921\"]],\"sequentialminus\":[[0.0,\"#0d0887\"],[0.1111111111111111,\"#46039f\"],[0.2222222222222222,\"#7201a8\"],[0.3333333333333333,\"#9c179e\"],[0.4444444444444444,\"#bd3786\"],[0.5555555555555556,\"#d8576b\"],[0.6666666666666666,\"#ed7953\"],[0.7777777777777778,\"#fb9f3a\"],[0.8888888888888888,\"#fdca26\"],[1.0,\"#f0f921\"]],\"diverging\":[[0,\"#8e0152\"],[0.1,\"#c51b7d\"],[0.2,\"#de77ae\"],[0.3,\"#f1b6da\"],[0.4,\"#fde0ef\"],[0.5,\"#f7f7f7\"],[0.6,\"#e6f5d0\"],[0.7,\"#b8e186\"],[0.8,\"#7fbc41\"],[0.9,\"#4d9221\"],[1,\"#276419\"]]},\"xaxis\":{\"gridcolor\":\"white\",\"linecolor\":\"white\",\"ticks\":\"\",\"title\":{\"standoff\":15},\"zerolinecolor\":\"white\",\"automargin\":true,\"zerolinewidth\":2},\"yaxis\":{\"gridcolor\":\"white\",\"linecolor\":\"white\",\"ticks\":\"\",\"title\":{\"standoff\":15},\"zerolinecolor\":\"white\",\"automargin\":true,\"zerolinewidth\":2},\"scene\":{\"xaxis\":{\"backgroundcolor\":\"#E5ECF6\",\"gridcolor\":\"white\",\"linecolor\":\"white\",\"showbackground\":true,\"ticks\":\"\",\"zerolinecolor\":\"white\",\"gridwidth\":2},\"yaxis\":{\"backgroundcolor\":\"#E5ECF6\",\"gridcolor\":\"white\",\"linecolor\":\"white\",\"showbackground\":true,\"ticks\":\"\",\"zerolinecolor\":\"white\",\"gridwidth\":2},\"zaxis\":{\"backgroundcolor\":\"#E5ECF6\",\"gridcolor\":\"white\",\"linecolor\":\"white\",\"showbackground\":true,\"ticks\":\"\",\"zerolinecolor\":\"white\",\"gridwidth\":2}},\"shapedefaults\":{\"line\":{\"color\":\"#2a3f5f\"}},\"annotationdefaults\":{\"arrowcolor\":\"#2a3f5f\",\"arrowhead\":0,\"arrowwidth\":1},\"geo\":{\"bgcolor\":\"white\",\"landcolor\":\"#E5ECF6\",\"subunitcolor\":\"white\",\"showland\":true,\"showlakes\":true,\"lakecolor\":\"white\"},\"title\":{\"x\":0.05},\"mapbox\":{\"style\":\"light\"}}},\"xaxis\":{\"anchor\":\"y\",\"domain\":[0.0,1.0],\"title\":{\"text\":\"Hero Roles\"}},\"yaxis\":{\"anchor\":\"x\",\"domain\":[0.0,1.0],\"title\":{\"text\":\"Average Win Rate\"}},\"coloraxis\":{\"colorbar\":{\"title\":{\"text\":\"Average Win Rate\"}},\"colorscale\":[[0.0,\"#440154\"],[0.1111111111111111,\"#482878\"],[0.2222222222222222,\"#3e4989\"],[0.3333333333333333,\"#31688e\"],[0.4444444444444444,\"#26828e\"],[0.5555555555555556,\"#1f9e89\"],[0.6666666666666666,\"#35b779\"],[0.7777777777777778,\"#6ece58\"],[0.8888888888888888,\"#b5de2b\"],[1.0,\"#fde725\"]]},\"legend\":{\"tracegroupgap\":0},\"title\":{\"text\":\"Average Win Rate by Hero Role\"},\"barmode\":\"relative\"},                        {\"responsive\": true}                    ).then(function(){\n",
              "                            \n",
              "var gd = document.getElementById('2cbdf39d-368a-4b67-a9b3-b67555642012');\n",
              "var x = new MutationObserver(function (mutations, observer) {{\n",
              "        var display = window.getComputedStyle(gd).display;\n",
              "        if (!display || display === 'none') {{\n",
              "            console.log([gd, 'removed!']);\n",
              "            Plotly.purge(gd);\n",
              "            observer.disconnect();\n",
              "        }}\n",
              "}});\n",
              "\n",
              "// Listen for the removal of the full notebook cells\n",
              "var notebookContainer = gd.closest('#notebook-container');\n",
              "if (notebookContainer) {{\n",
              "    x.observe(notebookContainer, {childList: true});\n",
              "}}\n",
              "\n",
              "// Listen for the clearing of the current output cell\n",
              "var outputEl = gd.closest('.output');\n",
              "if (outputEl) {{\n",
              "    x.observe(outputEl, {childList: true});\n",
              "}}\n",
              "\n",
              "                        })                };                            </script>        </div>\n",
              "</body>\n",
              "</html>"
            ]
          },
          "metadata": {}
        }
      ]
    },
    {
      "cell_type": "markdown",
      "source": [
        "Berdasarkan hasil visualisasi di atas kita dapat mengetahui role dengan rata-rata winrate tertinggi adalah Marksman/Mage dan role dengan rata-rata win rate terendah adalah Marksman/Fighter."
      ],
      "metadata": {
        "id": "m2RyHx6ivuP0"
      }
    },
    {
      "cell_type": "code",
      "source": [
        "fig = px.bar(df.sort_values(by='T_Picked'), x='Hero', y='T_Picked',\n",
        "             title='Overall Pick Percentage for Each Hero',\n",
        "             labels={'Hero': 'Heroes', 'T_Picked': 'Pick Percentage'},\n",
        "             color='T_Picked',\n",
        "             color_continuous_scale='Viridis')\n",
        "\n",
        "fig.update_layout(xaxis_title='Heroes', yaxis_title='Pick Percentage')\n",
        "fig.show()"
      ],
      "metadata": {
        "colab": {
          "base_uri": "https://localhost:8080/",
          "height": 542
        },
        "id": "Dgso49QOmSsF",
        "outputId": "bbf8dcd7-472c-4e3c-fa99-7960b80b9f42"
      },
      "execution_count": 67,
      "outputs": [
        {
          "output_type": "display_data",
          "data": {
            "text/html": [
              "<html>\n",
              "<head><meta charset=\"utf-8\" /></head>\n",
              "<body>\n",
              "    <div>            <script src=\"https://cdnjs.cloudflare.com/ajax/libs/mathjax/2.7.5/MathJax.js?config=TeX-AMS-MML_SVG\"></script><script type=\"text/javascript\">if (window.MathJax && window.MathJax.Hub && window.MathJax.Hub.Config) {window.MathJax.Hub.Config({SVG: {font: \"STIX-Web\"}});}</script>                <script type=\"text/javascript\">window.PlotlyConfig = {MathJaxConfig: 'local'};</script>\n",
              "        <script charset=\"utf-8\" src=\"https://cdn.plot.ly/plotly-2.24.1.min.js\"></script>                <div id=\"c51f7a22-a590-4576-893d-28c1f2f2e853\" class=\"plotly-graph-div\" style=\"height:525px; width:100%;\"></div>            <script type=\"text/javascript\">                                    window.PLOTLYENV=window.PLOTLYENV || {};                                    if (document.getElementById(\"c51f7a22-a590-4576-893d-28c1f2f2e853\")) {                    Plotly.newPlot(                        \"c51f7a22-a590-4576-893d-28c1f2f2e853\",                        [{\"alignmentgroup\":\"True\",\"hovertemplate\":\"Heroes=%{x}\\u003cbr\\u003ePick Percentage=%{marker.color}\\u003cextra\\u003e\\u003c\\u002fextra\\u003e\",\"legendgroup\":\"\",\"marker\":{\"color\":[0,0,1,1,1,1,1,1,1,1,1,2,2,2,2,3,3,4,4,4,4,4,4,5,5,5,5,5,6,6,7,7,8,8,8,9,9,9,10,12,12,12,12,13,13,13,14,17,20,21,22,24,29,31,37,42,42,43,47,58,59,59,62,64,69,70,72,72,73,74,74,78,80,83,87,90,103,124,127,141,142,169,170,171,174,190,196,196,201,230,236,246,252,253,254,257,281,296,300,306,323,328,336,379,407,423,431,433,460,479,502,527,620,726,727],\"coloraxis\":\"coloraxis\",\"pattern\":{\"shape\":\"\"}},\"name\":\"\",\"offsetgroup\":\"\",\"orientation\":\"v\",\"showlegend\":false,\"textposition\":\"auto\",\"x\":[\"\\u00a0Miya\",\"\\u00a0Layla\",\"\\u00a0Vexana\",\"\\u00a0Kimmy\",\"\\u00a0Moskov\",\"\\u00a0Saber\",\"\\u00a0Zilong\",\"\\u00a0Silvanna\",\"\\u00a0Sun\",\"\\u00a0Vale\",\"\\u00a0Alucard\",\"\\u00a0Tigreal\",\"\\u00a0Aulus\",\"\\u00a0Aldous\",\"\\u00a0Freya\",\"\\u00a0Hanabi\",\"\\u00a0Nana\",\"\\u00a0Belerick\",\"\\u00a0Natan\",\"\\u00a0Carmilla\",\"\\u00a0Yi Sun-Shin\",\"\\u00a0Aamon\",\"\\u00a0Selena\",\"\\u00a0Cyclops\",\"\\u00a0Roger\",\"\\u00a0Chang'e\",\"\\u00a0Julian\",\"\\u00a0Granger\",\"\\u00a0Harley\",\"\\u00a0Yin\",\"\\u00a0Jawhead\",\"\\u00a0Masha\",\"\\u00a0Popol and Kupa\",\"\\u00a0Alice\",\"\\u00a0Balmond\",\"\\u00a0Thamuz\",\"\\u00a0Natalia\",\"\\u00a0Luo Yi\",\"\\u00a0Karina\",\"\\u00a0Minsitthar\",\"\\u00a0Hanzo\",\"\\u00a0Nolan\",\"\\u00a0Gusion\",\"\\u00a0Phoveus\",\"\\u00a0Badang\",\"\\u00a0Kagura\",\"\\u00a0Hylos\",\"\\u00a0Leomord\",\"\\u00a0Xavier\",\"\\u00a0Barats\",\"\\u00a0Atlas\",\"\\u00a0Estes\",\"\\u00a0Guinevere\",\"\\u00a0Cecilion\",\"\\u00a0Hilda\",\"\\u00a0Lunox\",\"\\u00a0Helcurt\",\"\\u00a0Bane\",\"\\u00a0Lolita\",\"\\u00a0Melissa\",\"\\u00a0Dyrroth\",\"\\u00a0Alpha\",\"\\u00a0Ruby\",\"\\u00a0Harith\",\"\\u00a0Benedetta\",\"\\u00a0Diggie\",\"\\u00a0Esmeralda\",\"\\u00a0Floryn\",\"\\u00a0Wanwan\",\"\\u00a0Hayabusa\",\"\\u00a0Khaleed\",\"\\u00a0Ling\",\"\\u00a0Clint\",\"\\u00a0Gloo\",\"\\u00a0Valir\",\"\\u00a0Lesley\",\"\\u00a0Fanny\",\"\\u00a0Ixia\",\"\\u00a0Arlott\",\"\\u00a0Mathilda\",\"\\u00a0Rafaela\",\"\\u00a0Gord\",\"\\u00a0Lylia\",\"\\u00a0Lapu-Lapu\",\"\\u00a0Karrie\",\"\\u00a0Minotaur\",\"\\u00a0Akai\",\"\\u00a0Uranus\",\"\\u00a0Joy\",\"\\u00a0Franco\",\"\\u00a0Yve\",\"\\u00a0Chou\",\"\\u00a0Pharsa\",\"\\u00a0Angela\",\"\\u00a0Kadita\",\"\\u00a0Faramis\",\"\\u00a0Lancelot\",\"\\u00a0Kaja\",\"\\u00a0X.Borg\",\"\\u00a0Yu Zhong\",\"\\u00a0Grock\",\"\\u00a0Brody\",\"\\u00a0Khufra\",\"\\u00a0Claude\",\"\\u00a0Novaria\",\"\\u00a0Baxia\",\"\\u00a0Paquito\",\"\\u00a0Bruno\",\"\\u00a0Beatrix\",\"\\u00a0Martis\",\"\\u00a0Irithel\",\"\\u00a0Edith\",\"\\u00a0Terizla\",\"\\u00a0Fredrinn\",\"\\u00a0Valentina\"],\"xaxis\":\"x\",\"y\":[0,0,1,1,1,1,1,1,1,1,1,2,2,2,2,3,3,4,4,4,4,4,4,5,5,5,5,5,6,6,7,7,8,8,8,9,9,9,10,12,12,12,12,13,13,13,14,17,20,21,22,24,29,31,37,42,42,43,47,58,59,59,62,64,69,70,72,72,73,74,74,78,80,83,87,90,103,124,127,141,142,169,170,171,174,190,196,196,201,230,236,246,252,253,254,257,281,296,300,306,323,328,336,379,407,423,431,433,460,479,502,527,620,726,727],\"yaxis\":\"y\",\"type\":\"bar\"}],                        {\"template\":{\"data\":{\"histogram2dcontour\":[{\"type\":\"histogram2dcontour\",\"colorbar\":{\"outlinewidth\":0,\"ticks\":\"\"},\"colorscale\":[[0.0,\"#0d0887\"],[0.1111111111111111,\"#46039f\"],[0.2222222222222222,\"#7201a8\"],[0.3333333333333333,\"#9c179e\"],[0.4444444444444444,\"#bd3786\"],[0.5555555555555556,\"#d8576b\"],[0.6666666666666666,\"#ed7953\"],[0.7777777777777778,\"#fb9f3a\"],[0.8888888888888888,\"#fdca26\"],[1.0,\"#f0f921\"]]}],\"choropleth\":[{\"type\":\"choropleth\",\"colorbar\":{\"outlinewidth\":0,\"ticks\":\"\"}}],\"histogram2d\":[{\"type\":\"histogram2d\",\"colorbar\":{\"outlinewidth\":0,\"ticks\":\"\"},\"colorscale\":[[0.0,\"#0d0887\"],[0.1111111111111111,\"#46039f\"],[0.2222222222222222,\"#7201a8\"],[0.3333333333333333,\"#9c179e\"],[0.4444444444444444,\"#bd3786\"],[0.5555555555555556,\"#d8576b\"],[0.6666666666666666,\"#ed7953\"],[0.7777777777777778,\"#fb9f3a\"],[0.8888888888888888,\"#fdca26\"],[1.0,\"#f0f921\"]]}],\"heatmap\":[{\"type\":\"heatmap\",\"colorbar\":{\"outlinewidth\":0,\"ticks\":\"\"},\"colorscale\":[[0.0,\"#0d0887\"],[0.1111111111111111,\"#46039f\"],[0.2222222222222222,\"#7201a8\"],[0.3333333333333333,\"#9c179e\"],[0.4444444444444444,\"#bd3786\"],[0.5555555555555556,\"#d8576b\"],[0.6666666666666666,\"#ed7953\"],[0.7777777777777778,\"#fb9f3a\"],[0.8888888888888888,\"#fdca26\"],[1.0,\"#f0f921\"]]}],\"heatmapgl\":[{\"type\":\"heatmapgl\",\"colorbar\":{\"outlinewidth\":0,\"ticks\":\"\"},\"colorscale\":[[0.0,\"#0d0887\"],[0.1111111111111111,\"#46039f\"],[0.2222222222222222,\"#7201a8\"],[0.3333333333333333,\"#9c179e\"],[0.4444444444444444,\"#bd3786\"],[0.5555555555555556,\"#d8576b\"],[0.6666666666666666,\"#ed7953\"],[0.7777777777777778,\"#fb9f3a\"],[0.8888888888888888,\"#fdca26\"],[1.0,\"#f0f921\"]]}],\"contourcarpet\":[{\"type\":\"contourcarpet\",\"colorbar\":{\"outlinewidth\":0,\"ticks\":\"\"}}],\"contour\":[{\"type\":\"contour\",\"colorbar\":{\"outlinewidth\":0,\"ticks\":\"\"},\"colorscale\":[[0.0,\"#0d0887\"],[0.1111111111111111,\"#46039f\"],[0.2222222222222222,\"#7201a8\"],[0.3333333333333333,\"#9c179e\"],[0.4444444444444444,\"#bd3786\"],[0.5555555555555556,\"#d8576b\"],[0.6666666666666666,\"#ed7953\"],[0.7777777777777778,\"#fb9f3a\"],[0.8888888888888888,\"#fdca26\"],[1.0,\"#f0f921\"]]}],\"surface\":[{\"type\":\"surface\",\"colorbar\":{\"outlinewidth\":0,\"ticks\":\"\"},\"colorscale\":[[0.0,\"#0d0887\"],[0.1111111111111111,\"#46039f\"],[0.2222222222222222,\"#7201a8\"],[0.3333333333333333,\"#9c179e\"],[0.4444444444444444,\"#bd3786\"],[0.5555555555555556,\"#d8576b\"],[0.6666666666666666,\"#ed7953\"],[0.7777777777777778,\"#fb9f3a\"],[0.8888888888888888,\"#fdca26\"],[1.0,\"#f0f921\"]]}],\"mesh3d\":[{\"type\":\"mesh3d\",\"colorbar\":{\"outlinewidth\":0,\"ticks\":\"\"}}],\"scatter\":[{\"fillpattern\":{\"fillmode\":\"overlay\",\"size\":10,\"solidity\":0.2},\"type\":\"scatter\"}],\"parcoords\":[{\"type\":\"parcoords\",\"line\":{\"colorbar\":{\"outlinewidth\":0,\"ticks\":\"\"}}}],\"scatterpolargl\":[{\"type\":\"scatterpolargl\",\"marker\":{\"colorbar\":{\"outlinewidth\":0,\"ticks\":\"\"}}}],\"bar\":[{\"error_x\":{\"color\":\"#2a3f5f\"},\"error_y\":{\"color\":\"#2a3f5f\"},\"marker\":{\"line\":{\"color\":\"#E5ECF6\",\"width\":0.5},\"pattern\":{\"fillmode\":\"overlay\",\"size\":10,\"solidity\":0.2}},\"type\":\"bar\"}],\"scattergeo\":[{\"type\":\"scattergeo\",\"marker\":{\"colorbar\":{\"outlinewidth\":0,\"ticks\":\"\"}}}],\"scatterpolar\":[{\"type\":\"scatterpolar\",\"marker\":{\"colorbar\":{\"outlinewidth\":0,\"ticks\":\"\"}}}],\"histogram\":[{\"marker\":{\"pattern\":{\"fillmode\":\"overlay\",\"size\":10,\"solidity\":0.2}},\"type\":\"histogram\"}],\"scattergl\":[{\"type\":\"scattergl\",\"marker\":{\"colorbar\":{\"outlinewidth\":0,\"ticks\":\"\"}}}],\"scatter3d\":[{\"type\":\"scatter3d\",\"line\":{\"colorbar\":{\"outlinewidth\":0,\"ticks\":\"\"}},\"marker\":{\"colorbar\":{\"outlinewidth\":0,\"ticks\":\"\"}}}],\"scattermapbox\":[{\"type\":\"scattermapbox\",\"marker\":{\"colorbar\":{\"outlinewidth\":0,\"ticks\":\"\"}}}],\"scatterternary\":[{\"type\":\"scatterternary\",\"marker\":{\"colorbar\":{\"outlinewidth\":0,\"ticks\":\"\"}}}],\"scattercarpet\":[{\"type\":\"scattercarpet\",\"marker\":{\"colorbar\":{\"outlinewidth\":0,\"ticks\":\"\"}}}],\"carpet\":[{\"aaxis\":{\"endlinecolor\":\"#2a3f5f\",\"gridcolor\":\"white\",\"linecolor\":\"white\",\"minorgridcolor\":\"white\",\"startlinecolor\":\"#2a3f5f\"},\"baxis\":{\"endlinecolor\":\"#2a3f5f\",\"gridcolor\":\"white\",\"linecolor\":\"white\",\"minorgridcolor\":\"white\",\"startlinecolor\":\"#2a3f5f\"},\"type\":\"carpet\"}],\"table\":[{\"cells\":{\"fill\":{\"color\":\"#EBF0F8\"},\"line\":{\"color\":\"white\"}},\"header\":{\"fill\":{\"color\":\"#C8D4E3\"},\"line\":{\"color\":\"white\"}},\"type\":\"table\"}],\"barpolar\":[{\"marker\":{\"line\":{\"color\":\"#E5ECF6\",\"width\":0.5},\"pattern\":{\"fillmode\":\"overlay\",\"size\":10,\"solidity\":0.2}},\"type\":\"barpolar\"}],\"pie\":[{\"automargin\":true,\"type\":\"pie\"}]},\"layout\":{\"autotypenumbers\":\"strict\",\"colorway\":[\"#636efa\",\"#EF553B\",\"#00cc96\",\"#ab63fa\",\"#FFA15A\",\"#19d3f3\",\"#FF6692\",\"#B6E880\",\"#FF97FF\",\"#FECB52\"],\"font\":{\"color\":\"#2a3f5f\"},\"hovermode\":\"closest\",\"hoverlabel\":{\"align\":\"left\"},\"paper_bgcolor\":\"white\",\"plot_bgcolor\":\"#E5ECF6\",\"polar\":{\"bgcolor\":\"#E5ECF6\",\"angularaxis\":{\"gridcolor\":\"white\",\"linecolor\":\"white\",\"ticks\":\"\"},\"radialaxis\":{\"gridcolor\":\"white\",\"linecolor\":\"white\",\"ticks\":\"\"}},\"ternary\":{\"bgcolor\":\"#E5ECF6\",\"aaxis\":{\"gridcolor\":\"white\",\"linecolor\":\"white\",\"ticks\":\"\"},\"baxis\":{\"gridcolor\":\"white\",\"linecolor\":\"white\",\"ticks\":\"\"},\"caxis\":{\"gridcolor\":\"white\",\"linecolor\":\"white\",\"ticks\":\"\"}},\"coloraxis\":{\"colorbar\":{\"outlinewidth\":0,\"ticks\":\"\"}},\"colorscale\":{\"sequential\":[[0.0,\"#0d0887\"],[0.1111111111111111,\"#46039f\"],[0.2222222222222222,\"#7201a8\"],[0.3333333333333333,\"#9c179e\"],[0.4444444444444444,\"#bd3786\"],[0.5555555555555556,\"#d8576b\"],[0.6666666666666666,\"#ed7953\"],[0.7777777777777778,\"#fb9f3a\"],[0.8888888888888888,\"#fdca26\"],[1.0,\"#f0f921\"]],\"sequentialminus\":[[0.0,\"#0d0887\"],[0.1111111111111111,\"#46039f\"],[0.2222222222222222,\"#7201a8\"],[0.3333333333333333,\"#9c179e\"],[0.4444444444444444,\"#bd3786\"],[0.5555555555555556,\"#d8576b\"],[0.6666666666666666,\"#ed7953\"],[0.7777777777777778,\"#fb9f3a\"],[0.8888888888888888,\"#fdca26\"],[1.0,\"#f0f921\"]],\"diverging\":[[0,\"#8e0152\"],[0.1,\"#c51b7d\"],[0.2,\"#de77ae\"],[0.3,\"#f1b6da\"],[0.4,\"#fde0ef\"],[0.5,\"#f7f7f7\"],[0.6,\"#e6f5d0\"],[0.7,\"#b8e186\"],[0.8,\"#7fbc41\"],[0.9,\"#4d9221\"],[1,\"#276419\"]]},\"xaxis\":{\"gridcolor\":\"white\",\"linecolor\":\"white\",\"ticks\":\"\",\"title\":{\"standoff\":15},\"zerolinecolor\":\"white\",\"automargin\":true,\"zerolinewidth\":2},\"yaxis\":{\"gridcolor\":\"white\",\"linecolor\":\"white\",\"ticks\":\"\",\"title\":{\"standoff\":15},\"zerolinecolor\":\"white\",\"automargin\":true,\"zerolinewidth\":2},\"scene\":{\"xaxis\":{\"backgroundcolor\":\"#E5ECF6\",\"gridcolor\":\"white\",\"linecolor\":\"white\",\"showbackground\":true,\"ticks\":\"\",\"zerolinecolor\":\"white\",\"gridwidth\":2},\"yaxis\":{\"backgroundcolor\":\"#E5ECF6\",\"gridcolor\":\"white\",\"linecolor\":\"white\",\"showbackground\":true,\"ticks\":\"\",\"zerolinecolor\":\"white\",\"gridwidth\":2},\"zaxis\":{\"backgroundcolor\":\"#E5ECF6\",\"gridcolor\":\"white\",\"linecolor\":\"white\",\"showbackground\":true,\"ticks\":\"\",\"zerolinecolor\":\"white\",\"gridwidth\":2}},\"shapedefaults\":{\"line\":{\"color\":\"#2a3f5f\"}},\"annotationdefaults\":{\"arrowcolor\":\"#2a3f5f\",\"arrowhead\":0,\"arrowwidth\":1},\"geo\":{\"bgcolor\":\"white\",\"landcolor\":\"#E5ECF6\",\"subunitcolor\":\"white\",\"showland\":true,\"showlakes\":true,\"lakecolor\":\"white\"},\"title\":{\"x\":0.05},\"mapbox\":{\"style\":\"light\"}}},\"xaxis\":{\"anchor\":\"y\",\"domain\":[0.0,1.0],\"title\":{\"text\":\"Heroes\"}},\"yaxis\":{\"anchor\":\"x\",\"domain\":[0.0,1.0],\"title\":{\"text\":\"Pick Percentage\"}},\"coloraxis\":{\"colorbar\":{\"title\":{\"text\":\"Pick Percentage\"}},\"colorscale\":[[0.0,\"#440154\"],[0.1111111111111111,\"#482878\"],[0.2222222222222222,\"#3e4989\"],[0.3333333333333333,\"#31688e\"],[0.4444444444444444,\"#26828e\"],[0.5555555555555556,\"#1f9e89\"],[0.6666666666666666,\"#35b779\"],[0.7777777777777778,\"#6ece58\"],[0.8888888888888888,\"#b5de2b\"],[1.0,\"#fde725\"]]},\"legend\":{\"tracegroupgap\":0},\"title\":{\"text\":\"Overall Pick Percentage for Each Hero\"},\"barmode\":\"relative\"},                        {\"responsive\": true}                    ).then(function(){\n",
              "                            \n",
              "var gd = document.getElementById('c51f7a22-a590-4576-893d-28c1f2f2e853');\n",
              "var x = new MutationObserver(function (mutations, observer) {{\n",
              "        var display = window.getComputedStyle(gd).display;\n",
              "        if (!display || display === 'none') {{\n",
              "            console.log([gd, 'removed!']);\n",
              "            Plotly.purge(gd);\n",
              "            observer.disconnect();\n",
              "        }}\n",
              "}});\n",
              "\n",
              "// Listen for the removal of the full notebook cells\n",
              "var notebookContainer = gd.closest('#notebook-container');\n",
              "if (notebookContainer) {{\n",
              "    x.observe(notebookContainer, {childList: true});\n",
              "}}\n",
              "\n",
              "// Listen for the clearing of the current output cell\n",
              "var outputEl = gd.closest('.output');\n",
              "if (outputEl) {{\n",
              "    x.observe(outputEl, {childList: true});\n",
              "}}\n",
              "\n",
              "                        })                };                            </script>        </div>\n",
              "</body>\n",
              "</html>"
            ]
          },
          "metadata": {}
        }
      ]
    },
    {
      "cell_type": "markdown",
      "source": [
        "Dari hasil visualisasi diatas kit dapt mengetahui hero apa saja yang paling sering di pick dan yang paling sering di pick adalah hero valentina dan fredrin."
      ],
      "metadata": {
        "id": "nxLy4REpmzRj"
      }
    },
    {
      "cell_type": "code",
      "source": [
        "fig = px.scatter(df, x='T_Picked', y='T_WinRate',\n",
        "                 title='Correlation between Hero Picks and Win Rates',\n",
        "                 labels={'T_Picked': 'Total Heroes Picked', 'T_WinRate': 'Win Rate'},\n",
        "                 color='Hero',\n",
        "                 color_continuous_scale='Viridis')\n",
        "\n",
        "fig.update_layout(xaxis_title='Total Heroes Picked', yaxis_title='Win Rate')\n",
        "fig.show()"
      ],
      "metadata": {
        "colab": {
          "base_uri": "https://localhost:8080/",
          "height": 542
        },
        "id": "PiUmiyPNURsU",
        "outputId": "d2182e6f-7995-494e-8c87-6a2fcb5c96f8"
      },
      "execution_count": 68,
      "outputs": [
        {
          "output_type": "display_data",
          "data": {
            "text/html": [
              "<html>\n",
              "<head><meta charset=\"utf-8\" /></head>\n",
              "<body>\n",
              "    <div>            <script src=\"https://cdnjs.cloudflare.com/ajax/libs/mathjax/2.7.5/MathJax.js?config=TeX-AMS-MML_SVG\"></script><script type=\"text/javascript\">if (window.MathJax && window.MathJax.Hub && window.MathJax.Hub.Config) {window.MathJax.Hub.Config({SVG: {font: \"STIX-Web\"}});}</script>                <script type=\"text/javascript\">window.PlotlyConfig = {MathJaxConfig: 'local'};</script>\n",
              "        <script charset=\"utf-8\" src=\"https://cdn.plot.ly/plotly-2.24.1.min.js\"></script>                <div id=\"68e1e81a-a4d9-421f-87ca-cbc1035eb239\" class=\"plotly-graph-div\" style=\"height:525px; width:100%;\"></div>            <script type=\"text/javascript\">                                    window.PLOTLYENV=window.PLOTLYENV || {};                                    if (document.getElementById(\"68e1e81a-a4d9-421f-87ca-cbc1035eb239\")) {                    Plotly.newPlot(                        \"68e1e81a-a4d9-421f-87ca-cbc1035eb239\",                        [{\"hovertemplate\":\"Hero=\\u00a0Valentina\\u003cbr\\u003eTotal Heroes Picked=%{x}\\u003cbr\\u003eWin Rate=%{y}\\u003cextra\\u003e\\u003c\\u002fextra\\u003e\",\"legendgroup\":\"\\u00a0Valentina\",\"marker\":{\"color\":\"#636efa\",\"symbol\":\"circle\"},\"mode\":\"markers\",\"name\":\"\\u00a0Valentina\",\"orientation\":\"v\",\"showlegend\":true,\"x\":[727],\"xaxis\":\"x\",\"y\":[45.94],\"yaxis\":\"y\",\"type\":\"scatter\"},{\"hovertemplate\":\"Hero=\\u00a0Fredrinn\\u003cbr\\u003eTotal Heroes Picked=%{x}\\u003cbr\\u003eWin Rate=%{y}\\u003cextra\\u003e\\u003c\\u002fextra\\u003e\",\"legendgroup\":\"\\u00a0Fredrinn\",\"marker\":{\"color\":\"#EF553B\",\"symbol\":\"circle\"},\"mode\":\"markers\",\"name\":\"\\u00a0Fredrinn\",\"orientation\":\"v\",\"showlegend\":true,\"x\":[726],\"xaxis\":\"x\",\"y\":[52.75],\"yaxis\":\"y\",\"type\":\"scatter\"},{\"hovertemplate\":\"Hero=\\u00a0Terizla\\u003cbr\\u003eTotal Heroes Picked=%{x}\\u003cbr\\u003eWin Rate=%{y}\\u003cextra\\u003e\\u003c\\u002fextra\\u003e\",\"legendgroup\":\"\\u00a0Terizla\",\"marker\":{\"color\":\"#00cc96\",\"symbol\":\"circle\"},\"mode\":\"markers\",\"name\":\"\\u00a0Terizla\",\"orientation\":\"v\",\"showlegend\":true,\"x\":[620],\"xaxis\":\"x\",\"y\":[56.13],\"yaxis\":\"y\",\"type\":\"scatter\"},{\"hovertemplate\":\"Hero=\\u00a0Edith\\u003cbr\\u003eTotal Heroes Picked=%{x}\\u003cbr\\u003eWin Rate=%{y}\\u003cextra\\u003e\\u003c\\u002fextra\\u003e\",\"legendgroup\":\"\\u00a0Edith\",\"marker\":{\"color\":\"#ab63fa\",\"symbol\":\"circle\"},\"mode\":\"markers\",\"name\":\"\\u00a0Edith\",\"orientation\":\"v\",\"showlegend\":true,\"x\":[527],\"xaxis\":\"x\",\"y\":[50.28],\"yaxis\":\"y\",\"type\":\"scatter\"},{\"hovertemplate\":\"Hero=\\u00a0Irithel\\u003cbr\\u003eTotal Heroes Picked=%{x}\\u003cbr\\u003eWin Rate=%{y}\\u003cextra\\u003e\\u003c\\u002fextra\\u003e\",\"legendgroup\":\"\\u00a0Irithel\",\"marker\":{\"color\":\"#FFA15A\",\"symbol\":\"circle\"},\"mode\":\"markers\",\"name\":\"\\u00a0Irithel\",\"orientation\":\"v\",\"showlegend\":true,\"x\":[502],\"xaxis\":\"x\",\"y\":[50.8],\"yaxis\":\"y\",\"type\":\"scatter\"},{\"hovertemplate\":\"Hero=\\u00a0Martis\\u003cbr\\u003eTotal Heroes Picked=%{x}\\u003cbr\\u003eWin Rate=%{y}\\u003cextra\\u003e\\u003c\\u002fextra\\u003e\",\"legendgroup\":\"\\u00a0Martis\",\"marker\":{\"color\":\"#19d3f3\",\"symbol\":\"circle\"},\"mode\":\"markers\",\"name\":\"\\u00a0Martis\",\"orientation\":\"v\",\"showlegend\":true,\"x\":[479],\"xaxis\":\"x\",\"y\":[44.89],\"yaxis\":\"y\",\"type\":\"scatter\"},{\"hovertemplate\":\"Hero=\\u00a0Beatrix\\u003cbr\\u003eTotal Heroes Picked=%{x}\\u003cbr\\u003eWin Rate=%{y}\\u003cextra\\u003e\\u003c\\u002fextra\\u003e\",\"legendgroup\":\"\\u00a0Beatrix\",\"marker\":{\"color\":\"#FF6692\",\"symbol\":\"circle\"},\"mode\":\"markers\",\"name\":\"\\u00a0Beatrix\",\"orientation\":\"v\",\"showlegend\":true,\"x\":[460],\"xaxis\":\"x\",\"y\":[54.13],\"yaxis\":\"y\",\"type\":\"scatter\"},{\"hovertemplate\":\"Hero=\\u00a0Bruno\\u003cbr\\u003eTotal Heroes Picked=%{x}\\u003cbr\\u003eWin Rate=%{y}\\u003cextra\\u003e\\u003c\\u002fextra\\u003e\",\"legendgroup\":\"\\u00a0Bruno\",\"marker\":{\"color\":\"#B6E880\",\"symbol\":\"circle\"},\"mode\":\"markers\",\"name\":\"\\u00a0Bruno\",\"orientation\":\"v\",\"showlegend\":true,\"x\":[433],\"xaxis\":\"x\",\"y\":[53.81],\"yaxis\":\"y\",\"type\":\"scatter\"},{\"hovertemplate\":\"Hero=\\u00a0Paquito\\u003cbr\\u003eTotal Heroes Picked=%{x}\\u003cbr\\u003eWin Rate=%{y}\\u003cextra\\u003e\\u003c\\u002fextra\\u003e\",\"legendgroup\":\"\\u00a0Paquito\",\"marker\":{\"color\":\"#FF97FF\",\"symbol\":\"circle\"},\"mode\":\"markers\",\"name\":\"\\u00a0Paquito\",\"orientation\":\"v\",\"showlegend\":true,\"x\":[431],\"xaxis\":\"x\",\"y\":[51.28],\"yaxis\":\"y\",\"type\":\"scatter\"},{\"hovertemplate\":\"Hero=\\u00a0Baxia\\u003cbr\\u003eTotal Heroes Picked=%{x}\\u003cbr\\u003eWin Rate=%{y}\\u003cextra\\u003e\\u003c\\u002fextra\\u003e\",\"legendgroup\":\"\\u00a0Baxia\",\"marker\":{\"color\":\"#FECB52\",\"symbol\":\"circle\"},\"mode\":\"markers\",\"name\":\"\\u00a0Baxia\",\"orientation\":\"v\",\"showlegend\":true,\"x\":[423],\"xaxis\":\"x\",\"y\":[53.19],\"yaxis\":\"y\",\"type\":\"scatter\"},{\"hovertemplate\":\"Hero=\\u00a0Novaria\\u003cbr\\u003eTotal Heroes Picked=%{x}\\u003cbr\\u003eWin Rate=%{y}\\u003cextra\\u003e\\u003c\\u002fextra\\u003e\",\"legendgroup\":\"\\u00a0Novaria\",\"marker\":{\"color\":\"#636efa\",\"symbol\":\"circle\"},\"mode\":\"markers\",\"name\":\"\\u00a0Novaria\",\"orientation\":\"v\",\"showlegend\":true,\"x\":[407],\"xaxis\":\"x\",\"y\":[53.81],\"yaxis\":\"y\",\"type\":\"scatter\"},{\"hovertemplate\":\"Hero=\\u00a0Claude\\u003cbr\\u003eTotal Heroes Picked=%{x}\\u003cbr\\u003eWin Rate=%{y}\\u003cextra\\u003e\\u003c\\u002fextra\\u003e\",\"legendgroup\":\"\\u00a0Claude\",\"marker\":{\"color\":\"#EF553B\",\"symbol\":\"circle\"},\"mode\":\"markers\",\"name\":\"\\u00a0Claude\",\"orientation\":\"v\",\"showlegend\":true,\"x\":[379],\"xaxis\":\"x\",\"y\":[49.87],\"yaxis\":\"y\",\"type\":\"scatter\"},{\"hovertemplate\":\"Hero=\\u00a0Khufra\\u003cbr\\u003eTotal Heroes Picked=%{x}\\u003cbr\\u003eWin Rate=%{y}\\u003cextra\\u003e\\u003c\\u002fextra\\u003e\",\"legendgroup\":\"\\u00a0Khufra\",\"marker\":{\"color\":\"#00cc96\",\"symbol\":\"circle\"},\"mode\":\"markers\",\"name\":\"\\u00a0Khufra\",\"orientation\":\"v\",\"showlegend\":true,\"x\":[336],\"xaxis\":\"x\",\"y\":[46.13],\"yaxis\":\"y\",\"type\":\"scatter\"},{\"hovertemplate\":\"Hero=\\u00a0Brody\\u003cbr\\u003eTotal Heroes Picked=%{x}\\u003cbr\\u003eWin Rate=%{y}\\u003cextra\\u003e\\u003c\\u002fextra\\u003e\",\"legendgroup\":\"\\u00a0Brody\",\"marker\":{\"color\":\"#ab63fa\",\"symbol\":\"circle\"},\"mode\":\"markers\",\"name\":\"\\u00a0Brody\",\"orientation\":\"v\",\"showlegend\":true,\"x\":[328],\"xaxis\":\"x\",\"y\":[46.34],\"yaxis\":\"y\",\"type\":\"scatter\"},{\"hovertemplate\":\"Hero=\\u00a0Grock\\u003cbr\\u003eTotal Heroes Picked=%{x}\\u003cbr\\u003eWin Rate=%{y}\\u003cextra\\u003e\\u003c\\u002fextra\\u003e\",\"legendgroup\":\"\\u00a0Grock\",\"marker\":{\"color\":\"#FFA15A\",\"symbol\":\"circle\"},\"mode\":\"markers\",\"name\":\"\\u00a0Grock\",\"orientation\":\"v\",\"showlegend\":true,\"x\":[323],\"xaxis\":\"x\",\"y\":[43.96],\"yaxis\":\"y\",\"type\":\"scatter\"},{\"hovertemplate\":\"Hero=\\u00a0Yu Zhong\\u003cbr\\u003eTotal Heroes Picked=%{x}\\u003cbr\\u003eWin Rate=%{y}\\u003cextra\\u003e\\u003c\\u002fextra\\u003e\",\"legendgroup\":\"\\u00a0Yu Zhong\",\"marker\":{\"color\":\"#19d3f3\",\"symbol\":\"circle\"},\"mode\":\"markers\",\"name\":\"\\u00a0Yu Zhong\",\"orientation\":\"v\",\"showlegend\":true,\"x\":[306],\"xaxis\":\"x\",\"y\":[50.0],\"yaxis\":\"y\",\"type\":\"scatter\"},{\"hovertemplate\":\"Hero=\\u00a0X.Borg\\u003cbr\\u003eTotal Heroes Picked=%{x}\\u003cbr\\u003eWin Rate=%{y}\\u003cextra\\u003e\\u003c\\u002fextra\\u003e\",\"legendgroup\":\"\\u00a0X.Borg\",\"marker\":{\"color\":\"#FF6692\",\"symbol\":\"circle\"},\"mode\":\"markers\",\"name\":\"\\u00a0X.Borg\",\"orientation\":\"v\",\"showlegend\":true,\"x\":[300],\"xaxis\":\"x\",\"y\":[48.67],\"yaxis\":\"y\",\"type\":\"scatter\"},{\"hovertemplate\":\"Hero=\\u00a0Kaja\\u003cbr\\u003eTotal Heroes Picked=%{x}\\u003cbr\\u003eWin Rate=%{y}\\u003cextra\\u003e\\u003c\\u002fextra\\u003e\",\"legendgroup\":\"\\u00a0Kaja\",\"marker\":{\"color\":\"#B6E880\",\"symbol\":\"circle\"},\"mode\":\"markers\",\"name\":\"\\u00a0Kaja\",\"orientation\":\"v\",\"showlegend\":true,\"x\":[296],\"xaxis\":\"x\",\"y\":[51.35],\"yaxis\":\"y\",\"type\":\"scatter\"},{\"hovertemplate\":\"Hero=\\u00a0Lancelot\\u003cbr\\u003eTotal Heroes Picked=%{x}\\u003cbr\\u003eWin Rate=%{y}\\u003cextra\\u003e\\u003c\\u002fextra\\u003e\",\"legendgroup\":\"\\u00a0Lancelot\",\"marker\":{\"color\":\"#FF97FF\",\"symbol\":\"circle\"},\"mode\":\"markers\",\"name\":\"\\u00a0Lancelot\",\"orientation\":\"v\",\"showlegend\":true,\"x\":[281],\"xaxis\":\"x\",\"y\":[46.62],\"yaxis\":\"y\",\"type\":\"scatter\"},{\"hovertemplate\":\"Hero=\\u00a0Faramis\\u003cbr\\u003eTotal Heroes Picked=%{x}\\u003cbr\\u003eWin Rate=%{y}\\u003cextra\\u003e\\u003c\\u002fextra\\u003e\",\"legendgroup\":\"\\u00a0Faramis\",\"marker\":{\"color\":\"#FECB52\",\"symbol\":\"circle\"},\"mode\":\"markers\",\"name\":\"\\u00a0Faramis\",\"orientation\":\"v\",\"showlegend\":true,\"x\":[257],\"xaxis\":\"x\",\"y\":[56.42],\"yaxis\":\"y\",\"type\":\"scatter\"},{\"hovertemplate\":\"Hero=\\u00a0Kadita\\u003cbr\\u003eTotal Heroes Picked=%{x}\\u003cbr\\u003eWin Rate=%{y}\\u003cextra\\u003e\\u003c\\u002fextra\\u003e\",\"legendgroup\":\"\\u00a0Kadita\",\"marker\":{\"color\":\"#636efa\",\"symbol\":\"circle\"},\"mode\":\"markers\",\"name\":\"\\u00a0Kadita\",\"orientation\":\"v\",\"showlegend\":true,\"x\":[254],\"xaxis\":\"x\",\"y\":[55.91],\"yaxis\":\"y\",\"type\":\"scatter\"},{\"hovertemplate\":\"Hero=\\u00a0Angela\\u003cbr\\u003eTotal Heroes Picked=%{x}\\u003cbr\\u003eWin Rate=%{y}\\u003cextra\\u003e\\u003c\\u002fextra\\u003e\",\"legendgroup\":\"\\u00a0Angela\",\"marker\":{\"color\":\"#EF553B\",\"symbol\":\"circle\"},\"mode\":\"markers\",\"name\":\"\\u00a0Angela\",\"orientation\":\"v\",\"showlegend\":true,\"x\":[253],\"xaxis\":\"x\",\"y\":[48.22],\"yaxis\":\"y\",\"type\":\"scatter\"},{\"hovertemplate\":\"Hero=\\u00a0Pharsa\\u003cbr\\u003eTotal Heroes Picked=%{x}\\u003cbr\\u003eWin Rate=%{y}\\u003cextra\\u003e\\u003c\\u002fextra\\u003e\",\"legendgroup\":\"\\u00a0Pharsa\",\"marker\":{\"color\":\"#00cc96\",\"symbol\":\"circle\"},\"mode\":\"markers\",\"name\":\"\\u00a0Pharsa\",\"orientation\":\"v\",\"showlegend\":true,\"x\":[252],\"xaxis\":\"x\",\"y\":[44.05],\"yaxis\":\"y\",\"type\":\"scatter\"},{\"hovertemplate\":\"Hero=\\u00a0Chou\\u003cbr\\u003eTotal Heroes Picked=%{x}\\u003cbr\\u003eWin Rate=%{y}\\u003cextra\\u003e\\u003c\\u002fextra\\u003e\",\"legendgroup\":\"\\u00a0Chou\",\"marker\":{\"color\":\"#ab63fa\",\"symbol\":\"circle\"},\"mode\":\"markers\",\"name\":\"\\u00a0Chou\",\"orientation\":\"v\",\"showlegend\":true,\"x\":[246],\"xaxis\":\"x\",\"y\":[50.0],\"yaxis\":\"y\",\"type\":\"scatter\"},{\"hovertemplate\":\"Hero=\\u00a0Yve\\u003cbr\\u003eTotal Heroes Picked=%{x}\\u003cbr\\u003eWin Rate=%{y}\\u003cextra\\u003e\\u003c\\u002fextra\\u003e\",\"legendgroup\":\"\\u00a0Yve\",\"marker\":{\"color\":\"#FFA15A\",\"symbol\":\"circle\"},\"mode\":\"markers\",\"name\":\"\\u00a0Yve\",\"orientation\":\"v\",\"showlegend\":true,\"x\":[236],\"xaxis\":\"x\",\"y\":[55.08],\"yaxis\":\"y\",\"type\":\"scatter\"},{\"hovertemplate\":\"Hero=\\u00a0Franco\\u003cbr\\u003eTotal Heroes Picked=%{x}\\u003cbr\\u003eWin Rate=%{y}\\u003cextra\\u003e\\u003c\\u002fextra\\u003e\",\"legendgroup\":\"\\u00a0Franco\",\"marker\":{\"color\":\"#19d3f3\",\"symbol\":\"circle\"},\"mode\":\"markers\",\"name\":\"\\u00a0Franco\",\"orientation\":\"v\",\"showlegend\":true,\"x\":[230],\"xaxis\":\"x\",\"y\":[54.78],\"yaxis\":\"y\",\"type\":\"scatter\"},{\"hovertemplate\":\"Hero=\\u00a0Joy\\u003cbr\\u003eTotal Heroes Picked=%{x}\\u003cbr\\u003eWin Rate=%{y}\\u003cextra\\u003e\\u003c\\u002fextra\\u003e\",\"legendgroup\":\"\\u00a0Joy\",\"marker\":{\"color\":\"#FF6692\",\"symbol\":\"circle\"},\"mode\":\"markers\",\"name\":\"\\u00a0Joy\",\"orientation\":\"v\",\"showlegend\":true,\"x\":[201],\"xaxis\":\"x\",\"y\":[56.22],\"yaxis\":\"y\",\"type\":\"scatter\"},{\"hovertemplate\":\"Hero=\\u00a0Akai\\u003cbr\\u003eTotal Heroes Picked=%{x}\\u003cbr\\u003eWin Rate=%{y}\\u003cextra\\u003e\\u003c\\u002fextra\\u003e\",\"legendgroup\":\"\\u00a0Akai\",\"marker\":{\"color\":\"#B6E880\",\"symbol\":\"circle\"},\"mode\":\"markers\",\"name\":\"\\u00a0Akai\",\"orientation\":\"v\",\"showlegend\":true,\"x\":[196],\"xaxis\":\"x\",\"y\":[45.41],\"yaxis\":\"y\",\"type\":\"scatter\"},{\"hovertemplate\":\"Hero=\\u00a0Uranus\\u003cbr\\u003eTotal Heroes Picked=%{x}\\u003cbr\\u003eWin Rate=%{y}\\u003cextra\\u003e\\u003c\\u002fextra\\u003e\",\"legendgroup\":\"\\u00a0Uranus\",\"marker\":{\"color\":\"#FF97FF\",\"symbol\":\"circle\"},\"mode\":\"markers\",\"name\":\"\\u00a0Uranus\",\"orientation\":\"v\",\"showlegend\":true,\"x\":[196],\"xaxis\":\"x\",\"y\":[43.88],\"yaxis\":\"y\",\"type\":\"scatter\"},{\"hovertemplate\":\"Hero=\\u00a0Minotaur\\u003cbr\\u003eTotal Heroes Picked=%{x}\\u003cbr\\u003eWin Rate=%{y}\\u003cextra\\u003e\\u003c\\u002fextra\\u003e\",\"legendgroup\":\"\\u00a0Minotaur\",\"marker\":{\"color\":\"#FECB52\",\"symbol\":\"circle\"},\"mode\":\"markers\",\"name\":\"\\u00a0Minotaur\",\"orientation\":\"v\",\"showlegend\":true,\"x\":[190],\"xaxis\":\"x\",\"y\":[48.42],\"yaxis\":\"y\",\"type\":\"scatter\"},{\"hovertemplate\":\"Hero=\\u00a0Karrie\\u003cbr\\u003eTotal Heroes Picked=%{x}\\u003cbr\\u003eWin Rate=%{y}\\u003cextra\\u003e\\u003c\\u002fextra\\u003e\",\"legendgroup\":\"\\u00a0Karrie\",\"marker\":{\"color\":\"#636efa\",\"symbol\":\"circle\"},\"mode\":\"markers\",\"name\":\"\\u00a0Karrie\",\"orientation\":\"v\",\"showlegend\":true,\"x\":[174],\"xaxis\":\"x\",\"y\":[39.66],\"yaxis\":\"y\",\"type\":\"scatter\"},{\"hovertemplate\":\"Hero=\\u00a0Lapu-Lapu\\u003cbr\\u003eTotal Heroes Picked=%{x}\\u003cbr\\u003eWin Rate=%{y}\\u003cextra\\u003e\\u003c\\u002fextra\\u003e\",\"legendgroup\":\"\\u00a0Lapu-Lapu\",\"marker\":{\"color\":\"#EF553B\",\"symbol\":\"circle\"},\"mode\":\"markers\",\"name\":\"\\u00a0Lapu-Lapu\",\"orientation\":\"v\",\"showlegend\":true,\"x\":[171],\"xaxis\":\"x\",\"y\":[45.61],\"yaxis\":\"y\",\"type\":\"scatter\"},{\"hovertemplate\":\"Hero=\\u00a0Lylia\\u003cbr\\u003eTotal Heroes Picked=%{x}\\u003cbr\\u003eWin Rate=%{y}\\u003cextra\\u003e\\u003c\\u002fextra\\u003e\",\"legendgroup\":\"\\u00a0Lylia\",\"marker\":{\"color\":\"#00cc96\",\"symbol\":\"circle\"},\"mode\":\"markers\",\"name\":\"\\u00a0Lylia\",\"orientation\":\"v\",\"showlegend\":true,\"x\":[170],\"xaxis\":\"x\",\"y\":[51.18],\"yaxis\":\"y\",\"type\":\"scatter\"},{\"hovertemplate\":\"Hero=\\u00a0Gord\\u003cbr\\u003eTotal Heroes Picked=%{x}\\u003cbr\\u003eWin Rate=%{y}\\u003cextra\\u003e\\u003c\\u002fextra\\u003e\",\"legendgroup\":\"\\u00a0Gord\",\"marker\":{\"color\":\"#ab63fa\",\"symbol\":\"circle\"},\"mode\":\"markers\",\"name\":\"\\u00a0Gord\",\"orientation\":\"v\",\"showlegend\":true,\"x\":[169],\"xaxis\":\"x\",\"y\":[52.66],\"yaxis\":\"y\",\"type\":\"scatter\"},{\"hovertemplate\":\"Hero=\\u00a0Rafaela\\u003cbr\\u003eTotal Heroes Picked=%{x}\\u003cbr\\u003eWin Rate=%{y}\\u003cextra\\u003e\\u003c\\u002fextra\\u003e\",\"legendgroup\":\"\\u00a0Rafaela\",\"marker\":{\"color\":\"#FFA15A\",\"symbol\":\"circle\"},\"mode\":\"markers\",\"name\":\"\\u00a0Rafaela\",\"orientation\":\"v\",\"showlegend\":true,\"x\":[142],\"xaxis\":\"x\",\"y\":[40.85],\"yaxis\":\"y\",\"type\":\"scatter\"},{\"hovertemplate\":\"Hero=\\u00a0Mathilda\\u003cbr\\u003eTotal Heroes Picked=%{x}\\u003cbr\\u003eWin Rate=%{y}\\u003cextra\\u003e\\u003c\\u002fextra\\u003e\",\"legendgroup\":\"\\u00a0Mathilda\",\"marker\":{\"color\":\"#19d3f3\",\"symbol\":\"circle\"},\"mode\":\"markers\",\"name\":\"\\u00a0Mathilda\",\"orientation\":\"v\",\"showlegend\":true,\"x\":[141],\"xaxis\":\"x\",\"y\":[60.99],\"yaxis\":\"y\",\"type\":\"scatter\"},{\"hovertemplate\":\"Hero=\\u00a0Arlott\\u003cbr\\u003eTotal Heroes Picked=%{x}\\u003cbr\\u003eWin Rate=%{y}\\u003cextra\\u003e\\u003c\\u002fextra\\u003e\",\"legendgroup\":\"\\u00a0Arlott\",\"marker\":{\"color\":\"#FF6692\",\"symbol\":\"circle\"},\"mode\":\"markers\",\"name\":\"\\u00a0Arlott\",\"orientation\":\"v\",\"showlegend\":true,\"x\":[127],\"xaxis\":\"x\",\"y\":[44.09],\"yaxis\":\"y\",\"type\":\"scatter\"},{\"hovertemplate\":\"Hero=\\u00a0Ixia\\u003cbr\\u003eTotal Heroes Picked=%{x}\\u003cbr\\u003eWin Rate=%{y}\\u003cextra\\u003e\\u003c\\u002fextra\\u003e\",\"legendgroup\":\"\\u00a0Ixia\",\"marker\":{\"color\":\"#B6E880\",\"symbol\":\"circle\"},\"mode\":\"markers\",\"name\":\"\\u00a0Ixia\",\"orientation\":\"v\",\"showlegend\":true,\"x\":[124],\"xaxis\":\"x\",\"y\":[55.65],\"yaxis\":\"y\",\"type\":\"scatter\"},{\"hovertemplate\":\"Hero=\\u00a0Fanny\\u003cbr\\u003eTotal Heroes Picked=%{x}\\u003cbr\\u003eWin Rate=%{y}\\u003cextra\\u003e\\u003c\\u002fextra\\u003e\",\"legendgroup\":\"\\u00a0Fanny\",\"marker\":{\"color\":\"#FF97FF\",\"symbol\":\"circle\"},\"mode\":\"markers\",\"name\":\"\\u00a0Fanny\",\"orientation\":\"v\",\"showlegend\":true,\"x\":[103],\"xaxis\":\"x\",\"y\":[51.46],\"yaxis\":\"y\",\"type\":\"scatter\"},{\"hovertemplate\":\"Hero=\\u00a0Lesley\\u003cbr\\u003eTotal Heroes Picked=%{x}\\u003cbr\\u003eWin Rate=%{y}\\u003cextra\\u003e\\u003c\\u002fextra\\u003e\",\"legendgroup\":\"\\u00a0Lesley\",\"marker\":{\"color\":\"#FECB52\",\"symbol\":\"circle\"},\"mode\":\"markers\",\"name\":\"\\u00a0Lesley\",\"orientation\":\"v\",\"showlegend\":true,\"x\":[90],\"xaxis\":\"x\",\"y\":[46.67],\"yaxis\":\"y\",\"type\":\"scatter\"},{\"hovertemplate\":\"Hero=\\u00a0Valir\\u003cbr\\u003eTotal Heroes Picked=%{x}\\u003cbr\\u003eWin Rate=%{y}\\u003cextra\\u003e\\u003c\\u002fextra\\u003e\",\"legendgroup\":\"\\u00a0Valir\",\"marker\":{\"color\":\"#636efa\",\"symbol\":\"circle\"},\"mode\":\"markers\",\"name\":\"\\u00a0Valir\",\"orientation\":\"v\",\"showlegend\":true,\"x\":[87],\"xaxis\":\"x\",\"y\":[43.68],\"yaxis\":\"y\",\"type\":\"scatter\"},{\"hovertemplate\":\"Hero=\\u00a0Gloo\\u003cbr\\u003eTotal Heroes Picked=%{x}\\u003cbr\\u003eWin Rate=%{y}\\u003cextra\\u003e\\u003c\\u002fextra\\u003e\",\"legendgroup\":\"\\u00a0Gloo\",\"marker\":{\"color\":\"#EF553B\",\"symbol\":\"circle\"},\"mode\":\"markers\",\"name\":\"\\u00a0Gloo\",\"orientation\":\"v\",\"showlegend\":true,\"x\":[83],\"xaxis\":\"x\",\"y\":[50.6],\"yaxis\":\"y\",\"type\":\"scatter\"},{\"hovertemplate\":\"Hero=\\u00a0Clint\\u003cbr\\u003eTotal Heroes Picked=%{x}\\u003cbr\\u003eWin Rate=%{y}\\u003cextra\\u003e\\u003c\\u002fextra\\u003e\",\"legendgroup\":\"\\u00a0Clint\",\"marker\":{\"color\":\"#00cc96\",\"symbol\":\"circle\"},\"mode\":\"markers\",\"name\":\"\\u00a0Clint\",\"orientation\":\"v\",\"showlegend\":true,\"x\":[80],\"xaxis\":\"x\",\"y\":[47.5],\"yaxis\":\"y\",\"type\":\"scatter\"},{\"hovertemplate\":\"Hero=\\u00a0Ling\\u003cbr\\u003eTotal Heroes Picked=%{x}\\u003cbr\\u003eWin Rate=%{y}\\u003cextra\\u003e\\u003c\\u002fextra\\u003e\",\"legendgroup\":\"\\u00a0Ling\",\"marker\":{\"color\":\"#ab63fa\",\"symbol\":\"circle\"},\"mode\":\"markers\",\"name\":\"\\u00a0Ling\",\"orientation\":\"v\",\"showlegend\":true,\"x\":[78],\"xaxis\":\"x\",\"y\":[55.13],\"yaxis\":\"y\",\"type\":\"scatter\"},{\"hovertemplate\":\"Hero=\\u00a0Khaleed\\u003cbr\\u003eTotal Heroes Picked=%{x}\\u003cbr\\u003eWin Rate=%{y}\\u003cextra\\u003e\\u003c\\u002fextra\\u003e\",\"legendgroup\":\"\\u00a0Khaleed\",\"marker\":{\"color\":\"#FFA15A\",\"symbol\":\"circle\"},\"mode\":\"markers\",\"name\":\"\\u00a0Khaleed\",\"orientation\":\"v\",\"showlegend\":true,\"x\":[74],\"xaxis\":\"x\",\"y\":[63.51],\"yaxis\":\"y\",\"type\":\"scatter\"},{\"hovertemplate\":\"Hero=\\u00a0Hayabusa\\u003cbr\\u003eTotal Heroes Picked=%{x}\\u003cbr\\u003eWin Rate=%{y}\\u003cextra\\u003e\\u003c\\u002fextra\\u003e\",\"legendgroup\":\"\\u00a0Hayabusa\",\"marker\":{\"color\":\"#19d3f3\",\"symbol\":\"circle\"},\"mode\":\"markers\",\"name\":\"\\u00a0Hayabusa\",\"orientation\":\"v\",\"showlegend\":true,\"x\":[74],\"xaxis\":\"x\",\"y\":[48.65],\"yaxis\":\"y\",\"type\":\"scatter\"},{\"hovertemplate\":\"Hero=\\u00a0Wanwan\\u003cbr\\u003eTotal Heroes Picked=%{x}\\u003cbr\\u003eWin Rate=%{y}\\u003cextra\\u003e\\u003c\\u002fextra\\u003e\",\"legendgroup\":\"\\u00a0Wanwan\",\"marker\":{\"color\":\"#FF6692\",\"symbol\":\"circle\"},\"mode\":\"markers\",\"name\":\"\\u00a0Wanwan\",\"orientation\":\"v\",\"showlegend\":true,\"x\":[73],\"xaxis\":\"x\",\"y\":[53.42],\"yaxis\":\"y\",\"type\":\"scatter\"},{\"hovertemplate\":\"Hero=\\u00a0Floryn\\u003cbr\\u003eTotal Heroes Picked=%{x}\\u003cbr\\u003eWin Rate=%{y}\\u003cextra\\u003e\\u003c\\u002fextra\\u003e\",\"legendgroup\":\"\\u00a0Floryn\",\"marker\":{\"color\":\"#B6E880\",\"symbol\":\"circle\"},\"mode\":\"markers\",\"name\":\"\\u00a0Floryn\",\"orientation\":\"v\",\"showlegend\":true,\"x\":[72],\"xaxis\":\"x\",\"y\":[47.22],\"yaxis\":\"y\",\"type\":\"scatter\"},{\"hovertemplate\":\"Hero=\\u00a0Esmeralda\\u003cbr\\u003eTotal Heroes Picked=%{x}\\u003cbr\\u003eWin Rate=%{y}\\u003cextra\\u003e\\u003c\\u002fextra\\u003e\",\"legendgroup\":\"\\u00a0Esmeralda\",\"marker\":{\"color\":\"#FF97FF\",\"symbol\":\"circle\"},\"mode\":\"markers\",\"name\":\"\\u00a0Esmeralda\",\"orientation\":\"v\",\"showlegend\":true,\"x\":[72],\"xaxis\":\"x\",\"y\":[43.06],\"yaxis\":\"y\",\"type\":\"scatter\"},{\"hovertemplate\":\"Hero=\\u00a0Diggie\\u003cbr\\u003eTotal Heroes Picked=%{x}\\u003cbr\\u003eWin Rate=%{y}\\u003cextra\\u003e\\u003c\\u002fextra\\u003e\",\"legendgroup\":\"\\u00a0Diggie\",\"marker\":{\"color\":\"#FECB52\",\"symbol\":\"circle\"},\"mode\":\"markers\",\"name\":\"\\u00a0Diggie\",\"orientation\":\"v\",\"showlegend\":true,\"x\":[70],\"xaxis\":\"x\",\"y\":[51.43],\"yaxis\":\"y\",\"type\":\"scatter\"},{\"hovertemplate\":\"Hero=\\u00a0Benedetta\\u003cbr\\u003eTotal Heroes Picked=%{x}\\u003cbr\\u003eWin Rate=%{y}\\u003cextra\\u003e\\u003c\\u002fextra\\u003e\",\"legendgroup\":\"\\u00a0Benedetta\",\"marker\":{\"color\":\"#636efa\",\"symbol\":\"circle\"},\"mode\":\"markers\",\"name\":\"\\u00a0Benedetta\",\"orientation\":\"v\",\"showlegend\":true,\"x\":[69],\"xaxis\":\"x\",\"y\":[47.83],\"yaxis\":\"y\",\"type\":\"scatter\"},{\"hovertemplate\":\"Hero=\\u00a0Harith\\u003cbr\\u003eTotal Heroes Picked=%{x}\\u003cbr\\u003eWin Rate=%{y}\\u003cextra\\u003e\\u003c\\u002fextra\\u003e\",\"legendgroup\":\"\\u00a0Harith\",\"marker\":{\"color\":\"#EF553B\",\"symbol\":\"circle\"},\"mode\":\"markers\",\"name\":\"\\u00a0Harith\",\"orientation\":\"v\",\"showlegend\":true,\"x\":[64],\"xaxis\":\"x\",\"y\":[40.63],\"yaxis\":\"y\",\"type\":\"scatter\"},{\"hovertemplate\":\"Hero=\\u00a0Ruby\\u003cbr\\u003eTotal Heroes Picked=%{x}\\u003cbr\\u003eWin Rate=%{y}\\u003cextra\\u003e\\u003c\\u002fextra\\u003e\",\"legendgroup\":\"\\u00a0Ruby\",\"marker\":{\"color\":\"#00cc96\",\"symbol\":\"circle\"},\"mode\":\"markers\",\"name\":\"\\u00a0Ruby\",\"orientation\":\"v\",\"showlegend\":true,\"x\":[62],\"xaxis\":\"x\",\"y\":[56.45],\"yaxis\":\"y\",\"type\":\"scatter\"},{\"hovertemplate\":\"Hero=\\u00a0Dyrroth\\u003cbr\\u003eTotal Heroes Picked=%{x}\\u003cbr\\u003eWin Rate=%{y}\\u003cextra\\u003e\\u003c\\u002fextra\\u003e\",\"legendgroup\":\"\\u00a0Dyrroth\",\"marker\":{\"color\":\"#ab63fa\",\"symbol\":\"circle\"},\"mode\":\"markers\",\"name\":\"\\u00a0Dyrroth\",\"orientation\":\"v\",\"showlegend\":true,\"x\":[59],\"xaxis\":\"x\",\"y\":[71.19],\"yaxis\":\"y\",\"type\":\"scatter\"},{\"hovertemplate\":\"Hero=\\u00a0Alpha\\u003cbr\\u003eTotal Heroes Picked=%{x}\\u003cbr\\u003eWin Rate=%{y}\\u003cextra\\u003e\\u003c\\u002fextra\\u003e\",\"legendgroup\":\"\\u00a0Alpha\",\"marker\":{\"color\":\"#FFA15A\",\"symbol\":\"circle\"},\"mode\":\"markers\",\"name\":\"\\u00a0Alpha\",\"orientation\":\"v\",\"showlegend\":true,\"x\":[59],\"xaxis\":\"x\",\"y\":[52.54],\"yaxis\":\"y\",\"type\":\"scatter\"},{\"hovertemplate\":\"Hero=\\u00a0Melissa\\u003cbr\\u003eTotal Heroes Picked=%{x}\\u003cbr\\u003eWin Rate=%{y}\\u003cextra\\u003e\\u003c\\u002fextra\\u003e\",\"legendgroup\":\"\\u00a0Melissa\",\"marker\":{\"color\":\"#19d3f3\",\"symbol\":\"circle\"},\"mode\":\"markers\",\"name\":\"\\u00a0Melissa\",\"orientation\":\"v\",\"showlegend\":true,\"x\":[58],\"xaxis\":\"x\",\"y\":[43.1],\"yaxis\":\"y\",\"type\":\"scatter\"},{\"hovertemplate\":\"Hero=\\u00a0Lolita\\u003cbr\\u003eTotal Heroes Picked=%{x}\\u003cbr\\u003eWin Rate=%{y}\\u003cextra\\u003e\\u003c\\u002fextra\\u003e\",\"legendgroup\":\"\\u00a0Lolita\",\"marker\":{\"color\":\"#FF6692\",\"symbol\":\"circle\"},\"mode\":\"markers\",\"name\":\"\\u00a0Lolita\",\"orientation\":\"v\",\"showlegend\":true,\"x\":[47],\"xaxis\":\"x\",\"y\":[59.57],\"yaxis\":\"y\",\"type\":\"scatter\"},{\"hovertemplate\":\"Hero=\\u00a0Bane\\u003cbr\\u003eTotal Heroes Picked=%{x}\\u003cbr\\u003eWin Rate=%{y}\\u003cextra\\u003e\\u003c\\u002fextra\\u003e\",\"legendgroup\":\"\\u00a0Bane\",\"marker\":{\"color\":\"#B6E880\",\"symbol\":\"circle\"},\"mode\":\"markers\",\"name\":\"\\u00a0Bane\",\"orientation\":\"v\",\"showlegend\":true,\"x\":[43],\"xaxis\":\"x\",\"y\":[34.88],\"yaxis\":\"y\",\"type\":\"scatter\"},{\"hovertemplate\":\"Hero=\\u00a0Helcurt\\u003cbr\\u003eTotal Heroes Picked=%{x}\\u003cbr\\u003eWin Rate=%{y}\\u003cextra\\u003e\\u003c\\u002fextra\\u003e\",\"legendgroup\":\"\\u00a0Helcurt\",\"marker\":{\"color\":\"#FF97FF\",\"symbol\":\"circle\"},\"mode\":\"markers\",\"name\":\"\\u00a0Helcurt\",\"orientation\":\"v\",\"showlegend\":true,\"x\":[42],\"xaxis\":\"x\",\"y\":[47.62],\"yaxis\":\"y\",\"type\":\"scatter\"},{\"hovertemplate\":\"Hero=\\u00a0Lunox\\u003cbr\\u003eTotal Heroes Picked=%{x}\\u003cbr\\u003eWin Rate=%{y}\\u003cextra\\u003e\\u003c\\u002fextra\\u003e\",\"legendgroup\":\"\\u00a0Lunox\",\"marker\":{\"color\":\"#FECB52\",\"symbol\":\"circle\"},\"mode\":\"markers\",\"name\":\"\\u00a0Lunox\",\"orientation\":\"v\",\"showlegend\":true,\"x\":[42],\"xaxis\":\"x\",\"y\":[47.62],\"yaxis\":\"y\",\"type\":\"scatter\"},{\"hovertemplate\":\"Hero=\\u00a0Hilda\\u003cbr\\u003eTotal Heroes Picked=%{x}\\u003cbr\\u003eWin Rate=%{y}\\u003cextra\\u003e\\u003c\\u002fextra\\u003e\",\"legendgroup\":\"\\u00a0Hilda\",\"marker\":{\"color\":\"#636efa\",\"symbol\":\"circle\"},\"mode\":\"markers\",\"name\":\"\\u00a0Hilda\",\"orientation\":\"v\",\"showlegend\":true,\"x\":[37],\"xaxis\":\"x\",\"y\":[67.57],\"yaxis\":\"y\",\"type\":\"scatter\"},{\"hovertemplate\":\"Hero=\\u00a0Cecilion\\u003cbr\\u003eTotal Heroes Picked=%{x}\\u003cbr\\u003eWin Rate=%{y}\\u003cextra\\u003e\\u003c\\u002fextra\\u003e\",\"legendgroup\":\"\\u00a0Cecilion\",\"marker\":{\"color\":\"#EF553B\",\"symbol\":\"circle\"},\"mode\":\"markers\",\"name\":\"\\u00a0Cecilion\",\"orientation\":\"v\",\"showlegend\":true,\"x\":[31],\"xaxis\":\"x\",\"y\":[41.94],\"yaxis\":\"y\",\"type\":\"scatter\"},{\"hovertemplate\":\"Hero=\\u00a0Guinevere\\u003cbr\\u003eTotal Heroes Picked=%{x}\\u003cbr\\u003eWin Rate=%{y}\\u003cextra\\u003e\\u003c\\u002fextra\\u003e\",\"legendgroup\":\"\\u00a0Guinevere\",\"marker\":{\"color\":\"#00cc96\",\"symbol\":\"circle\"},\"mode\":\"markers\",\"name\":\"\\u00a0Guinevere\",\"orientation\":\"v\",\"showlegend\":true,\"x\":[29],\"xaxis\":\"x\",\"y\":[44.83],\"yaxis\":\"y\",\"type\":\"scatter\"},{\"hovertemplate\":\"Hero=\\u00a0Estes\\u003cbr\\u003eTotal Heroes Picked=%{x}\\u003cbr\\u003eWin Rate=%{y}\\u003cextra\\u003e\\u003c\\u002fextra\\u003e\",\"legendgroup\":\"\\u00a0Estes\",\"marker\":{\"color\":\"#ab63fa\",\"symbol\":\"circle\"},\"mode\":\"markers\",\"name\":\"\\u00a0Estes\",\"orientation\":\"v\",\"showlegend\":true,\"x\":[24],\"xaxis\":\"x\",\"y\":[41.67],\"yaxis\":\"y\",\"type\":\"scatter\"},{\"hovertemplate\":\"Hero=\\u00a0Atlas\\u003cbr\\u003eTotal Heroes Picked=%{x}\\u003cbr\\u003eWin Rate=%{y}\\u003cextra\\u003e\\u003c\\u002fextra\\u003e\",\"legendgroup\":\"\\u00a0Atlas\",\"marker\":{\"color\":\"#FFA15A\",\"symbol\":\"circle\"},\"mode\":\"markers\",\"name\":\"\\u00a0Atlas\",\"orientation\":\"v\",\"showlegend\":true,\"x\":[22],\"xaxis\":\"x\",\"y\":[54.55],\"yaxis\":\"y\",\"type\":\"scatter\"},{\"hovertemplate\":\"Hero=\\u00a0Barats\\u003cbr\\u003eTotal Heroes Picked=%{x}\\u003cbr\\u003eWin Rate=%{y}\\u003cextra\\u003e\\u003c\\u002fextra\\u003e\",\"legendgroup\":\"\\u00a0Barats\",\"marker\":{\"color\":\"#19d3f3\",\"symbol\":\"circle\"},\"mode\":\"markers\",\"name\":\"\\u00a0Barats\",\"orientation\":\"v\",\"showlegend\":true,\"x\":[21],\"xaxis\":\"x\",\"y\":[33.33],\"yaxis\":\"y\",\"type\":\"scatter\"},{\"hovertemplate\":\"Hero=\\u00a0Xavier\\u003cbr\\u003eTotal Heroes Picked=%{x}\\u003cbr\\u003eWin Rate=%{y}\\u003cextra\\u003e\\u003c\\u002fextra\\u003e\",\"legendgroup\":\"\\u00a0Xavier\",\"marker\":{\"color\":\"#FF6692\",\"symbol\":\"circle\"},\"mode\":\"markers\",\"name\":\"\\u00a0Xavier\",\"orientation\":\"v\",\"showlegend\":true,\"x\":[20],\"xaxis\":\"x\",\"y\":[30.0],\"yaxis\":\"y\",\"type\":\"scatter\"},{\"hovertemplate\":\"Hero=\\u00a0Leomord\\u003cbr\\u003eTotal Heroes Picked=%{x}\\u003cbr\\u003eWin Rate=%{y}\\u003cextra\\u003e\\u003c\\u002fextra\\u003e\",\"legendgroup\":\"\\u00a0Leomord\",\"marker\":{\"color\":\"#B6E880\",\"symbol\":\"circle\"},\"mode\":\"markers\",\"name\":\"\\u00a0Leomord\",\"orientation\":\"v\",\"showlegend\":true,\"x\":[17],\"xaxis\":\"x\",\"y\":[29.41],\"yaxis\":\"y\",\"type\":\"scatter\"},{\"hovertemplate\":\"Hero=\\u00a0Hylos\\u003cbr\\u003eTotal Heroes Picked=%{x}\\u003cbr\\u003eWin Rate=%{y}\\u003cextra\\u003e\\u003c\\u002fextra\\u003e\",\"legendgroup\":\"\\u00a0Hylos\",\"marker\":{\"color\":\"#FF97FF\",\"symbol\":\"circle\"},\"mode\":\"markers\",\"name\":\"\\u00a0Hylos\",\"orientation\":\"v\",\"showlegend\":true,\"x\":[14],\"xaxis\":\"x\",\"y\":[42.86],\"yaxis\":\"y\",\"type\":\"scatter\"},{\"hovertemplate\":\"Hero=\\u00a0Phoveus\\u003cbr\\u003eTotal Heroes Picked=%{x}\\u003cbr\\u003eWin Rate=%{y}\\u003cextra\\u003e\\u003c\\u002fextra\\u003e\",\"legendgroup\":\"\\u00a0Phoveus\",\"marker\":{\"color\":\"#FECB52\",\"symbol\":\"circle\"},\"mode\":\"markers\",\"name\":\"\\u00a0Phoveus\",\"orientation\":\"v\",\"showlegend\":true,\"x\":[13],\"xaxis\":\"x\",\"y\":[53.85],\"yaxis\":\"y\",\"type\":\"scatter\"},{\"hovertemplate\":\"Hero=\\u00a0Badang\\u003cbr\\u003eTotal Heroes Picked=%{x}\\u003cbr\\u003eWin Rate=%{y}\\u003cextra\\u003e\\u003c\\u002fextra\\u003e\",\"legendgroup\":\"\\u00a0Badang\",\"marker\":{\"color\":\"#636efa\",\"symbol\":\"circle\"},\"mode\":\"markers\",\"name\":\"\\u00a0Badang\",\"orientation\":\"v\",\"showlegend\":true,\"x\":[13],\"xaxis\":\"x\",\"y\":[30.77],\"yaxis\":\"y\",\"type\":\"scatter\"},{\"hovertemplate\":\"Hero=\\u00a0Kagura\\u003cbr\\u003eTotal Heroes Picked=%{x}\\u003cbr\\u003eWin Rate=%{y}\\u003cextra\\u003e\\u003c\\u002fextra\\u003e\",\"legendgroup\":\"\\u00a0Kagura\",\"marker\":{\"color\":\"#EF553B\",\"symbol\":\"circle\"},\"mode\":\"markers\",\"name\":\"\\u00a0Kagura\",\"orientation\":\"v\",\"showlegend\":true,\"x\":[13],\"xaxis\":\"x\",\"y\":[23.08],\"yaxis\":\"y\",\"type\":\"scatter\"},{\"hovertemplate\":\"Hero=\\u00a0Gusion\\u003cbr\\u003eTotal Heroes Picked=%{x}\\u003cbr\\u003eWin Rate=%{y}\\u003cextra\\u003e\\u003c\\u002fextra\\u003e\",\"legendgroup\":\"\\u00a0Gusion\",\"marker\":{\"color\":\"#00cc96\",\"symbol\":\"circle\"},\"mode\":\"markers\",\"name\":\"\\u00a0Gusion\",\"orientation\":\"v\",\"showlegend\":true,\"x\":[12],\"xaxis\":\"x\",\"y\":[58.33],\"yaxis\":\"y\",\"type\":\"scatter\"},{\"hovertemplate\":\"Hero=\\u00a0Nolan\\u003cbr\\u003eTotal Heroes Picked=%{x}\\u003cbr\\u003eWin Rate=%{y}\\u003cextra\\u003e\\u003c\\u002fextra\\u003e\",\"legendgroup\":\"\\u00a0Nolan\",\"marker\":{\"color\":\"#ab63fa\",\"symbol\":\"circle\"},\"mode\":\"markers\",\"name\":\"\\u00a0Nolan\",\"orientation\":\"v\",\"showlegend\":true,\"x\":[12],\"xaxis\":\"x\",\"y\":[58.33],\"yaxis\":\"y\",\"type\":\"scatter\"},{\"hovertemplate\":\"Hero=\\u00a0Hanzo\\u003cbr\\u003eTotal Heroes Picked=%{x}\\u003cbr\\u003eWin Rate=%{y}\\u003cextra\\u003e\\u003c\\u002fextra\\u003e\",\"legendgroup\":\"\\u00a0Hanzo\",\"marker\":{\"color\":\"#FFA15A\",\"symbol\":\"circle\"},\"mode\":\"markers\",\"name\":\"\\u00a0Hanzo\",\"orientation\":\"v\",\"showlegend\":true,\"x\":[12],\"xaxis\":\"x\",\"y\":[41.67],\"yaxis\":\"y\",\"type\":\"scatter\"},{\"hovertemplate\":\"Hero=\\u00a0Minsitthar\\u003cbr\\u003eTotal Heroes Picked=%{x}\\u003cbr\\u003eWin Rate=%{y}\\u003cextra\\u003e\\u003c\\u002fextra\\u003e\",\"legendgroup\":\"\\u00a0Minsitthar\",\"marker\":{\"color\":\"#19d3f3\",\"symbol\":\"circle\"},\"mode\":\"markers\",\"name\":\"\\u00a0Minsitthar\",\"orientation\":\"v\",\"showlegend\":true,\"x\":[12],\"xaxis\":\"x\",\"y\":[33.33],\"yaxis\":\"y\",\"type\":\"scatter\"},{\"hovertemplate\":\"Hero=\\u00a0Karina\\u003cbr\\u003eTotal Heroes Picked=%{x}\\u003cbr\\u003eWin Rate=%{y}\\u003cextra\\u003e\\u003c\\u002fextra\\u003e\",\"legendgroup\":\"\\u00a0Karina\",\"marker\":{\"color\":\"#FF6692\",\"symbol\":\"circle\"},\"mode\":\"markers\",\"name\":\"\\u00a0Karina\",\"orientation\":\"v\",\"showlegend\":true,\"x\":[10],\"xaxis\":\"x\",\"y\":[20.0],\"yaxis\":\"y\",\"type\":\"scatter\"},{\"hovertemplate\":\"Hero=\\u00a0Luo Yi\\u003cbr\\u003eTotal Heroes Picked=%{x}\\u003cbr\\u003eWin Rate=%{y}\\u003cextra\\u003e\\u003c\\u002fextra\\u003e\",\"legendgroup\":\"\\u00a0Luo Yi\",\"marker\":{\"color\":\"#B6E880\",\"symbol\":\"circle\"},\"mode\":\"markers\",\"name\":\"\\u00a0Luo Yi\",\"orientation\":\"v\",\"showlegend\":true,\"x\":[9],\"xaxis\":\"x\",\"y\":[33.33],\"yaxis\":\"y\",\"type\":\"scatter\"},{\"hovertemplate\":\"Hero=\\u00a0Natalia\\u003cbr\\u003eTotal Heroes Picked=%{x}\\u003cbr\\u003eWin Rate=%{y}\\u003cextra\\u003e\\u003c\\u002fextra\\u003e\",\"legendgroup\":\"\\u00a0Natalia\",\"marker\":{\"color\":\"#FF97FF\",\"symbol\":\"circle\"},\"mode\":\"markers\",\"name\":\"\\u00a0Natalia\",\"orientation\":\"v\",\"showlegend\":true,\"x\":[9],\"xaxis\":\"x\",\"y\":[33.33],\"yaxis\":\"y\",\"type\":\"scatter\"},{\"hovertemplate\":\"Hero=\\u00a0Thamuz\\u003cbr\\u003eTotal Heroes Picked=%{x}\\u003cbr\\u003eWin Rate=%{y}\\u003cextra\\u003e\\u003c\\u002fextra\\u003e\",\"legendgroup\":\"\\u00a0Thamuz\",\"marker\":{\"color\":\"#FECB52\",\"symbol\":\"circle\"},\"mode\":\"markers\",\"name\":\"\\u00a0Thamuz\",\"orientation\":\"v\",\"showlegend\":true,\"x\":[9],\"xaxis\":\"x\",\"y\":[22.22],\"yaxis\":\"y\",\"type\":\"scatter\"},{\"hovertemplate\":\"Hero=\\u00a0Balmond\\u003cbr\\u003eTotal Heroes Picked=%{x}\\u003cbr\\u003eWin Rate=%{y}\\u003cextra\\u003e\\u003c\\u002fextra\\u003e\",\"legendgroup\":\"\\u00a0Balmond\",\"marker\":{\"color\":\"#636efa\",\"symbol\":\"circle\"},\"mode\":\"markers\",\"name\":\"\\u00a0Balmond\",\"orientation\":\"v\",\"showlegend\":true,\"x\":[8],\"xaxis\":\"x\",\"y\":[50.0],\"yaxis\":\"y\",\"type\":\"scatter\"},{\"hovertemplate\":\"Hero=\\u00a0Alice\\u003cbr\\u003eTotal Heroes Picked=%{x}\\u003cbr\\u003eWin Rate=%{y}\\u003cextra\\u003e\\u003c\\u002fextra\\u003e\",\"legendgroup\":\"\\u00a0Alice\",\"marker\":{\"color\":\"#EF553B\",\"symbol\":\"circle\"},\"mode\":\"markers\",\"name\":\"\\u00a0Alice\",\"orientation\":\"v\",\"showlegend\":true,\"x\":[8],\"xaxis\":\"x\",\"y\":[37.5],\"yaxis\":\"y\",\"type\":\"scatter\"},{\"hovertemplate\":\"Hero=\\u00a0Popol and Kupa\\u003cbr\\u003eTotal Heroes Picked=%{x}\\u003cbr\\u003eWin Rate=%{y}\\u003cextra\\u003e\\u003c\\u002fextra\\u003e\",\"legendgroup\":\"\\u00a0Popol and Kupa\",\"marker\":{\"color\":\"#00cc96\",\"symbol\":\"circle\"},\"mode\":\"markers\",\"name\":\"\\u00a0Popol and Kupa\",\"orientation\":\"v\",\"showlegend\":true,\"x\":[8],\"xaxis\":\"x\",\"y\":[37.5],\"yaxis\":\"y\",\"type\":\"scatter\"},{\"hovertemplate\":\"Hero=\\u00a0Masha\\u003cbr\\u003eTotal Heroes Picked=%{x}\\u003cbr\\u003eWin Rate=%{y}\\u003cextra\\u003e\\u003c\\u002fextra\\u003e\",\"legendgroup\":\"\\u00a0Masha\",\"marker\":{\"color\":\"#ab63fa\",\"symbol\":\"circle\"},\"mode\":\"markers\",\"name\":\"\\u00a0Masha\",\"orientation\":\"v\",\"showlegend\":true,\"x\":[7],\"xaxis\":\"x\",\"y\":[42.86],\"yaxis\":\"y\",\"type\":\"scatter\"},{\"hovertemplate\":\"Hero=\\u00a0Jawhead\\u003cbr\\u003eTotal Heroes Picked=%{x}\\u003cbr\\u003eWin Rate=%{y}\\u003cextra\\u003e\\u003c\\u002fextra\\u003e\",\"legendgroup\":\"\\u00a0Jawhead\",\"marker\":{\"color\":\"#FFA15A\",\"symbol\":\"circle\"},\"mode\":\"markers\",\"name\":\"\\u00a0Jawhead\",\"orientation\":\"v\",\"showlegend\":true,\"x\":[7],\"xaxis\":\"x\",\"y\":[14.29],\"yaxis\":\"y\",\"type\":\"scatter\"},{\"hovertemplate\":\"Hero=\\u00a0Harley\\u003cbr\\u003eTotal Heroes Picked=%{x}\\u003cbr\\u003eWin Rate=%{y}\\u003cextra\\u003e\\u003c\\u002fextra\\u003e\",\"legendgroup\":\"\\u00a0Harley\",\"marker\":{\"color\":\"#19d3f3\",\"symbol\":\"circle\"},\"mode\":\"markers\",\"name\":\"\\u00a0Harley\",\"orientation\":\"v\",\"showlegend\":true,\"x\":[6],\"xaxis\":\"x\",\"y\":[50.0],\"yaxis\":\"y\",\"type\":\"scatter\"},{\"hovertemplate\":\"Hero=\\u00a0Yin\\u003cbr\\u003eTotal Heroes Picked=%{x}\\u003cbr\\u003eWin Rate=%{y}\\u003cextra\\u003e\\u003c\\u002fextra\\u003e\",\"legendgroup\":\"\\u00a0Yin\",\"marker\":{\"color\":\"#FF6692\",\"symbol\":\"circle\"},\"mode\":\"markers\",\"name\":\"\\u00a0Yin\",\"orientation\":\"v\",\"showlegend\":true,\"x\":[6],\"xaxis\":\"x\",\"y\":[16.67],\"yaxis\":\"y\",\"type\":\"scatter\"},{\"hovertemplate\":\"Hero=\\u00a0Cyclops\\u003cbr\\u003eTotal Heroes Picked=%{x}\\u003cbr\\u003eWin Rate=%{y}\\u003cextra\\u003e\\u003c\\u002fextra\\u003e\",\"legendgroup\":\"\\u00a0Cyclops\",\"marker\":{\"color\":\"#B6E880\",\"symbol\":\"circle\"},\"mode\":\"markers\",\"name\":\"\\u00a0Cyclops\",\"orientation\":\"v\",\"showlegend\":true,\"x\":[5],\"xaxis\":\"x\",\"y\":[80.0],\"yaxis\":\"y\",\"type\":\"scatter\"},{\"hovertemplate\":\"Hero=\\u00a0Granger\\u003cbr\\u003eTotal Heroes Picked=%{x}\\u003cbr\\u003eWin Rate=%{y}\\u003cextra\\u003e\\u003c\\u002fextra\\u003e\",\"legendgroup\":\"\\u00a0Granger\",\"marker\":{\"color\":\"#FF97FF\",\"symbol\":\"circle\"},\"mode\":\"markers\",\"name\":\"\\u00a0Granger\",\"orientation\":\"v\",\"showlegend\":true,\"x\":[5],\"xaxis\":\"x\",\"y\":[80.0],\"yaxis\":\"y\",\"type\":\"scatter\"},{\"hovertemplate\":\"Hero=\\u00a0Julian\\u003cbr\\u003eTotal Heroes Picked=%{x}\\u003cbr\\u003eWin Rate=%{y}\\u003cextra\\u003e\\u003c\\u002fextra\\u003e\",\"legendgroup\":\"\\u00a0Julian\",\"marker\":{\"color\":\"#FECB52\",\"symbol\":\"circle\"},\"mode\":\"markers\",\"name\":\"\\u00a0Julian\",\"orientation\":\"v\",\"showlegend\":true,\"x\":[5],\"xaxis\":\"x\",\"y\":[60.0],\"yaxis\":\"y\",\"type\":\"scatter\"},{\"hovertemplate\":\"Hero=\\u00a0Chang'e\\u003cbr\\u003eTotal Heroes Picked=%{x}\\u003cbr\\u003eWin Rate=%{y}\\u003cextra\\u003e\\u003c\\u002fextra\\u003e\",\"legendgroup\":\"\\u00a0Chang'e\",\"marker\":{\"color\":\"#636efa\",\"symbol\":\"circle\"},\"mode\":\"markers\",\"name\":\"\\u00a0Chang'e\",\"orientation\":\"v\",\"showlegend\":true,\"x\":[5],\"xaxis\":\"x\",\"y\":[20.0],\"yaxis\":\"y\",\"type\":\"scatter\"},{\"hovertemplate\":\"Hero=\\u00a0Roger\\u003cbr\\u003eTotal Heroes Picked=%{x}\\u003cbr\\u003eWin Rate=%{y}\\u003cextra\\u003e\\u003c\\u002fextra\\u003e\",\"legendgroup\":\"\\u00a0Roger\",\"marker\":{\"color\":\"#EF553B\",\"symbol\":\"circle\"},\"mode\":\"markers\",\"name\":\"\\u00a0Roger\",\"orientation\":\"v\",\"showlegend\":true,\"x\":[5],\"xaxis\":\"x\",\"y\":[0.0],\"yaxis\":\"y\",\"type\":\"scatter\"},{\"hovertemplate\":\"Hero=\\u00a0Aamon\\u003cbr\\u003eTotal Heroes Picked=%{x}\\u003cbr\\u003eWin Rate=%{y}\\u003cextra\\u003e\\u003c\\u002fextra\\u003e\",\"legendgroup\":\"\\u00a0Aamon\",\"marker\":{\"color\":\"#00cc96\",\"symbol\":\"circle\"},\"mode\":\"markers\",\"name\":\"\\u00a0Aamon\",\"orientation\":\"v\",\"showlegend\":true,\"x\":[4],\"xaxis\":\"x\",\"y\":[75.0],\"yaxis\":\"y\",\"type\":\"scatter\"},{\"hovertemplate\":\"Hero=\\u00a0Yi Sun-Shin\\u003cbr\\u003eTotal Heroes Picked=%{x}\\u003cbr\\u003eWin Rate=%{y}\\u003cextra\\u003e\\u003c\\u002fextra\\u003e\",\"legendgroup\":\"\\u00a0Yi Sun-Shin\",\"marker\":{\"color\":\"#ab63fa\",\"symbol\":\"circle\"},\"mode\":\"markers\",\"name\":\"\\u00a0Yi Sun-Shin\",\"orientation\":\"v\",\"showlegend\":true,\"x\":[4],\"xaxis\":\"x\",\"y\":[75.0],\"yaxis\":\"y\",\"type\":\"scatter\"},{\"hovertemplate\":\"Hero=\\u00a0Carmilla\\u003cbr\\u003eTotal Heroes Picked=%{x}\\u003cbr\\u003eWin Rate=%{y}\\u003cextra\\u003e\\u003c\\u002fextra\\u003e\",\"legendgroup\":\"\\u00a0Carmilla\",\"marker\":{\"color\":\"#FFA15A\",\"symbol\":\"circle\"},\"mode\":\"markers\",\"name\":\"\\u00a0Carmilla\",\"orientation\":\"v\",\"showlegend\":true,\"x\":[4],\"xaxis\":\"x\",\"y\":[25.0],\"yaxis\":\"y\",\"type\":\"scatter\"},{\"hovertemplate\":\"Hero=\\u00a0Natan\\u003cbr\\u003eTotal Heroes Picked=%{x}\\u003cbr\\u003eWin Rate=%{y}\\u003cextra\\u003e\\u003c\\u002fextra\\u003e\",\"legendgroup\":\"\\u00a0Natan\",\"marker\":{\"color\":\"#19d3f3\",\"symbol\":\"circle\"},\"mode\":\"markers\",\"name\":\"\\u00a0Natan\",\"orientation\":\"v\",\"showlegend\":true,\"x\":[4],\"xaxis\":\"x\",\"y\":[25.0],\"yaxis\":\"y\",\"type\":\"scatter\"},{\"hovertemplate\":\"Hero=\\u00a0Selena\\u003cbr\\u003eTotal Heroes Picked=%{x}\\u003cbr\\u003eWin Rate=%{y}\\u003cextra\\u003e\\u003c\\u002fextra\\u003e\",\"legendgroup\":\"\\u00a0Selena\",\"marker\":{\"color\":\"#FF6692\",\"symbol\":\"circle\"},\"mode\":\"markers\",\"name\":\"\\u00a0Selena\",\"orientation\":\"v\",\"showlegend\":true,\"x\":[4],\"xaxis\":\"x\",\"y\":[25.0],\"yaxis\":\"y\",\"type\":\"scatter\"},{\"hovertemplate\":\"Hero=\\u00a0Belerick\\u003cbr\\u003eTotal Heroes Picked=%{x}\\u003cbr\\u003eWin Rate=%{y}\\u003cextra\\u003e\\u003c\\u002fextra\\u003e\",\"legendgroup\":\"\\u00a0Belerick\",\"marker\":{\"color\":\"#B6E880\",\"symbol\":\"circle\"},\"mode\":\"markers\",\"name\":\"\\u00a0Belerick\",\"orientation\":\"v\",\"showlegend\":true,\"x\":[4],\"xaxis\":\"x\",\"y\":[0.0],\"yaxis\":\"y\",\"type\":\"scatter\"},{\"hovertemplate\":\"Hero=\\u00a0Nana\\u003cbr\\u003eTotal Heroes Picked=%{x}\\u003cbr\\u003eWin Rate=%{y}\\u003cextra\\u003e\\u003c\\u002fextra\\u003e\",\"legendgroup\":\"\\u00a0Nana\",\"marker\":{\"color\":\"#FF97FF\",\"symbol\":\"circle\"},\"mode\":\"markers\",\"name\":\"\\u00a0Nana\",\"orientation\":\"v\",\"showlegend\":true,\"x\":[3],\"xaxis\":\"x\",\"y\":[66.67],\"yaxis\":\"y\",\"type\":\"scatter\"},{\"hovertemplate\":\"Hero=\\u00a0Hanabi\\u003cbr\\u003eTotal Heroes Picked=%{x}\\u003cbr\\u003eWin Rate=%{y}\\u003cextra\\u003e\\u003c\\u002fextra\\u003e\",\"legendgroup\":\"\\u00a0Hanabi\",\"marker\":{\"color\":\"#FECB52\",\"symbol\":\"circle\"},\"mode\":\"markers\",\"name\":\"\\u00a0Hanabi\",\"orientation\":\"v\",\"showlegend\":true,\"x\":[3],\"xaxis\":\"x\",\"y\":[33.33],\"yaxis\":\"y\",\"type\":\"scatter\"},{\"hovertemplate\":\"Hero=\\u00a0Freya\\u003cbr\\u003eTotal Heroes Picked=%{x}\\u003cbr\\u003eWin Rate=%{y}\\u003cextra\\u003e\\u003c\\u002fextra\\u003e\",\"legendgroup\":\"\\u00a0Freya\",\"marker\":{\"color\":\"#636efa\",\"symbol\":\"circle\"},\"mode\":\"markers\",\"name\":\"\\u00a0Freya\",\"orientation\":\"v\",\"showlegend\":true,\"x\":[2],\"xaxis\":\"x\",\"y\":[100.0],\"yaxis\":\"y\",\"type\":\"scatter\"},{\"hovertemplate\":\"Hero=\\u00a0Aldous\\u003cbr\\u003eTotal Heroes Picked=%{x}\\u003cbr\\u003eWin Rate=%{y}\\u003cextra\\u003e\\u003c\\u002fextra\\u003e\",\"legendgroup\":\"\\u00a0Aldous\",\"marker\":{\"color\":\"#EF553B\",\"symbol\":\"circle\"},\"mode\":\"markers\",\"name\":\"\\u00a0Aldous\",\"orientation\":\"v\",\"showlegend\":true,\"x\":[2],\"xaxis\":\"x\",\"y\":[50.0],\"yaxis\":\"y\",\"type\":\"scatter\"},{\"hovertemplate\":\"Hero=\\u00a0Aulus\\u003cbr\\u003eTotal Heroes Picked=%{x}\\u003cbr\\u003eWin Rate=%{y}\\u003cextra\\u003e\\u003c\\u002fextra\\u003e\",\"legendgroup\":\"\\u00a0Aulus\",\"marker\":{\"color\":\"#00cc96\",\"symbol\":\"circle\"},\"mode\":\"markers\",\"name\":\"\\u00a0Aulus\",\"orientation\":\"v\",\"showlegend\":true,\"x\":[2],\"xaxis\":\"x\",\"y\":[50.0],\"yaxis\":\"y\",\"type\":\"scatter\"},{\"hovertemplate\":\"Hero=\\u00a0Tigreal\\u003cbr\\u003eTotal Heroes Picked=%{x}\\u003cbr\\u003eWin Rate=%{y}\\u003cextra\\u003e\\u003c\\u002fextra\\u003e\",\"legendgroup\":\"\\u00a0Tigreal\",\"marker\":{\"color\":\"#ab63fa\",\"symbol\":\"circle\"},\"mode\":\"markers\",\"name\":\"\\u00a0Tigreal\",\"orientation\":\"v\",\"showlegend\":true,\"x\":[2],\"xaxis\":\"x\",\"y\":[0.0],\"yaxis\":\"y\",\"type\":\"scatter\"},{\"hovertemplate\":\"Hero=\\u00a0Kimmy\\u003cbr\\u003eTotal Heroes Picked=%{x}\\u003cbr\\u003eWin Rate=%{y}\\u003cextra\\u003e\\u003c\\u002fextra\\u003e\",\"legendgroup\":\"\\u00a0Kimmy\",\"marker\":{\"color\":\"#FFA15A\",\"symbol\":\"circle\"},\"mode\":\"markers\",\"name\":\"\\u00a0Kimmy\",\"orientation\":\"v\",\"showlegend\":true,\"x\":[1],\"xaxis\":\"x\",\"y\":[100.0],\"yaxis\":\"y\",\"type\":\"scatter\"},{\"hovertemplate\":\"Hero=\\u00a0Moskov\\u003cbr\\u003eTotal Heroes Picked=%{x}\\u003cbr\\u003eWin Rate=%{y}\\u003cextra\\u003e\\u003c\\u002fextra\\u003e\",\"legendgroup\":\"\\u00a0Moskov\",\"marker\":{\"color\":\"#19d3f3\",\"symbol\":\"circle\"},\"mode\":\"markers\",\"name\":\"\\u00a0Moskov\",\"orientation\":\"v\",\"showlegend\":true,\"x\":[1],\"xaxis\":\"x\",\"y\":[100.0],\"yaxis\":\"y\",\"type\":\"scatter\"},{\"hovertemplate\":\"Hero=\\u00a0Saber\\u003cbr\\u003eTotal Heroes Picked=%{x}\\u003cbr\\u003eWin Rate=%{y}\\u003cextra\\u003e\\u003c\\u002fextra\\u003e\",\"legendgroup\":\"\\u00a0Saber\",\"marker\":{\"color\":\"#FF6692\",\"symbol\":\"circle\"},\"mode\":\"markers\",\"name\":\"\\u00a0Saber\",\"orientation\":\"v\",\"showlegend\":true,\"x\":[1],\"xaxis\":\"x\",\"y\":[100.0],\"yaxis\":\"y\",\"type\":\"scatter\"},{\"hovertemplate\":\"Hero=\\u00a0Alucard\\u003cbr\\u003eTotal Heroes Picked=%{x}\\u003cbr\\u003eWin Rate=%{y}\\u003cextra\\u003e\\u003c\\u002fextra\\u003e\",\"legendgroup\":\"\\u00a0Alucard\",\"marker\":{\"color\":\"#B6E880\",\"symbol\":\"circle\"},\"mode\":\"markers\",\"name\":\"\\u00a0Alucard\",\"orientation\":\"v\",\"showlegend\":true,\"x\":[1],\"xaxis\":\"x\",\"y\":[0.0],\"yaxis\":\"y\",\"type\":\"scatter\"},{\"hovertemplate\":\"Hero=\\u00a0Silvanna\\u003cbr\\u003eTotal Heroes Picked=%{x}\\u003cbr\\u003eWin Rate=%{y}\\u003cextra\\u003e\\u003c\\u002fextra\\u003e\",\"legendgroup\":\"\\u00a0Silvanna\",\"marker\":{\"color\":\"#FF97FF\",\"symbol\":\"circle\"},\"mode\":\"markers\",\"name\":\"\\u00a0Silvanna\",\"orientation\":\"v\",\"showlegend\":true,\"x\":[1],\"xaxis\":\"x\",\"y\":[0.0],\"yaxis\":\"y\",\"type\":\"scatter\"},{\"hovertemplate\":\"Hero=\\u00a0Sun\\u003cbr\\u003eTotal Heroes Picked=%{x}\\u003cbr\\u003eWin Rate=%{y}\\u003cextra\\u003e\\u003c\\u002fextra\\u003e\",\"legendgroup\":\"\\u00a0Sun\",\"marker\":{\"color\":\"#FECB52\",\"symbol\":\"circle\"},\"mode\":\"markers\",\"name\":\"\\u00a0Sun\",\"orientation\":\"v\",\"showlegend\":true,\"x\":[1],\"xaxis\":\"x\",\"y\":[0.0],\"yaxis\":\"y\",\"type\":\"scatter\"},{\"hovertemplate\":\"Hero=\\u00a0Vale\\u003cbr\\u003eTotal Heroes Picked=%{x}\\u003cbr\\u003eWin Rate=%{y}\\u003cextra\\u003e\\u003c\\u002fextra\\u003e\",\"legendgroup\":\"\\u00a0Vale\",\"marker\":{\"color\":\"#636efa\",\"symbol\":\"circle\"},\"mode\":\"markers\",\"name\":\"\\u00a0Vale\",\"orientation\":\"v\",\"showlegend\":true,\"x\":[1],\"xaxis\":\"x\",\"y\":[0.0],\"yaxis\":\"y\",\"type\":\"scatter\"},{\"hovertemplate\":\"Hero=\\u00a0Vexana\\u003cbr\\u003eTotal Heroes Picked=%{x}\\u003cbr\\u003eWin Rate=%{y}\\u003cextra\\u003e\\u003c\\u002fextra\\u003e\",\"legendgroup\":\"\\u00a0Vexana\",\"marker\":{\"color\":\"#EF553B\",\"symbol\":\"circle\"},\"mode\":\"markers\",\"name\":\"\\u00a0Vexana\",\"orientation\":\"v\",\"showlegend\":true,\"x\":[1],\"xaxis\":\"x\",\"y\":[0.0],\"yaxis\":\"y\",\"type\":\"scatter\"},{\"hovertemplate\":\"Hero=\\u00a0Zilong\\u003cbr\\u003eTotal Heroes Picked=%{x}\\u003cbr\\u003eWin Rate=%{y}\\u003cextra\\u003e\\u003c\\u002fextra\\u003e\",\"legendgroup\":\"\\u00a0Zilong\",\"marker\":{\"color\":\"#00cc96\",\"symbol\":\"circle\"},\"mode\":\"markers\",\"name\":\"\\u00a0Zilong\",\"orientation\":\"v\",\"showlegend\":true,\"x\":[1],\"xaxis\":\"x\",\"y\":[0.0],\"yaxis\":\"y\",\"type\":\"scatter\"},{\"hovertemplate\":\"Hero=\\u00a0Layla\\u003cbr\\u003eTotal Heroes Picked=%{x}\\u003cbr\\u003eWin Rate=%{y}\\u003cextra\\u003e\\u003c\\u002fextra\\u003e\",\"legendgroup\":\"\\u00a0Layla\",\"marker\":{\"color\":\"#ab63fa\",\"symbol\":\"circle\"},\"mode\":\"markers\",\"name\":\"\\u00a0Layla\",\"orientation\":\"v\",\"showlegend\":true,\"x\":[0],\"xaxis\":\"x\",\"y\":[null],\"yaxis\":\"y\",\"type\":\"scatter\"},{\"hovertemplate\":\"Hero=\\u00a0Miya\\u003cbr\\u003eTotal Heroes Picked=%{x}\\u003cbr\\u003eWin Rate=%{y}\\u003cextra\\u003e\\u003c\\u002fextra\\u003e\",\"legendgroup\":\"\\u00a0Miya\",\"marker\":{\"color\":\"#FFA15A\",\"symbol\":\"circle\"},\"mode\":\"markers\",\"name\":\"\\u00a0Miya\",\"orientation\":\"v\",\"showlegend\":true,\"x\":[0],\"xaxis\":\"x\",\"y\":[null],\"yaxis\":\"y\",\"type\":\"scatter\"}],                        {\"template\":{\"data\":{\"histogram2dcontour\":[{\"type\":\"histogram2dcontour\",\"colorbar\":{\"outlinewidth\":0,\"ticks\":\"\"},\"colorscale\":[[0.0,\"#0d0887\"],[0.1111111111111111,\"#46039f\"],[0.2222222222222222,\"#7201a8\"],[0.3333333333333333,\"#9c179e\"],[0.4444444444444444,\"#bd3786\"],[0.5555555555555556,\"#d8576b\"],[0.6666666666666666,\"#ed7953\"],[0.7777777777777778,\"#fb9f3a\"],[0.8888888888888888,\"#fdca26\"],[1.0,\"#f0f921\"]]}],\"choropleth\":[{\"type\":\"choropleth\",\"colorbar\":{\"outlinewidth\":0,\"ticks\":\"\"}}],\"histogram2d\":[{\"type\":\"histogram2d\",\"colorbar\":{\"outlinewidth\":0,\"ticks\":\"\"},\"colorscale\":[[0.0,\"#0d0887\"],[0.1111111111111111,\"#46039f\"],[0.2222222222222222,\"#7201a8\"],[0.3333333333333333,\"#9c179e\"],[0.4444444444444444,\"#bd3786\"],[0.5555555555555556,\"#d8576b\"],[0.6666666666666666,\"#ed7953\"],[0.7777777777777778,\"#fb9f3a\"],[0.8888888888888888,\"#fdca26\"],[1.0,\"#f0f921\"]]}],\"heatmap\":[{\"type\":\"heatmap\",\"colorbar\":{\"outlinewidth\":0,\"ticks\":\"\"},\"colorscale\":[[0.0,\"#0d0887\"],[0.1111111111111111,\"#46039f\"],[0.2222222222222222,\"#7201a8\"],[0.3333333333333333,\"#9c179e\"],[0.4444444444444444,\"#bd3786\"],[0.5555555555555556,\"#d8576b\"],[0.6666666666666666,\"#ed7953\"],[0.7777777777777778,\"#fb9f3a\"],[0.8888888888888888,\"#fdca26\"],[1.0,\"#f0f921\"]]}],\"heatmapgl\":[{\"type\":\"heatmapgl\",\"colorbar\":{\"outlinewidth\":0,\"ticks\":\"\"},\"colorscale\":[[0.0,\"#0d0887\"],[0.1111111111111111,\"#46039f\"],[0.2222222222222222,\"#7201a8\"],[0.3333333333333333,\"#9c179e\"],[0.4444444444444444,\"#bd3786\"],[0.5555555555555556,\"#d8576b\"],[0.6666666666666666,\"#ed7953\"],[0.7777777777777778,\"#fb9f3a\"],[0.8888888888888888,\"#fdca26\"],[1.0,\"#f0f921\"]]}],\"contourcarpet\":[{\"type\":\"contourcarpet\",\"colorbar\":{\"outlinewidth\":0,\"ticks\":\"\"}}],\"contour\":[{\"type\":\"contour\",\"colorbar\":{\"outlinewidth\":0,\"ticks\":\"\"},\"colorscale\":[[0.0,\"#0d0887\"],[0.1111111111111111,\"#46039f\"],[0.2222222222222222,\"#7201a8\"],[0.3333333333333333,\"#9c179e\"],[0.4444444444444444,\"#bd3786\"],[0.5555555555555556,\"#d8576b\"],[0.6666666666666666,\"#ed7953\"],[0.7777777777777778,\"#fb9f3a\"],[0.8888888888888888,\"#fdca26\"],[1.0,\"#f0f921\"]]}],\"surface\":[{\"type\":\"surface\",\"colorbar\":{\"outlinewidth\":0,\"ticks\":\"\"},\"colorscale\":[[0.0,\"#0d0887\"],[0.1111111111111111,\"#46039f\"],[0.2222222222222222,\"#7201a8\"],[0.3333333333333333,\"#9c179e\"],[0.4444444444444444,\"#bd3786\"],[0.5555555555555556,\"#d8576b\"],[0.6666666666666666,\"#ed7953\"],[0.7777777777777778,\"#fb9f3a\"],[0.8888888888888888,\"#fdca26\"],[1.0,\"#f0f921\"]]}],\"mesh3d\":[{\"type\":\"mesh3d\",\"colorbar\":{\"outlinewidth\":0,\"ticks\":\"\"}}],\"scatter\":[{\"fillpattern\":{\"fillmode\":\"overlay\",\"size\":10,\"solidity\":0.2},\"type\":\"scatter\"}],\"parcoords\":[{\"type\":\"parcoords\",\"line\":{\"colorbar\":{\"outlinewidth\":0,\"ticks\":\"\"}}}],\"scatterpolargl\":[{\"type\":\"scatterpolargl\",\"marker\":{\"colorbar\":{\"outlinewidth\":0,\"ticks\":\"\"}}}],\"bar\":[{\"error_x\":{\"color\":\"#2a3f5f\"},\"error_y\":{\"color\":\"#2a3f5f\"},\"marker\":{\"line\":{\"color\":\"#E5ECF6\",\"width\":0.5},\"pattern\":{\"fillmode\":\"overlay\",\"size\":10,\"solidity\":0.2}},\"type\":\"bar\"}],\"scattergeo\":[{\"type\":\"scattergeo\",\"marker\":{\"colorbar\":{\"outlinewidth\":0,\"ticks\":\"\"}}}],\"scatterpolar\":[{\"type\":\"scatterpolar\",\"marker\":{\"colorbar\":{\"outlinewidth\":0,\"ticks\":\"\"}}}],\"histogram\":[{\"marker\":{\"pattern\":{\"fillmode\":\"overlay\",\"size\":10,\"solidity\":0.2}},\"type\":\"histogram\"}],\"scattergl\":[{\"type\":\"scattergl\",\"marker\":{\"colorbar\":{\"outlinewidth\":0,\"ticks\":\"\"}}}],\"scatter3d\":[{\"type\":\"scatter3d\",\"line\":{\"colorbar\":{\"outlinewidth\":0,\"ticks\":\"\"}},\"marker\":{\"colorbar\":{\"outlinewidth\":0,\"ticks\":\"\"}}}],\"scattermapbox\":[{\"type\":\"scattermapbox\",\"marker\":{\"colorbar\":{\"outlinewidth\":0,\"ticks\":\"\"}}}],\"scatterternary\":[{\"type\":\"scatterternary\",\"marker\":{\"colorbar\":{\"outlinewidth\":0,\"ticks\":\"\"}}}],\"scattercarpet\":[{\"type\":\"scattercarpet\",\"marker\":{\"colorbar\":{\"outlinewidth\":0,\"ticks\":\"\"}}}],\"carpet\":[{\"aaxis\":{\"endlinecolor\":\"#2a3f5f\",\"gridcolor\":\"white\",\"linecolor\":\"white\",\"minorgridcolor\":\"white\",\"startlinecolor\":\"#2a3f5f\"},\"baxis\":{\"endlinecolor\":\"#2a3f5f\",\"gridcolor\":\"white\",\"linecolor\":\"white\",\"minorgridcolor\":\"white\",\"startlinecolor\":\"#2a3f5f\"},\"type\":\"carpet\"}],\"table\":[{\"cells\":{\"fill\":{\"color\":\"#EBF0F8\"},\"line\":{\"color\":\"white\"}},\"header\":{\"fill\":{\"color\":\"#C8D4E3\"},\"line\":{\"color\":\"white\"}},\"type\":\"table\"}],\"barpolar\":[{\"marker\":{\"line\":{\"color\":\"#E5ECF6\",\"width\":0.5},\"pattern\":{\"fillmode\":\"overlay\",\"size\":10,\"solidity\":0.2}},\"type\":\"barpolar\"}],\"pie\":[{\"automargin\":true,\"type\":\"pie\"}]},\"layout\":{\"autotypenumbers\":\"strict\",\"colorway\":[\"#636efa\",\"#EF553B\",\"#00cc96\",\"#ab63fa\",\"#FFA15A\",\"#19d3f3\",\"#FF6692\",\"#B6E880\",\"#FF97FF\",\"#FECB52\"],\"font\":{\"color\":\"#2a3f5f\"},\"hovermode\":\"closest\",\"hoverlabel\":{\"align\":\"left\"},\"paper_bgcolor\":\"white\",\"plot_bgcolor\":\"#E5ECF6\",\"polar\":{\"bgcolor\":\"#E5ECF6\",\"angularaxis\":{\"gridcolor\":\"white\",\"linecolor\":\"white\",\"ticks\":\"\"},\"radialaxis\":{\"gridcolor\":\"white\",\"linecolor\":\"white\",\"ticks\":\"\"}},\"ternary\":{\"bgcolor\":\"#E5ECF6\",\"aaxis\":{\"gridcolor\":\"white\",\"linecolor\":\"white\",\"ticks\":\"\"},\"baxis\":{\"gridcolor\":\"white\",\"linecolor\":\"white\",\"ticks\":\"\"},\"caxis\":{\"gridcolor\":\"white\",\"linecolor\":\"white\",\"ticks\":\"\"}},\"coloraxis\":{\"colorbar\":{\"outlinewidth\":0,\"ticks\":\"\"}},\"colorscale\":{\"sequential\":[[0.0,\"#0d0887\"],[0.1111111111111111,\"#46039f\"],[0.2222222222222222,\"#7201a8\"],[0.3333333333333333,\"#9c179e\"],[0.4444444444444444,\"#bd3786\"],[0.5555555555555556,\"#d8576b\"],[0.6666666666666666,\"#ed7953\"],[0.7777777777777778,\"#fb9f3a\"],[0.8888888888888888,\"#fdca26\"],[1.0,\"#f0f921\"]],\"sequentialminus\":[[0.0,\"#0d0887\"],[0.1111111111111111,\"#46039f\"],[0.2222222222222222,\"#7201a8\"],[0.3333333333333333,\"#9c179e\"],[0.4444444444444444,\"#bd3786\"],[0.5555555555555556,\"#d8576b\"],[0.6666666666666666,\"#ed7953\"],[0.7777777777777778,\"#fb9f3a\"],[0.8888888888888888,\"#fdca26\"],[1.0,\"#f0f921\"]],\"diverging\":[[0,\"#8e0152\"],[0.1,\"#c51b7d\"],[0.2,\"#de77ae\"],[0.3,\"#f1b6da\"],[0.4,\"#fde0ef\"],[0.5,\"#f7f7f7\"],[0.6,\"#e6f5d0\"],[0.7,\"#b8e186\"],[0.8,\"#7fbc41\"],[0.9,\"#4d9221\"],[1,\"#276419\"]]},\"xaxis\":{\"gridcolor\":\"white\",\"linecolor\":\"white\",\"ticks\":\"\",\"title\":{\"standoff\":15},\"zerolinecolor\":\"white\",\"automargin\":true,\"zerolinewidth\":2},\"yaxis\":{\"gridcolor\":\"white\",\"linecolor\":\"white\",\"ticks\":\"\",\"title\":{\"standoff\":15},\"zerolinecolor\":\"white\",\"automargin\":true,\"zerolinewidth\":2},\"scene\":{\"xaxis\":{\"backgroundcolor\":\"#E5ECF6\",\"gridcolor\":\"white\",\"linecolor\":\"white\",\"showbackground\":true,\"ticks\":\"\",\"zerolinecolor\":\"white\",\"gridwidth\":2},\"yaxis\":{\"backgroundcolor\":\"#E5ECF6\",\"gridcolor\":\"white\",\"linecolor\":\"white\",\"showbackground\":true,\"ticks\":\"\",\"zerolinecolor\":\"white\",\"gridwidth\":2},\"zaxis\":{\"backgroundcolor\":\"#E5ECF6\",\"gridcolor\":\"white\",\"linecolor\":\"white\",\"showbackground\":true,\"ticks\":\"\",\"zerolinecolor\":\"white\",\"gridwidth\":2}},\"shapedefaults\":{\"line\":{\"color\":\"#2a3f5f\"}},\"annotationdefaults\":{\"arrowcolor\":\"#2a3f5f\",\"arrowhead\":0,\"arrowwidth\":1},\"geo\":{\"bgcolor\":\"white\",\"landcolor\":\"#E5ECF6\",\"subunitcolor\":\"white\",\"showland\":true,\"showlakes\":true,\"lakecolor\":\"white\"},\"title\":{\"x\":0.05},\"mapbox\":{\"style\":\"light\"}}},\"xaxis\":{\"anchor\":\"y\",\"domain\":[0.0,1.0],\"title\":{\"text\":\"Total Heroes Picked\"}},\"yaxis\":{\"anchor\":\"x\",\"domain\":[0.0,1.0],\"title\":{\"text\":\"Win Rate\"}},\"legend\":{\"title\":{\"text\":\"Hero\"},\"tracegroupgap\":0},\"title\":{\"text\":\"Correlation between Hero Picks and Win Rates\"}},                        {\"responsive\": true}                    ).then(function(){\n",
              "                            \n",
              "var gd = document.getElementById('68e1e81a-a4d9-421f-87ca-cbc1035eb239');\n",
              "var x = new MutationObserver(function (mutations, observer) {{\n",
              "        var display = window.getComputedStyle(gd).display;\n",
              "        if (!display || display === 'none') {{\n",
              "            console.log([gd, 'removed!']);\n",
              "            Plotly.purge(gd);\n",
              "            observer.disconnect();\n",
              "        }}\n",
              "}});\n",
              "\n",
              "// Listen for the removal of the full notebook cells\n",
              "var notebookContainer = gd.closest('#notebook-container');\n",
              "if (notebookContainer) {{\n",
              "    x.observe(notebookContainer, {childList: true});\n",
              "}}\n",
              "\n",
              "// Listen for the clearing of the current output cell\n",
              "var outputEl = gd.closest('.output');\n",
              "if (outputEl) {{\n",
              "    x.observe(outputEl, {childList: true});\n",
              "}}\n",
              "\n",
              "                        })                };                            </script>        </div>\n",
              "</body>\n",
              "</html>"
            ]
          },
          "metadata": {}
        }
      ]
    },
    {
      "cell_type": "markdown",
      "source": [
        "Dari visualisasi diatas kita dapat melihat korelasi dari total pick hero dengan win rate dari hero tersebut."
      ],
      "metadata": {
        "id": "Tsx1Kk8WdqRo"
      }
    },
    {
      "cell_type": "code",
      "source": [
        "fig = px.bar(df.sort_values(by='T_BansPercentage'), x='Hero', y='T_BansPercentage',\n",
        "             title='Overall Ban Percentage for Each Hero',\n",
        "             labels={'Hero': 'Heroes', 'T_BansPercentage': 'Ban Percentage'},\n",
        "             color='T_BansPercentage',\n",
        "             color_continuous_scale='Viridis')\n",
        "\n",
        "fig.update_layout(xaxis_title='Heroes', yaxis_title='Ban Percentage')\n",
        "fig.show()"
      ],
      "metadata": {
        "colab": {
          "base_uri": "https://localhost:8080/",
          "height": 542
        },
        "id": "wYnczawOUwzs",
        "outputId": "63ca913e-9de2-4dff-e8ef-cda25c50d4e2"
      },
      "execution_count": 69,
      "outputs": [
        {
          "output_type": "display_data",
          "data": {
            "text/html": [
              "<html>\n",
              "<head><meta charset=\"utf-8\" /></head>\n",
              "<body>\n",
              "    <div>            <script src=\"https://cdnjs.cloudflare.com/ajax/libs/mathjax/2.7.5/MathJax.js?config=TeX-AMS-MML_SVG\"></script><script type=\"text/javascript\">if (window.MathJax && window.MathJax.Hub && window.MathJax.Hub.Config) {window.MathJax.Hub.Config({SVG: {font: \"STIX-Web\"}});}</script>                <script type=\"text/javascript\">window.PlotlyConfig = {MathJaxConfig: 'local'};</script>\n",
              "        <script charset=\"utf-8\" src=\"https://cdn.plot.ly/plotly-2.24.1.min.js\"></script>                <div id=\"7a5d9efd-e7ef-4956-b7c2-b582134ec39f\" class=\"plotly-graph-div\" style=\"height:525px; width:100%;\"></div>            <script type=\"text/javascript\">                                    window.PLOTLYENV=window.PLOTLYENV || {};                                    if (document.getElementById(\"7a5d9efd-e7ef-4956-b7c2-b582134ec39f\")) {                    Plotly.newPlot(                        \"7a5d9efd-e7ef-4956-b7c2-b582134ec39f\",                        [{\"alignmentgroup\":\"True\",\"hovertemplate\":\"Heroes=%{x}\\u003cbr\\u003eBan Percentage=%{marker.color}\\u003cextra\\u003e\\u003c\\u002fextra\\u003e\",\"legendgroup\":\"\",\"marker\":{\"color\":[0.0,0.0,0.0,0.0,0.0,0.0,0.0,0.0,0.0,0.0,0.0,0.0,0.0,0.0,0.0,0.0,0.0,0.07,0.07,0.07,0.07,0.07,0.07,0.07,0.07,0.07,0.07,0.14,0.14,0.21,0.21,0.29,0.29,0.29,0.36,0.36,0.5,0.5,0.57,0.57,0.64,0.64,0.64,0.64,0.72,0.93,0.93,1.0,1.0,1.07,1.07,1.07,1.14,1.22,1.57,1.65,1.72,1.72,2.15,2.15,2.22,2.58,2.65,3.15,3.65,3.72,3.79,5.08,5.15,5.22,5.29,5.65,5.65,5.87,5.94,6.58,7.22,7.22,7.37,8.15,8.37,9.23,9.23,9.59,11.16,11.87,13.09,14.59,14.88,14.88,15.59,16.17,16.95,17.67,18.6,18.96,21.39,21.39,24.46,24.89,25.04,27.68,29.69,30.69,31.12,32.62,33.98,34.12,34.62,35.12,44.56,45.06,48.5,49.86,53.0],\"coloraxis\":\"coloraxis\",\"pattern\":{\"shape\":\"\"}},\"name\":\"\",\"offsetgroup\":\"\",\"orientation\":\"v\",\"showlegend\":false,\"textposition\":\"auto\",\"x\":[\"\\u00a0Tigreal\",\"\\u00a0Chang'e\",\"\\u00a0Julian\",\"\\u00a0Cyclops\",\"\\u00a0Nana\",\"\\u00a0Balmond\",\"\\u00a0Aldous\",\"\\u00a0Aulus\",\"\\u00a0Aamon\",\"\\u00a0Roger\",\"\\u00a0Saber\",\"\\u00a0Alucard\",\"\\u00a0Silvanna\",\"\\u00a0Sun\",\"\\u00a0Vexana\",\"\\u00a0Kagura\",\"\\u00a0Kimmy\",\"\\u00a0Thamuz\",\"\\u00a0Karina\",\"\\u00a0Granger\",\"\\u00a0Carmilla\",\"\\u00a0Layla\",\"\\u00a0Natan\",\"\\u00a0Selena\",\"\\u00a0Moskov\",\"\\u00a0Vale\",\"\\u00a0Zilong\",\"\\u00a0Belerick\",\"\\u00a0Popol and Kupa\",\"\\u00a0Leomord\",\"\\u00a0Cecilion\",\"\\u00a0Hanabi\",\"\\u00a0Gusion\",\"\\u00a0Miya\",\"\\u00a0Jawhead\",\"\\u00a0Xavier\",\"\\u00a0Harley\",\"\\u00a0Bane\",\"\\u00a0Minsitthar\",\"\\u00a0Masha\",\"\\u00a0Freya\",\"\\u00a0Yi Sun-Shin\",\"\\u00a0Phoveus\",\"\\u00a0Barats\",\"\\u00a0Guinevere\",\"\\u00a0Luo Yi\",\"\\u00a0Hylos\",\"\\u00a0Lolita\",\"\\u00a0Lunox\",\"\\u00a0Yin\",\"\\u00a0Badang\",\"\\u00a0Alice\",\"\\u00a0Ruby\",\"\\u00a0Atlas\",\"\\u00a0Clint\",\"\\u00a0Estes\",\"\\u00a0Esmeralda\",\"\\u00a0Hanzo\",\"\\u00a0Dyrroth\",\"\\u00a0Natalia\",\"\\u00a0Alpha\",\"\\u00a0Lapu-Lapu\",\"\\u00a0Benedetta\",\"\\u00a0Melissa\",\"\\u00a0Hayabusa\",\"\\u00a0Gloo\",\"\\u00a0Hilda\",\"\\u00a0Nolan\",\"\\u00a0Floryn\",\"\\u00a0Karrie\",\"\\u00a0Arlott\",\"\\u00a0Helcurt\",\"\\u00a0Harith\",\"\\u00a0Gord\",\"\\u00a0Khaleed\",\"\\u00a0Pharsa\",\"\\u00a0Rafaela\",\"\\u00a0Lylia\",\"\\u00a0Wanwan\",\"\\u00a0Lesley\",\"\\u00a0Minotaur\",\"\\u00a0Valir\",\"\\u00a0Ixia\",\"\\u00a0Akai\",\"\\u00a0Chou\",\"\\u00a0Beatrix\",\"\\u00a0Grock\",\"\\u00a0Brody\",\"\\u00a0Ling\",\"\\u00a0Irithel\",\"\\u00a0Diggie\",\"\\u00a0Faramis\",\"\\u00a0Yu Zhong\",\"\\u00a0Khufra\",\"\\u00a0Uranus\",\"\\u00a0X.Borg\",\"\\u00a0Bruno\",\"\\u00a0Martis\",\"\\u00a0Claude\",\"\\u00a0Lancelot\",\"\\u00a0Franco\",\"\\u00a0Mathilda\",\"\\u00a0Novaria\",\"\\u00a0Paquito\",\"\\u00a0Terizla\",\"\\u00a0Yve\",\"\\u00a0Fredrinn\",\"\\u00a0Edith\",\"\\u00a0Valentina\",\"\\u00a0Baxia\",\"\\u00a0Joy\",\"\\u00a0Kaja\",\"\\u00a0Kadita\",\"\\u00a0Fanny\",\"\\u00a0Angela\"],\"xaxis\":\"x\",\"y\":[0.0,0.0,0.0,0.0,0.0,0.0,0.0,0.0,0.0,0.0,0.0,0.0,0.0,0.0,0.0,0.0,0.0,0.07,0.07,0.07,0.07,0.07,0.07,0.07,0.07,0.07,0.07,0.14,0.14,0.21,0.21,0.29,0.29,0.29,0.36,0.36,0.5,0.5,0.57,0.57,0.64,0.64,0.64,0.64,0.72,0.93,0.93,1.0,1.0,1.07,1.07,1.07,1.14,1.22,1.57,1.65,1.72,1.72,2.15,2.15,2.22,2.58,2.65,3.15,3.65,3.72,3.79,5.08,5.15,5.22,5.29,5.65,5.65,5.87,5.94,6.58,7.22,7.22,7.37,8.15,8.37,9.23,9.23,9.59,11.16,11.87,13.09,14.59,14.88,14.88,15.59,16.17,16.95,17.67,18.6,18.96,21.39,21.39,24.46,24.89,25.04,27.68,29.69,30.69,31.12,32.62,33.98,34.12,34.62,35.12,44.56,45.06,48.5,49.86,53.0],\"yaxis\":\"y\",\"type\":\"bar\"}],                        {\"template\":{\"data\":{\"histogram2dcontour\":[{\"type\":\"histogram2dcontour\",\"colorbar\":{\"outlinewidth\":0,\"ticks\":\"\"},\"colorscale\":[[0.0,\"#0d0887\"],[0.1111111111111111,\"#46039f\"],[0.2222222222222222,\"#7201a8\"],[0.3333333333333333,\"#9c179e\"],[0.4444444444444444,\"#bd3786\"],[0.5555555555555556,\"#d8576b\"],[0.6666666666666666,\"#ed7953\"],[0.7777777777777778,\"#fb9f3a\"],[0.8888888888888888,\"#fdca26\"],[1.0,\"#f0f921\"]]}],\"choropleth\":[{\"type\":\"choropleth\",\"colorbar\":{\"outlinewidth\":0,\"ticks\":\"\"}}],\"histogram2d\":[{\"type\":\"histogram2d\",\"colorbar\":{\"outlinewidth\":0,\"ticks\":\"\"},\"colorscale\":[[0.0,\"#0d0887\"],[0.1111111111111111,\"#46039f\"],[0.2222222222222222,\"#7201a8\"],[0.3333333333333333,\"#9c179e\"],[0.4444444444444444,\"#bd3786\"],[0.5555555555555556,\"#d8576b\"],[0.6666666666666666,\"#ed7953\"],[0.7777777777777778,\"#fb9f3a\"],[0.8888888888888888,\"#fdca26\"],[1.0,\"#f0f921\"]]}],\"heatmap\":[{\"type\":\"heatmap\",\"colorbar\":{\"outlinewidth\":0,\"ticks\":\"\"},\"colorscale\":[[0.0,\"#0d0887\"],[0.1111111111111111,\"#46039f\"],[0.2222222222222222,\"#7201a8\"],[0.3333333333333333,\"#9c179e\"],[0.4444444444444444,\"#bd3786\"],[0.5555555555555556,\"#d8576b\"],[0.6666666666666666,\"#ed7953\"],[0.7777777777777778,\"#fb9f3a\"],[0.8888888888888888,\"#fdca26\"],[1.0,\"#f0f921\"]]}],\"heatmapgl\":[{\"type\":\"heatmapgl\",\"colorbar\":{\"outlinewidth\":0,\"ticks\":\"\"},\"colorscale\":[[0.0,\"#0d0887\"],[0.1111111111111111,\"#46039f\"],[0.2222222222222222,\"#7201a8\"],[0.3333333333333333,\"#9c179e\"],[0.4444444444444444,\"#bd3786\"],[0.5555555555555556,\"#d8576b\"],[0.6666666666666666,\"#ed7953\"],[0.7777777777777778,\"#fb9f3a\"],[0.8888888888888888,\"#fdca26\"],[1.0,\"#f0f921\"]]}],\"contourcarpet\":[{\"type\":\"contourcarpet\",\"colorbar\":{\"outlinewidth\":0,\"ticks\":\"\"}}],\"contour\":[{\"type\":\"contour\",\"colorbar\":{\"outlinewidth\":0,\"ticks\":\"\"},\"colorscale\":[[0.0,\"#0d0887\"],[0.1111111111111111,\"#46039f\"],[0.2222222222222222,\"#7201a8\"],[0.3333333333333333,\"#9c179e\"],[0.4444444444444444,\"#bd3786\"],[0.5555555555555556,\"#d8576b\"],[0.6666666666666666,\"#ed7953\"],[0.7777777777777778,\"#fb9f3a\"],[0.8888888888888888,\"#fdca26\"],[1.0,\"#f0f921\"]]}],\"surface\":[{\"type\":\"surface\",\"colorbar\":{\"outlinewidth\":0,\"ticks\":\"\"},\"colorscale\":[[0.0,\"#0d0887\"],[0.1111111111111111,\"#46039f\"],[0.2222222222222222,\"#7201a8\"],[0.3333333333333333,\"#9c179e\"],[0.4444444444444444,\"#bd3786\"],[0.5555555555555556,\"#d8576b\"],[0.6666666666666666,\"#ed7953\"],[0.7777777777777778,\"#fb9f3a\"],[0.8888888888888888,\"#fdca26\"],[1.0,\"#f0f921\"]]}],\"mesh3d\":[{\"type\":\"mesh3d\",\"colorbar\":{\"outlinewidth\":0,\"ticks\":\"\"}}],\"scatter\":[{\"fillpattern\":{\"fillmode\":\"overlay\",\"size\":10,\"solidity\":0.2},\"type\":\"scatter\"}],\"parcoords\":[{\"type\":\"parcoords\",\"line\":{\"colorbar\":{\"outlinewidth\":0,\"ticks\":\"\"}}}],\"scatterpolargl\":[{\"type\":\"scatterpolargl\",\"marker\":{\"colorbar\":{\"outlinewidth\":0,\"ticks\":\"\"}}}],\"bar\":[{\"error_x\":{\"color\":\"#2a3f5f\"},\"error_y\":{\"color\":\"#2a3f5f\"},\"marker\":{\"line\":{\"color\":\"#E5ECF6\",\"width\":0.5},\"pattern\":{\"fillmode\":\"overlay\",\"size\":10,\"solidity\":0.2}},\"type\":\"bar\"}],\"scattergeo\":[{\"type\":\"scattergeo\",\"marker\":{\"colorbar\":{\"outlinewidth\":0,\"ticks\":\"\"}}}],\"scatterpolar\":[{\"type\":\"scatterpolar\",\"marker\":{\"colorbar\":{\"outlinewidth\":0,\"ticks\":\"\"}}}],\"histogram\":[{\"marker\":{\"pattern\":{\"fillmode\":\"overlay\",\"size\":10,\"solidity\":0.2}},\"type\":\"histogram\"}],\"scattergl\":[{\"type\":\"scattergl\",\"marker\":{\"colorbar\":{\"outlinewidth\":0,\"ticks\":\"\"}}}],\"scatter3d\":[{\"type\":\"scatter3d\",\"line\":{\"colorbar\":{\"outlinewidth\":0,\"ticks\":\"\"}},\"marker\":{\"colorbar\":{\"outlinewidth\":0,\"ticks\":\"\"}}}],\"scattermapbox\":[{\"type\":\"scattermapbox\",\"marker\":{\"colorbar\":{\"outlinewidth\":0,\"ticks\":\"\"}}}],\"scatterternary\":[{\"type\":\"scatterternary\",\"marker\":{\"colorbar\":{\"outlinewidth\":0,\"ticks\":\"\"}}}],\"scattercarpet\":[{\"type\":\"scattercarpet\",\"marker\":{\"colorbar\":{\"outlinewidth\":0,\"ticks\":\"\"}}}],\"carpet\":[{\"aaxis\":{\"endlinecolor\":\"#2a3f5f\",\"gridcolor\":\"white\",\"linecolor\":\"white\",\"minorgridcolor\":\"white\",\"startlinecolor\":\"#2a3f5f\"},\"baxis\":{\"endlinecolor\":\"#2a3f5f\",\"gridcolor\":\"white\",\"linecolor\":\"white\",\"minorgridcolor\":\"white\",\"startlinecolor\":\"#2a3f5f\"},\"type\":\"carpet\"}],\"table\":[{\"cells\":{\"fill\":{\"color\":\"#EBF0F8\"},\"line\":{\"color\":\"white\"}},\"header\":{\"fill\":{\"color\":\"#C8D4E3\"},\"line\":{\"color\":\"white\"}},\"type\":\"table\"}],\"barpolar\":[{\"marker\":{\"line\":{\"color\":\"#E5ECF6\",\"width\":0.5},\"pattern\":{\"fillmode\":\"overlay\",\"size\":10,\"solidity\":0.2}},\"type\":\"barpolar\"}],\"pie\":[{\"automargin\":true,\"type\":\"pie\"}]},\"layout\":{\"autotypenumbers\":\"strict\",\"colorway\":[\"#636efa\",\"#EF553B\",\"#00cc96\",\"#ab63fa\",\"#FFA15A\",\"#19d3f3\",\"#FF6692\",\"#B6E880\",\"#FF97FF\",\"#FECB52\"],\"font\":{\"color\":\"#2a3f5f\"},\"hovermode\":\"closest\",\"hoverlabel\":{\"align\":\"left\"},\"paper_bgcolor\":\"white\",\"plot_bgcolor\":\"#E5ECF6\",\"polar\":{\"bgcolor\":\"#E5ECF6\",\"angularaxis\":{\"gridcolor\":\"white\",\"linecolor\":\"white\",\"ticks\":\"\"},\"radialaxis\":{\"gridcolor\":\"white\",\"linecolor\":\"white\",\"ticks\":\"\"}},\"ternary\":{\"bgcolor\":\"#E5ECF6\",\"aaxis\":{\"gridcolor\":\"white\",\"linecolor\":\"white\",\"ticks\":\"\"},\"baxis\":{\"gridcolor\":\"white\",\"linecolor\":\"white\",\"ticks\":\"\"},\"caxis\":{\"gridcolor\":\"white\",\"linecolor\":\"white\",\"ticks\":\"\"}},\"coloraxis\":{\"colorbar\":{\"outlinewidth\":0,\"ticks\":\"\"}},\"colorscale\":{\"sequential\":[[0.0,\"#0d0887\"],[0.1111111111111111,\"#46039f\"],[0.2222222222222222,\"#7201a8\"],[0.3333333333333333,\"#9c179e\"],[0.4444444444444444,\"#bd3786\"],[0.5555555555555556,\"#d8576b\"],[0.6666666666666666,\"#ed7953\"],[0.7777777777777778,\"#fb9f3a\"],[0.8888888888888888,\"#fdca26\"],[1.0,\"#f0f921\"]],\"sequentialminus\":[[0.0,\"#0d0887\"],[0.1111111111111111,\"#46039f\"],[0.2222222222222222,\"#7201a8\"],[0.3333333333333333,\"#9c179e\"],[0.4444444444444444,\"#bd3786\"],[0.5555555555555556,\"#d8576b\"],[0.6666666666666666,\"#ed7953\"],[0.7777777777777778,\"#fb9f3a\"],[0.8888888888888888,\"#fdca26\"],[1.0,\"#f0f921\"]],\"diverging\":[[0,\"#8e0152\"],[0.1,\"#c51b7d\"],[0.2,\"#de77ae\"],[0.3,\"#f1b6da\"],[0.4,\"#fde0ef\"],[0.5,\"#f7f7f7\"],[0.6,\"#e6f5d0\"],[0.7,\"#b8e186\"],[0.8,\"#7fbc41\"],[0.9,\"#4d9221\"],[1,\"#276419\"]]},\"xaxis\":{\"gridcolor\":\"white\",\"linecolor\":\"white\",\"ticks\":\"\",\"title\":{\"standoff\":15},\"zerolinecolor\":\"white\",\"automargin\":true,\"zerolinewidth\":2},\"yaxis\":{\"gridcolor\":\"white\",\"linecolor\":\"white\",\"ticks\":\"\",\"title\":{\"standoff\":15},\"zerolinecolor\":\"white\",\"automargin\":true,\"zerolinewidth\":2},\"scene\":{\"xaxis\":{\"backgroundcolor\":\"#E5ECF6\",\"gridcolor\":\"white\",\"linecolor\":\"white\",\"showbackground\":true,\"ticks\":\"\",\"zerolinecolor\":\"white\",\"gridwidth\":2},\"yaxis\":{\"backgroundcolor\":\"#E5ECF6\",\"gridcolor\":\"white\",\"linecolor\":\"white\",\"showbackground\":true,\"ticks\":\"\",\"zerolinecolor\":\"white\",\"gridwidth\":2},\"zaxis\":{\"backgroundcolor\":\"#E5ECF6\",\"gridcolor\":\"white\",\"linecolor\":\"white\",\"showbackground\":true,\"ticks\":\"\",\"zerolinecolor\":\"white\",\"gridwidth\":2}},\"shapedefaults\":{\"line\":{\"color\":\"#2a3f5f\"}},\"annotationdefaults\":{\"arrowcolor\":\"#2a3f5f\",\"arrowhead\":0,\"arrowwidth\":1},\"geo\":{\"bgcolor\":\"white\",\"landcolor\":\"#E5ECF6\",\"subunitcolor\":\"white\",\"showland\":true,\"showlakes\":true,\"lakecolor\":\"white\"},\"title\":{\"x\":0.05},\"mapbox\":{\"style\":\"light\"}}},\"xaxis\":{\"anchor\":\"y\",\"domain\":[0.0,1.0],\"title\":{\"text\":\"Heroes\"}},\"yaxis\":{\"anchor\":\"x\",\"domain\":[0.0,1.0],\"title\":{\"text\":\"Ban Percentage\"}},\"coloraxis\":{\"colorbar\":{\"title\":{\"text\":\"Ban Percentage\"}},\"colorscale\":[[0.0,\"#440154\"],[0.1111111111111111,\"#482878\"],[0.2222222222222222,\"#3e4989\"],[0.3333333333333333,\"#31688e\"],[0.4444444444444444,\"#26828e\"],[0.5555555555555556,\"#1f9e89\"],[0.6666666666666666,\"#35b779\"],[0.7777777777777778,\"#6ece58\"],[0.8888888888888888,\"#b5de2b\"],[1.0,\"#fde725\"]]},\"legend\":{\"tracegroupgap\":0},\"title\":{\"text\":\"Overall Ban Percentage for Each Hero\"},\"barmode\":\"relative\"},                        {\"responsive\": true}                    ).then(function(){\n",
              "                            \n",
              "var gd = document.getElementById('7a5d9efd-e7ef-4956-b7c2-b582134ec39f');\n",
              "var x = new MutationObserver(function (mutations, observer) {{\n",
              "        var display = window.getComputedStyle(gd).display;\n",
              "        if (!display || display === 'none') {{\n",
              "            console.log([gd, 'removed!']);\n",
              "            Plotly.purge(gd);\n",
              "            observer.disconnect();\n",
              "        }}\n",
              "}});\n",
              "\n",
              "// Listen for the removal of the full notebook cells\n",
              "var notebookContainer = gd.closest('#notebook-container');\n",
              "if (notebookContainer) {{\n",
              "    x.observe(notebookContainer, {childList: true});\n",
              "}}\n",
              "\n",
              "// Listen for the clearing of the current output cell\n",
              "var outputEl = gd.closest('.output');\n",
              "if (outputEl) {{\n",
              "    x.observe(outputEl, {childList: true});\n",
              "}}\n",
              "\n",
              "                        })                };                            </script>        </div>\n",
              "</body>\n",
              "</html>"
            ]
          },
          "metadata": {}
        }
      ]
    },
    {
      "cell_type": "markdown",
      "source": [
        "Dari visualisasi diatas kita dapat melihat hero hero apa saja yang sering di ban, dan angela adalah hero paling sering di ban pada kejuaraan M5."
      ],
      "metadata": {
        "id": "Kr9mFKholaN4"
      }
    },
    {
      "cell_type": "code",
      "source": [
        "fig = px.bar(df.sort_values(by='T_PicksBansPercentage'), x='Hero', y='T_PicksBansPercentage',\n",
        "             title='Heroes with High Pick and Ban Percentages',\n",
        "             labels={'Hero': 'Heroes', 'T_PicksBansPercentage': 'Pick and Ban Percentage'},\n",
        "             color='T_PicksBansPercentage',\n",
        "             color_continuous_scale='Viridis')\n",
        "\n",
        "fig.update_layout(xaxis_title='Heroes', yaxis_title='Pick and Ban Percentage')\n",
        "fig.show()"
      ],
      "metadata": {
        "colab": {
          "base_uri": "https://localhost:8080/",
          "height": 542
        },
        "id": "HrfNNZ1xVJk3",
        "outputId": "1ec44dea-ece6-4b89-82a9-5836f112ecea"
      },
      "execution_count": 70,
      "outputs": [
        {
          "output_type": "display_data",
          "data": {
            "text/html": [
              "<html>\n",
              "<head><meta charset=\"utf-8\" /></head>\n",
              "<body>\n",
              "    <div>            <script src=\"https://cdnjs.cloudflare.com/ajax/libs/mathjax/2.7.5/MathJax.js?config=TeX-AMS-MML_SVG\"></script><script type=\"text/javascript\">if (window.MathJax && window.MathJax.Hub && window.MathJax.Hub.Config) {window.MathJax.Hub.Config({SVG: {font: \"STIX-Web\"}});}</script>                <script type=\"text/javascript\">window.PlotlyConfig = {MathJaxConfig: 'local'};</script>\n",
              "        <script charset=\"utf-8\" src=\"https://cdn.plot.ly/plotly-2.24.1.min.js\"></script>                <div id=\"eb671a79-ee51-4259-b5ad-4955b05c8e4b\" class=\"plotly-graph-div\" style=\"height:525px; width:100%;\"></div>            <script type=\"text/javascript\">                                    window.PLOTLYENV=window.PLOTLYENV || {};                                    if (document.getElementById(\"eb671a79-ee51-4259-b5ad-4955b05c8e4b\")) {                    Plotly.newPlot(                        \"eb671a79-ee51-4259-b5ad-4955b05c8e4b\",                        [{\"alignmentgroup\":\"True\",\"hovertemplate\":\"Heroes=%{x}\\u003cbr\\u003ePick and Ban Percentage=%{marker.color}\\u003cextra\\u003e\\u003c\\u002fextra\\u003e\",\"legendgroup\":\"\",\"marker\":{\"color\":[0.07,0.07,0.07,0.07,0.07,0.07,0.07,0.14,0.14,0.14,0.14,0.14,0.14,0.21,0.29,0.29,0.36,0.36,0.36,0.36,0.36,0.36,0.36,0.43,0.43,0.5,0.57,0.72,0.72,0.79,0.79,0.86,0.93,0.93,0.93,1.07,1.14,1.43,1.43,1.5,1.57,1.57,1.65,1.79,1.93,2.0,2.15,2.43,2.58,2.79,2.79,2.79,3.36,3.58,4.01,4.36,5.58,5.94,6.37,6.44,6.44,6.87,7.3,7.3,7.58,8.66,8.94,9.66,10.23,10.3,11.23,12.59,14.38,14.59,14.81,15.45,17.38,17.67,17.95,18.1,19.38,20.46,20.6,21.96,23.61,24.61,28.76,32.62,34.55,36.19,37.77,38.05,38.84,40.41,41.49,41.7,44.78,44.99,49.5,50.79,51.57,52.36,55.65,57.22,58.8,58.94,61.52,65.38,66.24,66.67,71.1,71.82,75.46,85.91,86.62],\"coloraxis\":\"coloraxis\",\"pattern\":{\"shape\":\"\"}},\"name\":\"\",\"offsetgroup\":\"\",\"orientation\":\"v\",\"showlegend\":false,\"textposition\":\"auto\",\"x\":[\"\\u00a0Layla\",\"\\u00a0Vexana\",\"\\u00a0Sun\",\"\\u00a0Silvanna\",\"\\u00a0Alucard\",\"\\u00a0Saber\",\"\\u00a0Kimmy\",\"\\u00a0Zilong\",\"\\u00a0Vale\",\"\\u00a0Moskov\",\"\\u00a0Tigreal\",\"\\u00a0Aulus\",\"\\u00a0Aldous\",\"\\u00a0Nana\",\"\\u00a0Aamon\",\"\\u00a0Miya\",\"\\u00a0Cyclops\",\"\\u00a0Selena\",\"\\u00a0Natan\",\"\\u00a0Carmilla\",\"\\u00a0Julian\",\"\\u00a0Roger\",\"\\u00a0Chang'e\",\"\\u00a0Granger\",\"\\u00a0Belerick\",\"\\u00a0Hanabi\",\"\\u00a0Balmond\",\"\\u00a0Thamuz\",\"\\u00a0Popol and Kupa\",\"\\u00a0Freya\",\"\\u00a0Karina\",\"\\u00a0Jawhead\",\"\\u00a0Kagura\",\"\\u00a0Yi Sun-Shin\",\"\\u00a0Harley\",\"\\u00a0Masha\",\"\\u00a0Gusion\",\"\\u00a0Leomord\",\"\\u00a0Minsitthar\",\"\\u00a0Yin\",\"\\u00a0Luo Yi\",\"\\u00a0Phoveus\",\"\\u00a0Alice\",\"\\u00a0Xavier\",\"\\u00a0Hylos\",\"\\u00a0Badang\",\"\\u00a0Barats\",\"\\u00a0Cecilion\",\"\\u00a0Hanzo\",\"\\u00a0Natalia\",\"\\u00a0Atlas\",\"\\u00a0Guinevere\",\"\\u00a0Estes\",\"\\u00a0Bane\",\"\\u00a0Lunox\",\"\\u00a0Lolita\",\"\\u00a0Ruby\",\"\\u00a0Nolan\",\"\\u00a0Dyrroth\",\"\\u00a0Alpha\",\"\\u00a0Hilda\",\"\\u00a0Esmeralda\",\"\\u00a0Melissa\",\"\\u00a0Clint\",\"\\u00a0Benedetta\",\"\\u00a0Helcurt\",\"\\u00a0Hayabusa\",\"\\u00a0Gloo\",\"\\u00a0Harith\",\"\\u00a0Floryn\",\"\\u00a0Khaleed\",\"\\u00a0Wanwan\",\"\\u00a0Arlott\",\"\\u00a0Lesley\",\"\\u00a0Lapu-Lapu\",\"\\u00a0Valir\",\"\\u00a0Rafaela\",\"\\u00a0Karrie\",\"\\u00a0Gord\",\"\\u00a0Ixia\",\"\\u00a0Lylia\",\"\\u00a0Ling\",\"\\u00a0Diggie\",\"\\u00a0Minotaur\",\"\\u00a0Akai\",\"\\u00a0Pharsa\",\"\\u00a0Chou\",\"\\u00a0Uranus\",\"\\u00a0Faramis\",\"\\u00a0Grock\",\"\\u00a0Mathilda\",\"\\u00a0Brody\",\"\\u00a0Yu Zhong\",\"\\u00a0X.Borg\",\"\\u00a0Franco\",\"\\u00a0Khufra\",\"\\u00a0Beatrix\",\"\\u00a0Lancelot\",\"\\u00a0Yve\",\"\\u00a0Irithel\",\"\\u00a0Claude\",\"\\u00a0Bruno\",\"\\u00a0Martis\",\"\\u00a0Fanny\",\"\\u00a0Novaria\",\"\\u00a0Joy\",\"\\u00a0Paquito\",\"\\u00a0Baxia\",\"\\u00a0Kaja\",\"\\u00a0Kadita\",\"\\u00a0Angela\",\"\\u00a0Edith\",\"\\u00a0Terizla\",\"\\u00a0Fredrinn\",\"\\u00a0Valentina\"],\"xaxis\":\"x\",\"y\":[0.07,0.07,0.07,0.07,0.07,0.07,0.07,0.14,0.14,0.14,0.14,0.14,0.14,0.21,0.29,0.29,0.36,0.36,0.36,0.36,0.36,0.36,0.36,0.43,0.43,0.5,0.57,0.72,0.72,0.79,0.79,0.86,0.93,0.93,0.93,1.07,1.14,1.43,1.43,1.5,1.57,1.57,1.65,1.79,1.93,2.0,2.15,2.43,2.58,2.79,2.79,2.79,3.36,3.58,4.01,4.36,5.58,5.94,6.37,6.44,6.44,6.87,7.3,7.3,7.58,8.66,8.94,9.66,10.23,10.3,11.23,12.59,14.38,14.59,14.81,15.45,17.38,17.67,17.95,18.1,19.38,20.46,20.6,21.96,23.61,24.61,28.76,32.62,34.55,36.19,37.77,38.05,38.84,40.41,41.49,41.7,44.78,44.99,49.5,50.79,51.57,52.36,55.65,57.22,58.8,58.94,61.52,65.38,66.24,66.67,71.1,71.82,75.46,85.91,86.62],\"yaxis\":\"y\",\"type\":\"bar\"}],                        {\"template\":{\"data\":{\"histogram2dcontour\":[{\"type\":\"histogram2dcontour\",\"colorbar\":{\"outlinewidth\":0,\"ticks\":\"\"},\"colorscale\":[[0.0,\"#0d0887\"],[0.1111111111111111,\"#46039f\"],[0.2222222222222222,\"#7201a8\"],[0.3333333333333333,\"#9c179e\"],[0.4444444444444444,\"#bd3786\"],[0.5555555555555556,\"#d8576b\"],[0.6666666666666666,\"#ed7953\"],[0.7777777777777778,\"#fb9f3a\"],[0.8888888888888888,\"#fdca26\"],[1.0,\"#f0f921\"]]}],\"choropleth\":[{\"type\":\"choropleth\",\"colorbar\":{\"outlinewidth\":0,\"ticks\":\"\"}}],\"histogram2d\":[{\"type\":\"histogram2d\",\"colorbar\":{\"outlinewidth\":0,\"ticks\":\"\"},\"colorscale\":[[0.0,\"#0d0887\"],[0.1111111111111111,\"#46039f\"],[0.2222222222222222,\"#7201a8\"],[0.3333333333333333,\"#9c179e\"],[0.4444444444444444,\"#bd3786\"],[0.5555555555555556,\"#d8576b\"],[0.6666666666666666,\"#ed7953\"],[0.7777777777777778,\"#fb9f3a\"],[0.8888888888888888,\"#fdca26\"],[1.0,\"#f0f921\"]]}],\"heatmap\":[{\"type\":\"heatmap\",\"colorbar\":{\"outlinewidth\":0,\"ticks\":\"\"},\"colorscale\":[[0.0,\"#0d0887\"],[0.1111111111111111,\"#46039f\"],[0.2222222222222222,\"#7201a8\"],[0.3333333333333333,\"#9c179e\"],[0.4444444444444444,\"#bd3786\"],[0.5555555555555556,\"#d8576b\"],[0.6666666666666666,\"#ed7953\"],[0.7777777777777778,\"#fb9f3a\"],[0.8888888888888888,\"#fdca26\"],[1.0,\"#f0f921\"]]}],\"heatmapgl\":[{\"type\":\"heatmapgl\",\"colorbar\":{\"outlinewidth\":0,\"ticks\":\"\"},\"colorscale\":[[0.0,\"#0d0887\"],[0.1111111111111111,\"#46039f\"],[0.2222222222222222,\"#7201a8\"],[0.3333333333333333,\"#9c179e\"],[0.4444444444444444,\"#bd3786\"],[0.5555555555555556,\"#d8576b\"],[0.6666666666666666,\"#ed7953\"],[0.7777777777777778,\"#fb9f3a\"],[0.8888888888888888,\"#fdca26\"],[1.0,\"#f0f921\"]]}],\"contourcarpet\":[{\"type\":\"contourcarpet\",\"colorbar\":{\"outlinewidth\":0,\"ticks\":\"\"}}],\"contour\":[{\"type\":\"contour\",\"colorbar\":{\"outlinewidth\":0,\"ticks\":\"\"},\"colorscale\":[[0.0,\"#0d0887\"],[0.1111111111111111,\"#46039f\"],[0.2222222222222222,\"#7201a8\"],[0.3333333333333333,\"#9c179e\"],[0.4444444444444444,\"#bd3786\"],[0.5555555555555556,\"#d8576b\"],[0.6666666666666666,\"#ed7953\"],[0.7777777777777778,\"#fb9f3a\"],[0.8888888888888888,\"#fdca26\"],[1.0,\"#f0f921\"]]}],\"surface\":[{\"type\":\"surface\",\"colorbar\":{\"outlinewidth\":0,\"ticks\":\"\"},\"colorscale\":[[0.0,\"#0d0887\"],[0.1111111111111111,\"#46039f\"],[0.2222222222222222,\"#7201a8\"],[0.3333333333333333,\"#9c179e\"],[0.4444444444444444,\"#bd3786\"],[0.5555555555555556,\"#d8576b\"],[0.6666666666666666,\"#ed7953\"],[0.7777777777777778,\"#fb9f3a\"],[0.8888888888888888,\"#fdca26\"],[1.0,\"#f0f921\"]]}],\"mesh3d\":[{\"type\":\"mesh3d\",\"colorbar\":{\"outlinewidth\":0,\"ticks\":\"\"}}],\"scatter\":[{\"fillpattern\":{\"fillmode\":\"overlay\",\"size\":10,\"solidity\":0.2},\"type\":\"scatter\"}],\"parcoords\":[{\"type\":\"parcoords\",\"line\":{\"colorbar\":{\"outlinewidth\":0,\"ticks\":\"\"}}}],\"scatterpolargl\":[{\"type\":\"scatterpolargl\",\"marker\":{\"colorbar\":{\"outlinewidth\":0,\"ticks\":\"\"}}}],\"bar\":[{\"error_x\":{\"color\":\"#2a3f5f\"},\"error_y\":{\"color\":\"#2a3f5f\"},\"marker\":{\"line\":{\"color\":\"#E5ECF6\",\"width\":0.5},\"pattern\":{\"fillmode\":\"overlay\",\"size\":10,\"solidity\":0.2}},\"type\":\"bar\"}],\"scattergeo\":[{\"type\":\"scattergeo\",\"marker\":{\"colorbar\":{\"outlinewidth\":0,\"ticks\":\"\"}}}],\"scatterpolar\":[{\"type\":\"scatterpolar\",\"marker\":{\"colorbar\":{\"outlinewidth\":0,\"ticks\":\"\"}}}],\"histogram\":[{\"marker\":{\"pattern\":{\"fillmode\":\"overlay\",\"size\":10,\"solidity\":0.2}},\"type\":\"histogram\"}],\"scattergl\":[{\"type\":\"scattergl\",\"marker\":{\"colorbar\":{\"outlinewidth\":0,\"ticks\":\"\"}}}],\"scatter3d\":[{\"type\":\"scatter3d\",\"line\":{\"colorbar\":{\"outlinewidth\":0,\"ticks\":\"\"}},\"marker\":{\"colorbar\":{\"outlinewidth\":0,\"ticks\":\"\"}}}],\"scattermapbox\":[{\"type\":\"scattermapbox\",\"marker\":{\"colorbar\":{\"outlinewidth\":0,\"ticks\":\"\"}}}],\"scatterternary\":[{\"type\":\"scatterternary\",\"marker\":{\"colorbar\":{\"outlinewidth\":0,\"ticks\":\"\"}}}],\"scattercarpet\":[{\"type\":\"scattercarpet\",\"marker\":{\"colorbar\":{\"outlinewidth\":0,\"ticks\":\"\"}}}],\"carpet\":[{\"aaxis\":{\"endlinecolor\":\"#2a3f5f\",\"gridcolor\":\"white\",\"linecolor\":\"white\",\"minorgridcolor\":\"white\",\"startlinecolor\":\"#2a3f5f\"},\"baxis\":{\"endlinecolor\":\"#2a3f5f\",\"gridcolor\":\"white\",\"linecolor\":\"white\",\"minorgridcolor\":\"white\",\"startlinecolor\":\"#2a3f5f\"},\"type\":\"carpet\"}],\"table\":[{\"cells\":{\"fill\":{\"color\":\"#EBF0F8\"},\"line\":{\"color\":\"white\"}},\"header\":{\"fill\":{\"color\":\"#C8D4E3\"},\"line\":{\"color\":\"white\"}},\"type\":\"table\"}],\"barpolar\":[{\"marker\":{\"line\":{\"color\":\"#E5ECF6\",\"width\":0.5},\"pattern\":{\"fillmode\":\"overlay\",\"size\":10,\"solidity\":0.2}},\"type\":\"barpolar\"}],\"pie\":[{\"automargin\":true,\"type\":\"pie\"}]},\"layout\":{\"autotypenumbers\":\"strict\",\"colorway\":[\"#636efa\",\"#EF553B\",\"#00cc96\",\"#ab63fa\",\"#FFA15A\",\"#19d3f3\",\"#FF6692\",\"#B6E880\",\"#FF97FF\",\"#FECB52\"],\"font\":{\"color\":\"#2a3f5f\"},\"hovermode\":\"closest\",\"hoverlabel\":{\"align\":\"left\"},\"paper_bgcolor\":\"white\",\"plot_bgcolor\":\"#E5ECF6\",\"polar\":{\"bgcolor\":\"#E5ECF6\",\"angularaxis\":{\"gridcolor\":\"white\",\"linecolor\":\"white\",\"ticks\":\"\"},\"radialaxis\":{\"gridcolor\":\"white\",\"linecolor\":\"white\",\"ticks\":\"\"}},\"ternary\":{\"bgcolor\":\"#E5ECF6\",\"aaxis\":{\"gridcolor\":\"white\",\"linecolor\":\"white\",\"ticks\":\"\"},\"baxis\":{\"gridcolor\":\"white\",\"linecolor\":\"white\",\"ticks\":\"\"},\"caxis\":{\"gridcolor\":\"white\",\"linecolor\":\"white\",\"ticks\":\"\"}},\"coloraxis\":{\"colorbar\":{\"outlinewidth\":0,\"ticks\":\"\"}},\"colorscale\":{\"sequential\":[[0.0,\"#0d0887\"],[0.1111111111111111,\"#46039f\"],[0.2222222222222222,\"#7201a8\"],[0.3333333333333333,\"#9c179e\"],[0.4444444444444444,\"#bd3786\"],[0.5555555555555556,\"#d8576b\"],[0.6666666666666666,\"#ed7953\"],[0.7777777777777778,\"#fb9f3a\"],[0.8888888888888888,\"#fdca26\"],[1.0,\"#f0f921\"]],\"sequentialminus\":[[0.0,\"#0d0887\"],[0.1111111111111111,\"#46039f\"],[0.2222222222222222,\"#7201a8\"],[0.3333333333333333,\"#9c179e\"],[0.4444444444444444,\"#bd3786\"],[0.5555555555555556,\"#d8576b\"],[0.6666666666666666,\"#ed7953\"],[0.7777777777777778,\"#fb9f3a\"],[0.8888888888888888,\"#fdca26\"],[1.0,\"#f0f921\"]],\"diverging\":[[0,\"#8e0152\"],[0.1,\"#c51b7d\"],[0.2,\"#de77ae\"],[0.3,\"#f1b6da\"],[0.4,\"#fde0ef\"],[0.5,\"#f7f7f7\"],[0.6,\"#e6f5d0\"],[0.7,\"#b8e186\"],[0.8,\"#7fbc41\"],[0.9,\"#4d9221\"],[1,\"#276419\"]]},\"xaxis\":{\"gridcolor\":\"white\",\"linecolor\":\"white\",\"ticks\":\"\",\"title\":{\"standoff\":15},\"zerolinecolor\":\"white\",\"automargin\":true,\"zerolinewidth\":2},\"yaxis\":{\"gridcolor\":\"white\",\"linecolor\":\"white\",\"ticks\":\"\",\"title\":{\"standoff\":15},\"zerolinecolor\":\"white\",\"automargin\":true,\"zerolinewidth\":2},\"scene\":{\"xaxis\":{\"backgroundcolor\":\"#E5ECF6\",\"gridcolor\":\"white\",\"linecolor\":\"white\",\"showbackground\":true,\"ticks\":\"\",\"zerolinecolor\":\"white\",\"gridwidth\":2},\"yaxis\":{\"backgroundcolor\":\"#E5ECF6\",\"gridcolor\":\"white\",\"linecolor\":\"white\",\"showbackground\":true,\"ticks\":\"\",\"zerolinecolor\":\"white\",\"gridwidth\":2},\"zaxis\":{\"backgroundcolor\":\"#E5ECF6\",\"gridcolor\":\"white\",\"linecolor\":\"white\",\"showbackground\":true,\"ticks\":\"\",\"zerolinecolor\":\"white\",\"gridwidth\":2}},\"shapedefaults\":{\"line\":{\"color\":\"#2a3f5f\"}},\"annotationdefaults\":{\"arrowcolor\":\"#2a3f5f\",\"arrowhead\":0,\"arrowwidth\":1},\"geo\":{\"bgcolor\":\"white\",\"landcolor\":\"#E5ECF6\",\"subunitcolor\":\"white\",\"showland\":true,\"showlakes\":true,\"lakecolor\":\"white\"},\"title\":{\"x\":0.05},\"mapbox\":{\"style\":\"light\"}}},\"xaxis\":{\"anchor\":\"y\",\"domain\":[0.0,1.0],\"title\":{\"text\":\"Heroes\"}},\"yaxis\":{\"anchor\":\"x\",\"domain\":[0.0,1.0],\"title\":{\"text\":\"Pick and Ban Percentage\"}},\"coloraxis\":{\"colorbar\":{\"title\":{\"text\":\"Pick and Ban Percentage\"}},\"colorscale\":[[0.0,\"#440154\"],[0.1111111111111111,\"#482878\"],[0.2222222222222222,\"#3e4989\"],[0.3333333333333333,\"#31688e\"],[0.4444444444444444,\"#26828e\"],[0.5555555555555556,\"#1f9e89\"],[0.6666666666666666,\"#35b779\"],[0.7777777777777778,\"#6ece58\"],[0.8888888888888888,\"#b5de2b\"],[1.0,\"#fde725\"]]},\"legend\":{\"tracegroupgap\":0},\"title\":{\"text\":\"Heroes with High Pick and Ban Percentages\"},\"barmode\":\"relative\"},                        {\"responsive\": true}                    ).then(function(){\n",
              "                            \n",
              "var gd = document.getElementById('eb671a79-ee51-4259-b5ad-4955b05c8e4b');\n",
              "var x = new MutationObserver(function (mutations, observer) {{\n",
              "        var display = window.getComputedStyle(gd).display;\n",
              "        if (!display || display === 'none') {{\n",
              "            console.log([gd, 'removed!']);\n",
              "            Plotly.purge(gd);\n",
              "            observer.disconnect();\n",
              "        }}\n",
              "}});\n",
              "\n",
              "// Listen for the removal of the full notebook cells\n",
              "var notebookContainer = gd.closest('#notebook-container');\n",
              "if (notebookContainer) {{\n",
              "    x.observe(notebookContainer, {childList: true});\n",
              "}}\n",
              "\n",
              "// Listen for the clearing of the current output cell\n",
              "var outputEl = gd.closest('.output');\n",
              "if (outputEl) {{\n",
              "    x.observe(outputEl, {childList: true});\n",
              "}}\n",
              "\n",
              "                        })                };                            </script>        </div>\n",
              "</body>\n",
              "</html>"
            ]
          },
          "metadata": {}
        }
      ]
    },
    {
      "cell_type": "markdown",
      "source": [
        "dari visualisasi diatas kita dapat melihat persentasi dari pick dan ban hero yang ada di kejuaraan M5 dimana presentasi pick dan ban tertinggi ad pada hero valentina dan disusul oleh hero fredrin."
      ],
      "metadata": {
        "id": "LitJPl8NnKOn"
      }
    },
    {
      "cell_type": "code",
      "source": [
        "fig = px.bar(df.sort_values(by=\"T_BansPercentage\",ascending=False), x='Roles', y='T_BansPercentage',\n",
        "             title='Ban Percentage by Hero Roles',\n",
        "             labels={'Roles': 'Hero Roles', 'T_BansPercentage': 'Ban Percentage'},\n",
        "             color='T_BansPercentage',\n",
        "             color_continuous_scale='Viridis')\n",
        "\n",
        "fig.show()"
      ],
      "metadata": {
        "colab": {
          "base_uri": "https://localhost:8080/",
          "height": 542
        },
        "id": "FXzDA4RFWCPM",
        "outputId": "8f1d49cc-7eb7-4554-b0db-26ac980cc456"
      },
      "execution_count": 71,
      "outputs": [
        {
          "output_type": "display_data",
          "data": {
            "text/html": [
              "<html>\n",
              "<head><meta charset=\"utf-8\" /></head>\n",
              "<body>\n",
              "    <div>            <script src=\"https://cdnjs.cloudflare.com/ajax/libs/mathjax/2.7.5/MathJax.js?config=TeX-AMS-MML_SVG\"></script><script type=\"text/javascript\">if (window.MathJax && window.MathJax.Hub && window.MathJax.Hub.Config) {window.MathJax.Hub.Config({SVG: {font: \"STIX-Web\"}});}</script>                <script type=\"text/javascript\">window.PlotlyConfig = {MathJaxConfig: 'local'};</script>\n",
              "        <script charset=\"utf-8\" src=\"https://cdn.plot.ly/plotly-2.24.1.min.js\"></script>                <div id=\"8e0dc418-61b3-4b3d-a6d1-614055f9d6b2\" class=\"plotly-graph-div\" style=\"height:525px; width:100%;\"></div>            <script type=\"text/javascript\">                                    window.PLOTLYENV=window.PLOTLYENV || {};                                    if (document.getElementById(\"8e0dc418-61b3-4b3d-a6d1-614055f9d6b2\")) {                    Plotly.newPlot(                        \"8e0dc418-61b3-4b3d-a6d1-614055f9d6b2\",                        [{\"alignmentgroup\":\"True\",\"hovertemplate\":\"Hero Roles=%{x}\\u003cbr\\u003eBan Percentage=%{marker.color}\\u003cextra\\u003e\\u003c\\u002fextra\\u003e\",\"legendgroup\":\"\",\"marker\":{\"color\":[53.0,49.86,48.5,45.06,44.56,35.12,34.62,34.12,33.98,32.62,31.12,30.69,29.69,27.68,25.04,24.89,24.46,21.39,21.39,18.96,18.6,17.67,16.95,16.17,15.59,14.88,14.88,14.59,13.09,11.87,11.16,9.59,9.23,9.23,8.37,8.15,7.37,7.22,7.22,6.58,5.94,5.87,5.65,5.65,5.29,5.22,5.15,5.08,3.79,3.72,3.65,3.15,2.65,2.58,2.22,2.15,2.15,1.72,1.72,1.65,1.57,1.22,1.14,1.07,1.07,1.07,1.0,1.0,0.93,0.93,0.72,0.64,0.64,0.64,0.64,0.57,0.57,0.5,0.5,0.36,0.36,0.29,0.29,0.29,0.21,0.21,0.14,0.14,0.07,0.07,0.07,0.07,0.07,0.07,0.07,0.07,0.07,0.07,0.0,0.0,0.0,0.0,0.0,0.0,0.0,0.0,0.0,0.0,0.0,0.0,0.0,0.0,0.0,0.0,0.0],\"coloraxis\":\"coloraxis\",\"pattern\":{\"shape\":\"\"}},\"name\":\"\",\"offsetgroup\":\"\",\"orientation\":\"v\",\"showlegend\":false,\"textposition\":\"auto\",\"x\":[\"Support\",\"Assassin\",\"Mage\",\"Support\",\"Mage\",\"Tank\",\"Mage\",\"Tank\",\"Support\",\"Mage\",\"Fighter\",\"Fighter\",\"Mage\",\"Support \\u002f Assassin\",\"Tank\",\"Assassin\",\"Marksman\",\"Fighter\",\"Marksman\",\"Fighter\",\"Tank\",\"Tank\",\"Fighter\",\"Support \\u002f Mage\",\"Support\",\"Assassin\",\"Marksman\",\"Marksman\",\"Tank\",\"Marksman\",\"Fighter \\u002f Tank\",\"Tank\",\"Mage\",\"Mage\",\"Tank\",\"Marksman \\u002f Assassin\",\"Marksman\",\"Mage\",\"Support\",\"Mage\",\"Fighter\",\"Mage\",\"Assassin\",\"Mage\",\"Mage\",\"Marksman\",\"Support\",\"Mage\",\"Fighter \\u002f Tank\",\"Tank\",\"Assassin\",\"Mage\",\"Assassin\",\"Fighter\",\"Fighter\",\"Fighter\",\"Assassin\",\"Assassin\",\"Mage \\u002f Tank\",\"Support\",\"Marksman\",\"Tank\",\"Fighter\",\"Mage\",\"Mage\",\"Fighter\",\"Mage\",\"Tank\",\"Mage\",\"Tank\",\"Fighter \\u002f Mage\",\"Fighter\",\"Marksman \\u002f Assassin\",\"Fighter \\u002f Tank\",\"Fighter\",\"Fighter \\u002f Tank\",\"Fighter \\u002f Support\",\"Mage\",\"Fighter\",\"Fighter \\u002f Tank\",\"Mage\",\"Marksman\",\"Marksman\",\"Assassin \\u002f Mage\",\"Fighter\",\"Mage\",\"Tank\",\"Marksman \\u002f Support\",\"Fighter\",\"Support\",\"Marksman\",\"Assassin \\u002f Mage\",\"Mage \\u002f Assassin\",\"Marksman\",\"Mage\",\"Fighter\",\"Marksman\",\"Marksman\",\"Fighter\",\"Marksman \\u002f Mage\",\"Fighter \\u002f Mage\",\"Fighter\",\"Mage\",\"Assassin\",\"Mage\",\"Tank\",\"Fighter\",\"Mage \\u002f Support\",\"Fighter \\u002f Tank\",\"Mage\",\"Assassin\",\"Marksman \\u002f Fighter\",\"Mage\",\"Mage\",\"Fighter\"],\"xaxis\":\"x\",\"y\":[53.0,49.86,48.5,45.06,44.56,35.12,34.62,34.12,33.98,32.62,31.12,30.69,29.69,27.68,25.04,24.89,24.46,21.39,21.39,18.96,18.6,17.67,16.95,16.17,15.59,14.88,14.88,14.59,13.09,11.87,11.16,9.59,9.23,9.23,8.37,8.15,7.37,7.22,7.22,6.58,5.94,5.87,5.65,5.65,5.29,5.22,5.15,5.08,3.79,3.72,3.65,3.15,2.65,2.58,2.22,2.15,2.15,1.72,1.72,1.65,1.57,1.22,1.14,1.07,1.07,1.07,1.0,1.0,0.93,0.93,0.72,0.64,0.64,0.64,0.64,0.57,0.57,0.5,0.5,0.36,0.36,0.29,0.29,0.29,0.21,0.21,0.14,0.14,0.07,0.07,0.07,0.07,0.07,0.07,0.07,0.07,0.07,0.07,0.0,0.0,0.0,0.0,0.0,0.0,0.0,0.0,0.0,0.0,0.0,0.0,0.0,0.0,0.0,0.0,0.0],\"yaxis\":\"y\",\"type\":\"bar\"}],                        {\"template\":{\"data\":{\"histogram2dcontour\":[{\"type\":\"histogram2dcontour\",\"colorbar\":{\"outlinewidth\":0,\"ticks\":\"\"},\"colorscale\":[[0.0,\"#0d0887\"],[0.1111111111111111,\"#46039f\"],[0.2222222222222222,\"#7201a8\"],[0.3333333333333333,\"#9c179e\"],[0.4444444444444444,\"#bd3786\"],[0.5555555555555556,\"#d8576b\"],[0.6666666666666666,\"#ed7953\"],[0.7777777777777778,\"#fb9f3a\"],[0.8888888888888888,\"#fdca26\"],[1.0,\"#f0f921\"]]}],\"choropleth\":[{\"type\":\"choropleth\",\"colorbar\":{\"outlinewidth\":0,\"ticks\":\"\"}}],\"histogram2d\":[{\"type\":\"histogram2d\",\"colorbar\":{\"outlinewidth\":0,\"ticks\":\"\"},\"colorscale\":[[0.0,\"#0d0887\"],[0.1111111111111111,\"#46039f\"],[0.2222222222222222,\"#7201a8\"],[0.3333333333333333,\"#9c179e\"],[0.4444444444444444,\"#bd3786\"],[0.5555555555555556,\"#d8576b\"],[0.6666666666666666,\"#ed7953\"],[0.7777777777777778,\"#fb9f3a\"],[0.8888888888888888,\"#fdca26\"],[1.0,\"#f0f921\"]]}],\"heatmap\":[{\"type\":\"heatmap\",\"colorbar\":{\"outlinewidth\":0,\"ticks\":\"\"},\"colorscale\":[[0.0,\"#0d0887\"],[0.1111111111111111,\"#46039f\"],[0.2222222222222222,\"#7201a8\"],[0.3333333333333333,\"#9c179e\"],[0.4444444444444444,\"#bd3786\"],[0.5555555555555556,\"#d8576b\"],[0.6666666666666666,\"#ed7953\"],[0.7777777777777778,\"#fb9f3a\"],[0.8888888888888888,\"#fdca26\"],[1.0,\"#f0f921\"]]}],\"heatmapgl\":[{\"type\":\"heatmapgl\",\"colorbar\":{\"outlinewidth\":0,\"ticks\":\"\"},\"colorscale\":[[0.0,\"#0d0887\"],[0.1111111111111111,\"#46039f\"],[0.2222222222222222,\"#7201a8\"],[0.3333333333333333,\"#9c179e\"],[0.4444444444444444,\"#bd3786\"],[0.5555555555555556,\"#d8576b\"],[0.6666666666666666,\"#ed7953\"],[0.7777777777777778,\"#fb9f3a\"],[0.8888888888888888,\"#fdca26\"],[1.0,\"#f0f921\"]]}],\"contourcarpet\":[{\"type\":\"contourcarpet\",\"colorbar\":{\"outlinewidth\":0,\"ticks\":\"\"}}],\"contour\":[{\"type\":\"contour\",\"colorbar\":{\"outlinewidth\":0,\"ticks\":\"\"},\"colorscale\":[[0.0,\"#0d0887\"],[0.1111111111111111,\"#46039f\"],[0.2222222222222222,\"#7201a8\"],[0.3333333333333333,\"#9c179e\"],[0.4444444444444444,\"#bd3786\"],[0.5555555555555556,\"#d8576b\"],[0.6666666666666666,\"#ed7953\"],[0.7777777777777778,\"#fb9f3a\"],[0.8888888888888888,\"#fdca26\"],[1.0,\"#f0f921\"]]}],\"surface\":[{\"type\":\"surface\",\"colorbar\":{\"outlinewidth\":0,\"ticks\":\"\"},\"colorscale\":[[0.0,\"#0d0887\"],[0.1111111111111111,\"#46039f\"],[0.2222222222222222,\"#7201a8\"],[0.3333333333333333,\"#9c179e\"],[0.4444444444444444,\"#bd3786\"],[0.5555555555555556,\"#d8576b\"],[0.6666666666666666,\"#ed7953\"],[0.7777777777777778,\"#fb9f3a\"],[0.8888888888888888,\"#fdca26\"],[1.0,\"#f0f921\"]]}],\"mesh3d\":[{\"type\":\"mesh3d\",\"colorbar\":{\"outlinewidth\":0,\"ticks\":\"\"}}],\"scatter\":[{\"fillpattern\":{\"fillmode\":\"overlay\",\"size\":10,\"solidity\":0.2},\"type\":\"scatter\"}],\"parcoords\":[{\"type\":\"parcoords\",\"line\":{\"colorbar\":{\"outlinewidth\":0,\"ticks\":\"\"}}}],\"scatterpolargl\":[{\"type\":\"scatterpolargl\",\"marker\":{\"colorbar\":{\"outlinewidth\":0,\"ticks\":\"\"}}}],\"bar\":[{\"error_x\":{\"color\":\"#2a3f5f\"},\"error_y\":{\"color\":\"#2a3f5f\"},\"marker\":{\"line\":{\"color\":\"#E5ECF6\",\"width\":0.5},\"pattern\":{\"fillmode\":\"overlay\",\"size\":10,\"solidity\":0.2}},\"type\":\"bar\"}],\"scattergeo\":[{\"type\":\"scattergeo\",\"marker\":{\"colorbar\":{\"outlinewidth\":0,\"ticks\":\"\"}}}],\"scatterpolar\":[{\"type\":\"scatterpolar\",\"marker\":{\"colorbar\":{\"outlinewidth\":0,\"ticks\":\"\"}}}],\"histogram\":[{\"marker\":{\"pattern\":{\"fillmode\":\"overlay\",\"size\":10,\"solidity\":0.2}},\"type\":\"histogram\"}],\"scattergl\":[{\"type\":\"scattergl\",\"marker\":{\"colorbar\":{\"outlinewidth\":0,\"ticks\":\"\"}}}],\"scatter3d\":[{\"type\":\"scatter3d\",\"line\":{\"colorbar\":{\"outlinewidth\":0,\"ticks\":\"\"}},\"marker\":{\"colorbar\":{\"outlinewidth\":0,\"ticks\":\"\"}}}],\"scattermapbox\":[{\"type\":\"scattermapbox\",\"marker\":{\"colorbar\":{\"outlinewidth\":0,\"ticks\":\"\"}}}],\"scatterternary\":[{\"type\":\"scatterternary\",\"marker\":{\"colorbar\":{\"outlinewidth\":0,\"ticks\":\"\"}}}],\"scattercarpet\":[{\"type\":\"scattercarpet\",\"marker\":{\"colorbar\":{\"outlinewidth\":0,\"ticks\":\"\"}}}],\"carpet\":[{\"aaxis\":{\"endlinecolor\":\"#2a3f5f\",\"gridcolor\":\"white\",\"linecolor\":\"white\",\"minorgridcolor\":\"white\",\"startlinecolor\":\"#2a3f5f\"},\"baxis\":{\"endlinecolor\":\"#2a3f5f\",\"gridcolor\":\"white\",\"linecolor\":\"white\",\"minorgridcolor\":\"white\",\"startlinecolor\":\"#2a3f5f\"},\"type\":\"carpet\"}],\"table\":[{\"cells\":{\"fill\":{\"color\":\"#EBF0F8\"},\"line\":{\"color\":\"white\"}},\"header\":{\"fill\":{\"color\":\"#C8D4E3\"},\"line\":{\"color\":\"white\"}},\"type\":\"table\"}],\"barpolar\":[{\"marker\":{\"line\":{\"color\":\"#E5ECF6\",\"width\":0.5},\"pattern\":{\"fillmode\":\"overlay\",\"size\":10,\"solidity\":0.2}},\"type\":\"barpolar\"}],\"pie\":[{\"automargin\":true,\"type\":\"pie\"}]},\"layout\":{\"autotypenumbers\":\"strict\",\"colorway\":[\"#636efa\",\"#EF553B\",\"#00cc96\",\"#ab63fa\",\"#FFA15A\",\"#19d3f3\",\"#FF6692\",\"#B6E880\",\"#FF97FF\",\"#FECB52\"],\"font\":{\"color\":\"#2a3f5f\"},\"hovermode\":\"closest\",\"hoverlabel\":{\"align\":\"left\"},\"paper_bgcolor\":\"white\",\"plot_bgcolor\":\"#E5ECF6\",\"polar\":{\"bgcolor\":\"#E5ECF6\",\"angularaxis\":{\"gridcolor\":\"white\",\"linecolor\":\"white\",\"ticks\":\"\"},\"radialaxis\":{\"gridcolor\":\"white\",\"linecolor\":\"white\",\"ticks\":\"\"}},\"ternary\":{\"bgcolor\":\"#E5ECF6\",\"aaxis\":{\"gridcolor\":\"white\",\"linecolor\":\"white\",\"ticks\":\"\"},\"baxis\":{\"gridcolor\":\"white\",\"linecolor\":\"white\",\"ticks\":\"\"},\"caxis\":{\"gridcolor\":\"white\",\"linecolor\":\"white\",\"ticks\":\"\"}},\"coloraxis\":{\"colorbar\":{\"outlinewidth\":0,\"ticks\":\"\"}},\"colorscale\":{\"sequential\":[[0.0,\"#0d0887\"],[0.1111111111111111,\"#46039f\"],[0.2222222222222222,\"#7201a8\"],[0.3333333333333333,\"#9c179e\"],[0.4444444444444444,\"#bd3786\"],[0.5555555555555556,\"#d8576b\"],[0.6666666666666666,\"#ed7953\"],[0.7777777777777778,\"#fb9f3a\"],[0.8888888888888888,\"#fdca26\"],[1.0,\"#f0f921\"]],\"sequentialminus\":[[0.0,\"#0d0887\"],[0.1111111111111111,\"#46039f\"],[0.2222222222222222,\"#7201a8\"],[0.3333333333333333,\"#9c179e\"],[0.4444444444444444,\"#bd3786\"],[0.5555555555555556,\"#d8576b\"],[0.6666666666666666,\"#ed7953\"],[0.7777777777777778,\"#fb9f3a\"],[0.8888888888888888,\"#fdca26\"],[1.0,\"#f0f921\"]],\"diverging\":[[0,\"#8e0152\"],[0.1,\"#c51b7d\"],[0.2,\"#de77ae\"],[0.3,\"#f1b6da\"],[0.4,\"#fde0ef\"],[0.5,\"#f7f7f7\"],[0.6,\"#e6f5d0\"],[0.7,\"#b8e186\"],[0.8,\"#7fbc41\"],[0.9,\"#4d9221\"],[1,\"#276419\"]]},\"xaxis\":{\"gridcolor\":\"white\",\"linecolor\":\"white\",\"ticks\":\"\",\"title\":{\"standoff\":15},\"zerolinecolor\":\"white\",\"automargin\":true,\"zerolinewidth\":2},\"yaxis\":{\"gridcolor\":\"white\",\"linecolor\":\"white\",\"ticks\":\"\",\"title\":{\"standoff\":15},\"zerolinecolor\":\"white\",\"automargin\":true,\"zerolinewidth\":2},\"scene\":{\"xaxis\":{\"backgroundcolor\":\"#E5ECF6\",\"gridcolor\":\"white\",\"linecolor\":\"white\",\"showbackground\":true,\"ticks\":\"\",\"zerolinecolor\":\"white\",\"gridwidth\":2},\"yaxis\":{\"backgroundcolor\":\"#E5ECF6\",\"gridcolor\":\"white\",\"linecolor\":\"white\",\"showbackground\":true,\"ticks\":\"\",\"zerolinecolor\":\"white\",\"gridwidth\":2},\"zaxis\":{\"backgroundcolor\":\"#E5ECF6\",\"gridcolor\":\"white\",\"linecolor\":\"white\",\"showbackground\":true,\"ticks\":\"\",\"zerolinecolor\":\"white\",\"gridwidth\":2}},\"shapedefaults\":{\"line\":{\"color\":\"#2a3f5f\"}},\"annotationdefaults\":{\"arrowcolor\":\"#2a3f5f\",\"arrowhead\":0,\"arrowwidth\":1},\"geo\":{\"bgcolor\":\"white\",\"landcolor\":\"#E5ECF6\",\"subunitcolor\":\"white\",\"showland\":true,\"showlakes\":true,\"lakecolor\":\"white\"},\"title\":{\"x\":0.05},\"mapbox\":{\"style\":\"light\"}}},\"xaxis\":{\"anchor\":\"y\",\"domain\":[0.0,1.0],\"title\":{\"text\":\"Hero Roles\"}},\"yaxis\":{\"anchor\":\"x\",\"domain\":[0.0,1.0],\"title\":{\"text\":\"Ban Percentage\"}},\"coloraxis\":{\"colorbar\":{\"title\":{\"text\":\"Ban Percentage\"}},\"colorscale\":[[0.0,\"#440154\"],[0.1111111111111111,\"#482878\"],[0.2222222222222222,\"#3e4989\"],[0.3333333333333333,\"#31688e\"],[0.4444444444444444,\"#26828e\"],[0.5555555555555556,\"#1f9e89\"],[0.6666666666666666,\"#35b779\"],[0.7777777777777778,\"#6ece58\"],[0.8888888888888888,\"#b5de2b\"],[1.0,\"#fde725\"]]},\"legend\":{\"tracegroupgap\":0},\"title\":{\"text\":\"Ban Percentage by Hero Roles\"},\"barmode\":\"relative\"},                        {\"responsive\": true}                    ).then(function(){\n",
              "                            \n",
              "var gd = document.getElementById('8e0dc418-61b3-4b3d-a6d1-614055f9d6b2');\n",
              "var x = new MutationObserver(function (mutations, observer) {{\n",
              "        var display = window.getComputedStyle(gd).display;\n",
              "        if (!display || display === 'none') {{\n",
              "            console.log([gd, 'removed!']);\n",
              "            Plotly.purge(gd);\n",
              "            observer.disconnect();\n",
              "        }}\n",
              "}});\n",
              "\n",
              "// Listen for the removal of the full notebook cells\n",
              "var notebookContainer = gd.closest('#notebook-container');\n",
              "if (notebookContainer) {{\n",
              "    x.observe(notebookContainer, {childList: true});\n",
              "}}\n",
              "\n",
              "// Listen for the clearing of the current output cell\n",
              "var outputEl = gd.closest('.output');\n",
              "if (outputEl) {{\n",
              "    x.observe(outputEl, {childList: true});\n",
              "}}\n",
              "\n",
              "                        })                };                            </script>        </div>\n",
              "</body>\n",
              "</html>"
            ]
          },
          "metadata": {}
        }
      ]
    },
    {
      "cell_type": "markdown",
      "source": [
        "Berdasaran visualisasi diatas kita dapat melihat bahwa role hero dengan persentase ban yang paling tinggi adalah role mage."
      ],
      "metadata": {
        "id": "-1o7fP8dnn_m"
      }
    },
    {
      "cell_type": "markdown",
      "source": [
        "##**Verify Data Quality**"
      ],
      "metadata": {
        "id": "BqwrKc6WXFpz"
      }
    },
    {
      "cell_type": "markdown",
      "source": [
        "####Missing Values"
      ],
      "metadata": {
        "id": "JrPhpE3VXTMR"
      }
    },
    {
      "cell_type": "code",
      "source": [
        "missing_values = df.isnull().sum()\n",
        "print (missing_values)"
      ],
      "metadata": {
        "id": "iq2vTmQJXhuj",
        "colab": {
          "base_uri": "https://localhost:8080/"
        },
        "outputId": "511e145a-3505-49d2-8774-d7db5cd74a34"
      },
      "execution_count": 72,
      "outputs": [
        {
          "output_type": "stream",
          "name": "stdout",
          "text": [
            "Hero                      0\n",
            "T_Picked                  0\n",
            "T_Wins                    0\n",
            "T_Loses                   0\n",
            "T_WinRate                 2\n",
            "T_PickPercentage          0\n",
            "BS_Picked                 0\n",
            "BS_Wins                   0\n",
            "BS_Loses                  0\n",
            "BS_WinRate               11\n",
            "RS_Picked                 0\n",
            "RS_Wins                   0\n",
            "RS_Loses                  0\n",
            "RS_WinRate                4\n",
            "T_Banned                  0\n",
            "T_BansPercentage          0\n",
            "T_PicksBans               0\n",
            "T_PicksBansPercentage     0\n",
            "Roles                     0\n",
            "dtype: int64\n"
          ]
        }
      ]
    },
    {
      "cell_type": "markdown",
      "source": [
        "\n",
        "1. **Hero**: Tidak ada nilai yang hilang dalam kolom ini.\n",
        "2. **T_Picked**: Tidak ada nilai yang hilang dalam kolom ini.\n",
        "3. **T_Wins**: Tidak ada nilai yang hilang dalam kolom ini.\n",
        "4. **T_Loses**: Tidak ada nilai yang hilang dalam kolom ini.\n",
        "5. **T_WinRate**: Terdapat 2 nilai yang hilang dalam kolom ini.\n",
        "6. **T_PickPercentage**: Tidak ada nilai yang hilang dalam kolom ini.\n",
        "7. **BS_Picked**: Tidak ada nilai yang hilang dalam kolom ini.\n",
        "8. **BS_Wins**: Tidak ada nilai yang hilang dalam kolom ini.\n",
        "9. **BS_Loses**: Tidak ada nilai yang hilang dalam kolom ini.\n",
        "10. **BS_WinRate**: Terdapat 11 nilai yang hilang dalam kolom ini.\n",
        "11. **RS_Picked**: Tidak ada nilai yang hilang dalam kolom ini.\n",
        "12. **RS_Wins**: Tidak ada nilai yang hilang dalam kolom ini.\n",
        "13. **RS_Loses**: Tidak ada nilai yang hilang dalam kolom ini.\n",
        "14. **RS_WinRate**: Terdapat 4 nilai yang hilang dalam kolom ini.\n",
        "15. **T_Banned**: Tidak ada nilai yang hilang dalam kolom ini.\n",
        "16. **T_BansPercentage**: Tidak ada nilai yang hilang dalam kolom ini.\n",
        "17. **T_PicksBans**: Tidak ada nilai yang hilang dalam kolom ini.\n",
        "18. **T_PicksBansPercentage**: Tidak ada nilai yang hilang dalam kolom ini.\n",
        "19. **Roles**: Tidak ada nilai yang hilang dalam kolom ini.\n"
      ],
      "metadata": {
        "id": "2qJ5hwEqXoLo"
      }
    },
    {
      "cell_type": "markdown",
      "source": [
        "####Outliers Values"
      ],
      "metadata": {
        "id": "jEeCU-vVXV84"
      }
    },
    {
      "cell_type": "code",
      "source": [
        "fig = px.box(df, y='T_WinRate', title='Box Plot of Overall Win Rates')\n",
        "fig.update_layout(xaxis_title='Win Rate')\n",
        "fig.show()"
      ],
      "metadata": {
        "id": "HGiqZ6aOX6HY",
        "colab": {
          "base_uri": "https://localhost:8080/",
          "height": 542
        },
        "outputId": "66b4c01f-f810-4b49-c165-0d25a6137fbd"
      },
      "execution_count": 73,
      "outputs": [
        {
          "output_type": "display_data",
          "data": {
            "text/html": [
              "<html>\n",
              "<head><meta charset=\"utf-8\" /></head>\n",
              "<body>\n",
              "    <div>            <script src=\"https://cdnjs.cloudflare.com/ajax/libs/mathjax/2.7.5/MathJax.js?config=TeX-AMS-MML_SVG\"></script><script type=\"text/javascript\">if (window.MathJax && window.MathJax.Hub && window.MathJax.Hub.Config) {window.MathJax.Hub.Config({SVG: {font: \"STIX-Web\"}});}</script>                <script type=\"text/javascript\">window.PlotlyConfig = {MathJaxConfig: 'local'};</script>\n",
              "        <script charset=\"utf-8\" src=\"https://cdn.plot.ly/plotly-2.24.1.min.js\"></script>                <div id=\"a51d8468-0627-40df-b38e-df380e7d50c5\" class=\"plotly-graph-div\" style=\"height:525px; width:100%;\"></div>            <script type=\"text/javascript\">                                    window.PLOTLYENV=window.PLOTLYENV || {};                                    if (document.getElementById(\"a51d8468-0627-40df-b38e-df380e7d50c5\")) {                    Plotly.newPlot(                        \"a51d8468-0627-40df-b38e-df380e7d50c5\",                        [{\"alignmentgroup\":\"True\",\"hovertemplate\":\"T_WinRate=%{y}\\u003cextra\\u003e\\u003c\\u002fextra\\u003e\",\"legendgroup\":\"\",\"marker\":{\"color\":\"#636efa\"},\"name\":\"\",\"notched\":false,\"offsetgroup\":\"\",\"orientation\":\"v\",\"showlegend\":false,\"x0\":\" \",\"xaxis\":\"x\",\"y\":[45.94,52.75,56.13,50.28,50.8,44.89,54.13,53.81,51.28,53.19,53.81,49.87,46.13,46.34,43.96,50.0,48.67,51.35,46.62,56.42,55.91,48.22,44.05,50.0,55.08,54.78,56.22,45.41,43.88,48.42,39.66,45.61,51.18,52.66,40.85,60.99,44.09,55.65,51.46,46.67,43.68,50.6,47.5,55.13,63.51,48.65,53.42,47.22,43.06,51.43,47.83,40.63,56.45,71.19,52.54,43.1,59.57,34.88,47.62,47.62,67.57,41.94,44.83,41.67,54.55,33.33,30.0,29.41,42.86,53.85,30.77,23.08,58.33,58.33,41.67,33.33,20.0,33.33,33.33,22.22,50.0,37.5,37.5,42.86,14.29,50.0,16.67,80.0,80.0,60.0,20.0,0.0,75.0,75.0,25.0,25.0,25.0,0.0,66.67,33.33,100.0,50.0,50.0,0.0,100.0,100.0,100.0,0.0,0.0,0.0,0.0,0.0,0.0,null,null],\"y0\":\" \",\"yaxis\":\"y\",\"type\":\"box\"}],                        {\"template\":{\"data\":{\"histogram2dcontour\":[{\"type\":\"histogram2dcontour\",\"colorbar\":{\"outlinewidth\":0,\"ticks\":\"\"},\"colorscale\":[[0.0,\"#0d0887\"],[0.1111111111111111,\"#46039f\"],[0.2222222222222222,\"#7201a8\"],[0.3333333333333333,\"#9c179e\"],[0.4444444444444444,\"#bd3786\"],[0.5555555555555556,\"#d8576b\"],[0.6666666666666666,\"#ed7953\"],[0.7777777777777778,\"#fb9f3a\"],[0.8888888888888888,\"#fdca26\"],[1.0,\"#f0f921\"]]}],\"choropleth\":[{\"type\":\"choropleth\",\"colorbar\":{\"outlinewidth\":0,\"ticks\":\"\"}}],\"histogram2d\":[{\"type\":\"histogram2d\",\"colorbar\":{\"outlinewidth\":0,\"ticks\":\"\"},\"colorscale\":[[0.0,\"#0d0887\"],[0.1111111111111111,\"#46039f\"],[0.2222222222222222,\"#7201a8\"],[0.3333333333333333,\"#9c179e\"],[0.4444444444444444,\"#bd3786\"],[0.5555555555555556,\"#d8576b\"],[0.6666666666666666,\"#ed7953\"],[0.7777777777777778,\"#fb9f3a\"],[0.8888888888888888,\"#fdca26\"],[1.0,\"#f0f921\"]]}],\"heatmap\":[{\"type\":\"heatmap\",\"colorbar\":{\"outlinewidth\":0,\"ticks\":\"\"},\"colorscale\":[[0.0,\"#0d0887\"],[0.1111111111111111,\"#46039f\"],[0.2222222222222222,\"#7201a8\"],[0.3333333333333333,\"#9c179e\"],[0.4444444444444444,\"#bd3786\"],[0.5555555555555556,\"#d8576b\"],[0.6666666666666666,\"#ed7953\"],[0.7777777777777778,\"#fb9f3a\"],[0.8888888888888888,\"#fdca26\"],[1.0,\"#f0f921\"]]}],\"heatmapgl\":[{\"type\":\"heatmapgl\",\"colorbar\":{\"outlinewidth\":0,\"ticks\":\"\"},\"colorscale\":[[0.0,\"#0d0887\"],[0.1111111111111111,\"#46039f\"],[0.2222222222222222,\"#7201a8\"],[0.3333333333333333,\"#9c179e\"],[0.4444444444444444,\"#bd3786\"],[0.5555555555555556,\"#d8576b\"],[0.6666666666666666,\"#ed7953\"],[0.7777777777777778,\"#fb9f3a\"],[0.8888888888888888,\"#fdca26\"],[1.0,\"#f0f921\"]]}],\"contourcarpet\":[{\"type\":\"contourcarpet\",\"colorbar\":{\"outlinewidth\":0,\"ticks\":\"\"}}],\"contour\":[{\"type\":\"contour\",\"colorbar\":{\"outlinewidth\":0,\"ticks\":\"\"},\"colorscale\":[[0.0,\"#0d0887\"],[0.1111111111111111,\"#46039f\"],[0.2222222222222222,\"#7201a8\"],[0.3333333333333333,\"#9c179e\"],[0.4444444444444444,\"#bd3786\"],[0.5555555555555556,\"#d8576b\"],[0.6666666666666666,\"#ed7953\"],[0.7777777777777778,\"#fb9f3a\"],[0.8888888888888888,\"#fdca26\"],[1.0,\"#f0f921\"]]}],\"surface\":[{\"type\":\"surface\",\"colorbar\":{\"outlinewidth\":0,\"ticks\":\"\"},\"colorscale\":[[0.0,\"#0d0887\"],[0.1111111111111111,\"#46039f\"],[0.2222222222222222,\"#7201a8\"],[0.3333333333333333,\"#9c179e\"],[0.4444444444444444,\"#bd3786\"],[0.5555555555555556,\"#d8576b\"],[0.6666666666666666,\"#ed7953\"],[0.7777777777777778,\"#fb9f3a\"],[0.8888888888888888,\"#fdca26\"],[1.0,\"#f0f921\"]]}],\"mesh3d\":[{\"type\":\"mesh3d\",\"colorbar\":{\"outlinewidth\":0,\"ticks\":\"\"}}],\"scatter\":[{\"fillpattern\":{\"fillmode\":\"overlay\",\"size\":10,\"solidity\":0.2},\"type\":\"scatter\"}],\"parcoords\":[{\"type\":\"parcoords\",\"line\":{\"colorbar\":{\"outlinewidth\":0,\"ticks\":\"\"}}}],\"scatterpolargl\":[{\"type\":\"scatterpolargl\",\"marker\":{\"colorbar\":{\"outlinewidth\":0,\"ticks\":\"\"}}}],\"bar\":[{\"error_x\":{\"color\":\"#2a3f5f\"},\"error_y\":{\"color\":\"#2a3f5f\"},\"marker\":{\"line\":{\"color\":\"#E5ECF6\",\"width\":0.5},\"pattern\":{\"fillmode\":\"overlay\",\"size\":10,\"solidity\":0.2}},\"type\":\"bar\"}],\"scattergeo\":[{\"type\":\"scattergeo\",\"marker\":{\"colorbar\":{\"outlinewidth\":0,\"ticks\":\"\"}}}],\"scatterpolar\":[{\"type\":\"scatterpolar\",\"marker\":{\"colorbar\":{\"outlinewidth\":0,\"ticks\":\"\"}}}],\"histogram\":[{\"marker\":{\"pattern\":{\"fillmode\":\"overlay\",\"size\":10,\"solidity\":0.2}},\"type\":\"histogram\"}],\"scattergl\":[{\"type\":\"scattergl\",\"marker\":{\"colorbar\":{\"outlinewidth\":0,\"ticks\":\"\"}}}],\"scatter3d\":[{\"type\":\"scatter3d\",\"line\":{\"colorbar\":{\"outlinewidth\":0,\"ticks\":\"\"}},\"marker\":{\"colorbar\":{\"outlinewidth\":0,\"ticks\":\"\"}}}],\"scattermapbox\":[{\"type\":\"scattermapbox\",\"marker\":{\"colorbar\":{\"outlinewidth\":0,\"ticks\":\"\"}}}],\"scatterternary\":[{\"type\":\"scatterternary\",\"marker\":{\"colorbar\":{\"outlinewidth\":0,\"ticks\":\"\"}}}],\"scattercarpet\":[{\"type\":\"scattercarpet\",\"marker\":{\"colorbar\":{\"outlinewidth\":0,\"ticks\":\"\"}}}],\"carpet\":[{\"aaxis\":{\"endlinecolor\":\"#2a3f5f\",\"gridcolor\":\"white\",\"linecolor\":\"white\",\"minorgridcolor\":\"white\",\"startlinecolor\":\"#2a3f5f\"},\"baxis\":{\"endlinecolor\":\"#2a3f5f\",\"gridcolor\":\"white\",\"linecolor\":\"white\",\"minorgridcolor\":\"white\",\"startlinecolor\":\"#2a3f5f\"},\"type\":\"carpet\"}],\"table\":[{\"cells\":{\"fill\":{\"color\":\"#EBF0F8\"},\"line\":{\"color\":\"white\"}},\"header\":{\"fill\":{\"color\":\"#C8D4E3\"},\"line\":{\"color\":\"white\"}},\"type\":\"table\"}],\"barpolar\":[{\"marker\":{\"line\":{\"color\":\"#E5ECF6\",\"width\":0.5},\"pattern\":{\"fillmode\":\"overlay\",\"size\":10,\"solidity\":0.2}},\"type\":\"barpolar\"}],\"pie\":[{\"automargin\":true,\"type\":\"pie\"}]},\"layout\":{\"autotypenumbers\":\"strict\",\"colorway\":[\"#636efa\",\"#EF553B\",\"#00cc96\",\"#ab63fa\",\"#FFA15A\",\"#19d3f3\",\"#FF6692\",\"#B6E880\",\"#FF97FF\",\"#FECB52\"],\"font\":{\"color\":\"#2a3f5f\"},\"hovermode\":\"closest\",\"hoverlabel\":{\"align\":\"left\"},\"paper_bgcolor\":\"white\",\"plot_bgcolor\":\"#E5ECF6\",\"polar\":{\"bgcolor\":\"#E5ECF6\",\"angularaxis\":{\"gridcolor\":\"white\",\"linecolor\":\"white\",\"ticks\":\"\"},\"radialaxis\":{\"gridcolor\":\"white\",\"linecolor\":\"white\",\"ticks\":\"\"}},\"ternary\":{\"bgcolor\":\"#E5ECF6\",\"aaxis\":{\"gridcolor\":\"white\",\"linecolor\":\"white\",\"ticks\":\"\"},\"baxis\":{\"gridcolor\":\"white\",\"linecolor\":\"white\",\"ticks\":\"\"},\"caxis\":{\"gridcolor\":\"white\",\"linecolor\":\"white\",\"ticks\":\"\"}},\"coloraxis\":{\"colorbar\":{\"outlinewidth\":0,\"ticks\":\"\"}},\"colorscale\":{\"sequential\":[[0.0,\"#0d0887\"],[0.1111111111111111,\"#46039f\"],[0.2222222222222222,\"#7201a8\"],[0.3333333333333333,\"#9c179e\"],[0.4444444444444444,\"#bd3786\"],[0.5555555555555556,\"#d8576b\"],[0.6666666666666666,\"#ed7953\"],[0.7777777777777778,\"#fb9f3a\"],[0.8888888888888888,\"#fdca26\"],[1.0,\"#f0f921\"]],\"sequentialminus\":[[0.0,\"#0d0887\"],[0.1111111111111111,\"#46039f\"],[0.2222222222222222,\"#7201a8\"],[0.3333333333333333,\"#9c179e\"],[0.4444444444444444,\"#bd3786\"],[0.5555555555555556,\"#d8576b\"],[0.6666666666666666,\"#ed7953\"],[0.7777777777777778,\"#fb9f3a\"],[0.8888888888888888,\"#fdca26\"],[1.0,\"#f0f921\"]],\"diverging\":[[0,\"#8e0152\"],[0.1,\"#c51b7d\"],[0.2,\"#de77ae\"],[0.3,\"#f1b6da\"],[0.4,\"#fde0ef\"],[0.5,\"#f7f7f7\"],[0.6,\"#e6f5d0\"],[0.7,\"#b8e186\"],[0.8,\"#7fbc41\"],[0.9,\"#4d9221\"],[1,\"#276419\"]]},\"xaxis\":{\"gridcolor\":\"white\",\"linecolor\":\"white\",\"ticks\":\"\",\"title\":{\"standoff\":15},\"zerolinecolor\":\"white\",\"automargin\":true,\"zerolinewidth\":2},\"yaxis\":{\"gridcolor\":\"white\",\"linecolor\":\"white\",\"ticks\":\"\",\"title\":{\"standoff\":15},\"zerolinecolor\":\"white\",\"automargin\":true,\"zerolinewidth\":2},\"scene\":{\"xaxis\":{\"backgroundcolor\":\"#E5ECF6\",\"gridcolor\":\"white\",\"linecolor\":\"white\",\"showbackground\":true,\"ticks\":\"\",\"zerolinecolor\":\"white\",\"gridwidth\":2},\"yaxis\":{\"backgroundcolor\":\"#E5ECF6\",\"gridcolor\":\"white\",\"linecolor\":\"white\",\"showbackground\":true,\"ticks\":\"\",\"zerolinecolor\":\"white\",\"gridwidth\":2},\"zaxis\":{\"backgroundcolor\":\"#E5ECF6\",\"gridcolor\":\"white\",\"linecolor\":\"white\",\"showbackground\":true,\"ticks\":\"\",\"zerolinecolor\":\"white\",\"gridwidth\":2}},\"shapedefaults\":{\"line\":{\"color\":\"#2a3f5f\"}},\"annotationdefaults\":{\"arrowcolor\":\"#2a3f5f\",\"arrowhead\":0,\"arrowwidth\":1},\"geo\":{\"bgcolor\":\"white\",\"landcolor\":\"#E5ECF6\",\"subunitcolor\":\"white\",\"showland\":true,\"showlakes\":true,\"lakecolor\":\"white\"},\"title\":{\"x\":0.05},\"mapbox\":{\"style\":\"light\"}}},\"xaxis\":{\"anchor\":\"y\",\"domain\":[0.0,1.0],\"title\":{\"text\":\"Win Rate\"}},\"yaxis\":{\"anchor\":\"x\",\"domain\":[0.0,1.0],\"title\":{\"text\":\"T_WinRate\"}},\"legend\":{\"tracegroupgap\":0},\"title\":{\"text\":\"Box Plot of Overall Win Rates\"},\"boxmode\":\"group\"},                        {\"responsive\": true}                    ).then(function(){\n",
              "                            \n",
              "var gd = document.getElementById('a51d8468-0627-40df-b38e-df380e7d50c5');\n",
              "var x = new MutationObserver(function (mutations, observer) {{\n",
              "        var display = window.getComputedStyle(gd).display;\n",
              "        if (!display || display === 'none') {{\n",
              "            console.log([gd, 'removed!']);\n",
              "            Plotly.purge(gd);\n",
              "            observer.disconnect();\n",
              "        }}\n",
              "}});\n",
              "\n",
              "// Listen for the removal of the full notebook cells\n",
              "var notebookContainer = gd.closest('#notebook-container');\n",
              "if (notebookContainer) {{\n",
              "    x.observe(notebookContainer, {childList: true});\n",
              "}}\n",
              "\n",
              "// Listen for the clearing of the current output cell\n",
              "var outputEl = gd.closest('.output');\n",
              "if (outputEl) {{\n",
              "    x.observe(outputEl, {childList: true});\n",
              "}}\n",
              "\n",
              "                        })                };                            </script>        </div>\n",
              "</body>\n",
              "</html>"
            ]
          },
          "metadata": {}
        }
      ]
    },
    {
      "cell_type": "markdown",
      "source": [
        "Dari visualisasi diatas kita dapat mengetahui bahwa dalam keseluruhan game yang total win ratenya 100, 80, dan 0 sangat jarang."
      ],
      "metadata": {
        "id": "ggn0R2wCXuSC"
      }
    },
    {
      "cell_type": "markdown",
      "source": [
        "####Duplicated Values"
      ],
      "metadata": {
        "id": "vWjwGwZaXaod"
      }
    },
    {
      "cell_type": "code",
      "source": [
        "print(\"Total Duplication: \", df.duplicated().sum())"
      ],
      "metadata": {
        "id": "7wcta1dbX8l3",
        "colab": {
          "base_uri": "https://localhost:8080/"
        },
        "outputId": "963f1196-e875-40dd-c2da-7aeb6713a58b"
      },
      "execution_count": 74,
      "outputs": [
        {
          "output_type": "stream",
          "name": "stdout",
          "text": [
            "Total Duplication:  0\n"
          ]
        }
      ]
    },
    {
      "cell_type": "markdown",
      "source": [
        "Berdasarkan hasil diatas kita dapat mengetahui bahwa tidak ada data yang terduplikasi"
      ],
      "metadata": {
        "id": "VKTUrMJAX0fv"
      }
    },
    {
      "cell_type": "markdown",
      "source": [
        "####Inconsistent Values / Noise (Optional)"
      ],
      "metadata": {
        "id": "q0_lULWDX-y6"
      }
    },
    {
      "cell_type": "code",
      "source": [
        "#Tambahkan kode untuk mengecek apakah ada nilai inkosisten/noise pada tiap kolom di dataset kalian ya (OPSIONAL)"
      ],
      "metadata": {
        "id": "cnvHMqE3YawE"
      },
      "execution_count": 75,
      "outputs": []
    },
    {
      "cell_type": "markdown",
      "source": [
        "Jangan lupa juga untuk berikan penjelasan di sini (OPSIONAL)"
      ],
      "metadata": {
        "id": "zN9xijkWYhq2"
      }
    }
  ]
}